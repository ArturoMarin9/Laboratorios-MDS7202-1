{
  "cells": [
    {
      "cell_type": "markdown",
      "metadata": {
        "cell_id": "b5c0d2440b3e4995a794ded565213150",
        "deepnote_cell_type": "markdown",
        "id": "_Mql1uRoI5v5"
      },
      "source": [
        "<h1><center>Laboratorio 9: Optimización de modelos 💯</center></h1>\n",
        "\n",
        "<center><strong>MDS7202: Laboratorio de Programación Científica para Ciencia de Datos</strong></center>"
      ]
    },
    {
      "cell_type": "markdown",
      "metadata": {
        "cell_id": "bfb94b9656f145ad83e81b75d218cb70",
        "deepnote_cell_type": "markdown",
        "id": "FAPGIlEAI5v8"
      },
      "source": [
        "### Cuerpo Docente:\n",
        "\n",
        "- Profesores: Ignacio Meza, Sebastián Tinoco\n",
        "- Auxiliares: Catherine Benavides y Consuelo Rojas\n",
        "- Ayudante: Nicolás Ojeda, Eduardo Moya"
      ]
    },
    {
      "cell_type": "markdown",
      "metadata": {
        "cell_id": "b1b537fdd27c43909a49d3476ce64d91",
        "deepnote_cell_type": "markdown",
        "id": "8NozgbkZI5v9"
      },
      "source": [
        "### Equipo: Los Galácticos\n",
        "\n",
        "- Nombre de alumno 1: Arturo Marín\n",
        "- Nombre de alumno 2: Martín González\n"
      ]
    },
    {
      "cell_type": "markdown",
      "metadata": {
        "cell_id": "b7dbdd30ab544cb8a8afe00648a586ae",
        "deepnote_cell_type": "markdown",
        "id": "vHU9DI6wI5v9"
      },
      "source": [
        "### Temas a tratar\n",
        "\n",
        "- Predicción de demanda usando `xgboost`\n",
        "- Búsqueda del modelo óptimo de clasificación usando `optuna`\n",
        "- Uso de pipelines.\n",
        "\n",
        "### Reglas:\n",
        "\n",
        "- **Grupos de 2 personas**\n",
        "- Cualquier duda fuera del horario de clases al foro. Mensajes al equipo docente serán respondidos por este medio.\n",
        "- Prohibidas las copias.\n",
        "- Pueden usar cualquer matrial del curso que estimen conveniente.\n",
        "- Código que no se pueda ejecutar, no será revisado.\n",
        "\n",
        "### Objetivos principales del laboratorio\n",
        "\n",
        "- Optimizar modelos usando `optuna`\n",
        "- Recurrir a técnicas de *prunning*\n",
        "- Forzar el aprendizaje de relaciones entre variables mediante *constraints*\n",
        "- Fijar un pipeline con un modelo base que luego se irá optimizando.\n",
        "\n",
        "El laboratorio deberá ser desarrollado sin el uso indiscriminado de iteradores nativos de python (aka \"for\", \"while\"). La idea es que aprendan a exprimir al máximo las funciones optimizadas que nos entrega `pandas`, las cuales vale mencionar, son bastante más eficientes que los iteradores nativos sobre DataFrames."
      ]
    },
    {
      "cell_type": "markdown",
      "metadata": {
        "cell_id": "f38c8342f5164aa992a97488dd5590bf",
        "deepnote_cell_type": "markdown",
        "id": "3Ceri_rbI5v9"
      },
      "source": [
        "### **Link de repositorio de GitHub:** https://github.com/ArturoMarin9/Laboratorios-MDS7202-1"
      ]
    },
    {
      "cell_type": "markdown",
      "metadata": {
        "cell_id": "f1c73babb7f74af588a4fa6ae14829e0",
        "deepnote_cell_type": "markdown",
        "id": "U_-sNOuOI5v9"
      },
      "source": [
        "# Importamos librerias útiles"
      ]
    },
    {
      "cell_type": "code",
      "execution_count": 1,
      "metadata": {
        "cell_id": "51afe4d2df42442b9e5402ffece60ead",
        "deepnote_cell_type": "code",
        "deepnote_to_be_reexecuted": false,
        "execution_millis": 4957,
        "execution_start": 1699544354044,
        "id": "ekHbM85NI5v9",
        "source_hash": null
      },
      "outputs": [],
      "source": [
        "!pip install -qq xgboost optuna"
      ]
    },
    {
      "cell_type": "markdown",
      "metadata": {
        "id": "y6hJXpLCSspz"
      },
      "source": [
        "# El emprendimiento de Fiu"
      ]
    },
    {
      "cell_type": "markdown",
      "metadata": {
        "cell_id": "44d227389a734ac59189c5e0005bc68a",
        "deepnote_cell_type": "markdown",
        "id": "b0bDalAOI5v-"
      },
      "source": [
        "Tras liderar de manera exitosa la implementación de un proyecto de ciencia de datos para caracterizar los datos generados en Santiago 2023, el misterioso corpóreo **Fiu** se anima y decide levantar su propio negocio de consultoría en machine learning. Tras varias e intensas negociaciones, Fiu logra encontrar su *primera chamba*: predecir la demanda (cantidad de venta) de una famosa productora de bebidas de calibre mundial. Como usted tuvo un rendimiento sobresaliente en el proyecto de caracterización de datos, Fiu lo contrata como *data scientist* de su emprendimiento.\n",
        "\n",
        "Para este laboratorio deben trabajar con los datos `sales.csv` subidos a u-cursos, el cual contiene una muestra de ventas de la empresa para diferentes productos en un determinado tiempo.\n",
        "\n",
        "Para comenzar, cargue el dataset señalado y visualice a través de un `.head` los atributos que posee el dataset.\n",
        "\n",
        "<i><p align=\"center\">Fiu siendo felicitado por su excelente desempeño en el proyecto de caracterización de datos</p></i>\n",
        "<p align=\"center\">\n",
        "  <img src=\"https://media-front.elmostrador.cl/2023/09/A_UNO_1506411_2440e.jpg\">\n",
        "</p>"
      ]
    },
    {
      "cell_type": "code",
      "execution_count": 2,
      "metadata": {
        "colab": {
          "base_uri": "https://localhost:8080/"
        },
        "id": "KlK1Ba6XqRWx",
        "outputId": "eb863880-e2a6-4eba-b2ae-a4d9e47e660a"
      },
      "outputs": [],
      "source": [
        "# # Si usted está utilizando Colabolatory le puede ser útil este código para cargar los archivos.\n",
        "# try:\n",
        "#     from google.colab import drive\n",
        "#     drive.mount(\"/content/drive\")\n",
        "#     path = '/content/drive/My Drive/Otoño 2024/Lab MDS/Laboratorios/'\n",
        "# except:\n",
        "#     print('Ignorando conexión drive-colab')"
      ]
    },
    {
      "cell_type": "code",
      "execution_count": 3,
      "metadata": {
        "cell_id": "2f9c82d204b14515ad27ae07e0b77702",
        "colab": {
          "base_uri": "https://localhost:8080/",
          "height": 262
        },
        "deepnote_cell_type": "code",
        "deepnote_to_be_reexecuted": false,
        "execution_millis": 92,
        "execution_start": 1699544359006,
        "id": "QvMPOqHuI5v-",
        "outputId": "020ae121-5fc8-40fd-e1ca-bc0315674f1d",
        "source_hash": null
      },
      "outputs": [
        {
          "data": {
            "text/html": [
              "<div>\n",
              "<style scoped>\n",
              "    .dataframe tbody tr th:only-of-type {\n",
              "        vertical-align: middle;\n",
              "    }\n",
              "\n",
              "    .dataframe tbody tr th {\n",
              "        vertical-align: top;\n",
              "    }\n",
              "\n",
              "    .dataframe thead th {\n",
              "        text-align: right;\n",
              "    }\n",
              "</style>\n",
              "<table border=\"1\" class=\"dataframe\">\n",
              "  <thead>\n",
              "    <tr style=\"text-align: right;\">\n",
              "      <th></th>\n",
              "      <th>id</th>\n",
              "      <th>date</th>\n",
              "      <th>city</th>\n",
              "      <th>lat</th>\n",
              "      <th>long</th>\n",
              "      <th>pop</th>\n",
              "      <th>shop</th>\n",
              "      <th>brand</th>\n",
              "      <th>container</th>\n",
              "      <th>capacity</th>\n",
              "      <th>price</th>\n",
              "      <th>quantity</th>\n",
              "    </tr>\n",
              "  </thead>\n",
              "  <tbody>\n",
              "    <tr>\n",
              "      <th>0</th>\n",
              "      <td>0</td>\n",
              "      <td>2012-01-31</td>\n",
              "      <td>Athens</td>\n",
              "      <td>37.97945</td>\n",
              "      <td>23.71622</td>\n",
              "      <td>672130</td>\n",
              "      <td>shop_1</td>\n",
              "      <td>kinder-cola</td>\n",
              "      <td>glass</td>\n",
              "      <td>500ml</td>\n",
              "      <td>0.96</td>\n",
              "      <td>13280</td>\n",
              "    </tr>\n",
              "    <tr>\n",
              "      <th>1</th>\n",
              "      <td>1</td>\n",
              "      <td>2012-01-31</td>\n",
              "      <td>Athens</td>\n",
              "      <td>37.97945</td>\n",
              "      <td>23.71622</td>\n",
              "      <td>672130</td>\n",
              "      <td>shop_1</td>\n",
              "      <td>kinder-cola</td>\n",
              "      <td>plastic</td>\n",
              "      <td>1.5lt</td>\n",
              "      <td>2.86</td>\n",
              "      <td>6727</td>\n",
              "    </tr>\n",
              "    <tr>\n",
              "      <th>2</th>\n",
              "      <td>2</td>\n",
              "      <td>2012-01-31</td>\n",
              "      <td>Athens</td>\n",
              "      <td>37.97945</td>\n",
              "      <td>23.71622</td>\n",
              "      <td>672130</td>\n",
              "      <td>shop_1</td>\n",
              "      <td>kinder-cola</td>\n",
              "      <td>can</td>\n",
              "      <td>330ml</td>\n",
              "      <td>0.87</td>\n",
              "      <td>9848</td>\n",
              "    </tr>\n",
              "    <tr>\n",
              "      <th>3</th>\n",
              "      <td>3</td>\n",
              "      <td>2012-01-31</td>\n",
              "      <td>Athens</td>\n",
              "      <td>37.97945</td>\n",
              "      <td>23.71622</td>\n",
              "      <td>672130</td>\n",
              "      <td>shop_1</td>\n",
              "      <td>adult-cola</td>\n",
              "      <td>glass</td>\n",
              "      <td>500ml</td>\n",
              "      <td>1.00</td>\n",
              "      <td>20050</td>\n",
              "    </tr>\n",
              "    <tr>\n",
              "      <th>4</th>\n",
              "      <td>4</td>\n",
              "      <td>2012-01-31</td>\n",
              "      <td>Athens</td>\n",
              "      <td>37.97945</td>\n",
              "      <td>23.71622</td>\n",
              "      <td>672130</td>\n",
              "      <td>shop_1</td>\n",
              "      <td>adult-cola</td>\n",
              "      <td>can</td>\n",
              "      <td>330ml</td>\n",
              "      <td>0.39</td>\n",
              "      <td>25696</td>\n",
              "    </tr>\n",
              "  </tbody>\n",
              "</table>\n",
              "</div>"
            ],
            "text/plain": [
              "   id       date    city       lat      long     pop    shop        brand  \\\n",
              "0   0 2012-01-31  Athens  37.97945  23.71622  672130  shop_1  kinder-cola   \n",
              "1   1 2012-01-31  Athens  37.97945  23.71622  672130  shop_1  kinder-cola   \n",
              "2   2 2012-01-31  Athens  37.97945  23.71622  672130  shop_1  kinder-cola   \n",
              "3   3 2012-01-31  Athens  37.97945  23.71622  672130  shop_1   adult-cola   \n",
              "4   4 2012-01-31  Athens  37.97945  23.71622  672130  shop_1   adult-cola   \n",
              "\n",
              "  container capacity  price  quantity  \n",
              "0     glass    500ml   0.96     13280  \n",
              "1   plastic    1.5lt   2.86      6727  \n",
              "2       can    330ml   0.87      9848  \n",
              "3     glass    500ml   1.00     20050  \n",
              "4       can    330ml   0.39     25696  "
            ]
          },
          "execution_count": 3,
          "metadata": {},
          "output_type": "execute_result"
        }
      ],
      "source": [
        "import pandas as pd\n",
        "import numpy as np\n",
        "from datetime import datetime\n",
        "\n",
        "# df = pd.read_csv(path+'/Lab 9/sales.csv')\n",
        "df = pd.read_csv('sales.csv')\n",
        "df['date'] = pd.to_datetime(df['date'])\n",
        "\n",
        "df.head()"
      ]
    },
    {
      "cell_type": "code",
      "execution_count": 4,
      "metadata": {
        "colab": {
          "base_uri": "https://localhost:8080/"
        },
        "id": "kClrQitJDsLR",
        "outputId": "a2fc1c55-5427-4497-9836-02fceda08288"
      },
      "outputs": [
        {
          "data": {
            "text/plain": [
              "count      7456.000000\n",
              "mean      29408.428380\n",
              "std       17652.985675\n",
              "min        2953.000000\n",
              "25%       16572.750000\n",
              "50%       25294.500000\n",
              "75%       37699.000000\n",
              "max      145287.000000\n",
              "Name: quantity, dtype: float64"
            ]
          },
          "execution_count": 4,
          "metadata": {},
          "output_type": "execute_result"
        }
      ],
      "source": [
        "df['quantity'].describe()"
      ]
    },
    {
      "cell_type": "code",
      "execution_count": 5,
      "metadata": {
        "colab": {
          "base_uri": "https://localhost:8080/"
        },
        "id": "kKe1CxAEyvKc",
        "outputId": "c0acbecc-132b-43da-a82c-223f6b86e1a2"
      },
      "outputs": [
        {
          "data": {
            "text/plain": [
              "id           0\n",
              "date         0\n",
              "city         0\n",
              "lat          0\n",
              "long         0\n",
              "pop          0\n",
              "shop         0\n",
              "brand        0\n",
              "container    0\n",
              "capacity     0\n",
              "price        0\n",
              "quantity     0\n",
              "dtype: int64"
            ]
          },
          "execution_count": 5,
          "metadata": {},
          "output_type": "execute_result"
        }
      ],
      "source": [
        "# Check for missing values\n",
        "missing_values = df.isnull().sum()\n",
        "missing_values"
      ]
    },
    {
      "cell_type": "markdown",
      "metadata": {
        "cell_id": "b50db6f2cb804932ae3f9e5748a6ea61",
        "deepnote_cell_type": "markdown",
        "id": "pk4ru76pI5v_"
      },
      "source": [
        "## 1 Generando un Baseline (0.5 puntos)\n",
        "\n",
        "<p align=\"center\">\n",
        "  <img src=\"https://media.tenor.com/O-lan6TkadUAAAAC/what-i-wnna-do-after-a-baseline.gif\">\n",
        "</p>\n",
        "\n",
        "Antes de entrenar un algoritmo, usted recuerda los apuntes de su magíster en ciencia de datos y recuerda que debe seguir una serie de *buenas prácticas* para entrenar correcta y debidamente su modelo. Después de un par de vueltas, llega a las siguientes tareas:\n",
        "\n",
        "1. Separe los datos en conjuntos de train (70%), validation (20%) y test (10%). Fije una semilla para controlar la aleatoriedad.\n",
        "2. Implemente un `FunctionTransformer` para extraer el día, mes y año de la variable `date`. Guarde estas variables en el formato categorical de pandas.\n",
        "3. Implemente un `ColumnTransformer` para procesar de manera adecuada los datos numéricos y categóricos. Use `OneHotEncoder` para las variables categóricas.\n",
        "4. Guarde los pasos anteriores en un `Pipeline`, dejando como último paso el regresor `DummyRegressor` para generar predicciones en base a promedios.\n",
        "5. Entrene el pipeline anterior y reporte la métrica `mean_absolute_error` sobre los datos de validación. ¿Cómo se interpreta esta métrica para el contexto del negocio?\n",
        "6. Finalmente, vuelva a entrenar el `Pipeline` pero esta vez usando `XGBRegressor` como modelo **utilizando los parámetros por default**. ¿Cómo cambia el MAE al implementar este algoritmo? ¿Es mejor o peor que el `DummyRegressor`?\n",
        "7. Guarde ambos modelos en un archivo .pkl (uno cada uno)"
      ]
    },
    {
      "cell_type": "code",
      "execution_count": 6,
      "metadata": {
        "cell_id": "1482c992d9494e5582b23dbd3431dbfd",
        "colab": {
          "base_uri": "https://localhost:8080/"
        },
        "deepnote_cell_type": "code",
        "id": "sfnN7HubI5v_",
        "outputId": "6101b4b9-3faa-4b58-ab8a-9133d57dbf9b"
      },
      "outputs": [
        {
          "data": {
            "text/plain": [
              "(5219, 1491, 746)"
            ]
          },
          "execution_count": 6,
          "metadata": {},
          "output_type": "execute_result"
        }
      ],
      "source": [
        "# 1.\n",
        "from sklearn.model_selection import train_test_split\n",
        "\n",
        "# Fix the seed to control randomness\n",
        "seed = 42\n",
        "\n",
        "# Separate the training set (70%) and the rest (30%)\n",
        "train_df, temp_df = train_test_split(df, test_size=0.3, random_state=seed)\n",
        "\n",
        "# Separate the validation set (20%) and the test set (10%) from the rest\n",
        "validation_df, test_df = train_test_split(temp_df, test_size=1/3, random_state=seed)\n",
        "\n",
        "# Verify the sizes of the sets\n",
        "train_size = len(train_df)\n",
        "validation_size = len(validation_df)\n",
        "test_size = len(test_df)\n",
        "\n",
        "train_size, validation_size, test_size"
      ]
    },
    {
      "cell_type": "code",
      "execution_count": 7,
      "metadata": {
        "colab": {
          "base_uri": "https://localhost:8080/",
          "height": 206
        },
        "id": "Jls4z5dhsAa3",
        "outputId": "1dfd14d9-736a-41df-917f-2ca953e204d2"
      },
      "outputs": [
        {
          "data": {
            "text/html": [
              "<div>\n",
              "<style scoped>\n",
              "    .dataframe tbody tr th:only-of-type {\n",
              "        vertical-align: middle;\n",
              "    }\n",
              "\n",
              "    .dataframe tbody tr th {\n",
              "        vertical-align: top;\n",
              "    }\n",
              "\n",
              "    .dataframe thead th {\n",
              "        text-align: right;\n",
              "    }\n",
              "</style>\n",
              "<table border=\"1\" class=\"dataframe\">\n",
              "  <thead>\n",
              "    <tr style=\"text-align: right;\">\n",
              "      <th></th>\n",
              "      <th>id</th>\n",
              "      <th>date</th>\n",
              "      <th>city</th>\n",
              "      <th>lat</th>\n",
              "      <th>long</th>\n",
              "      <th>pop</th>\n",
              "      <th>shop</th>\n",
              "      <th>brand</th>\n",
              "      <th>container</th>\n",
              "      <th>capacity</th>\n",
              "      <th>price</th>\n",
              "      <th>quantity</th>\n",
              "      <th>day</th>\n",
              "      <th>month</th>\n",
              "      <th>year</th>\n",
              "    </tr>\n",
              "  </thead>\n",
              "  <tbody>\n",
              "    <tr>\n",
              "      <th>292</th>\n",
              "      <td>300</td>\n",
              "      <td>2012-04-30</td>\n",
              "      <td>Patra</td>\n",
              "      <td>38.24444</td>\n",
              "      <td>21.73444</td>\n",
              "      <td>164250</td>\n",
              "      <td>shop_6</td>\n",
              "      <td>adult-cola</td>\n",
              "      <td>plastic</td>\n",
              "      <td>1.5lt</td>\n",
              "      <td>2.54</td>\n",
              "      <td>27447</td>\n",
              "      <td>30</td>\n",
              "      <td>4</td>\n",
              "      <td>2012</td>\n",
              "    </tr>\n",
              "    <tr>\n",
              "      <th>3366</th>\n",
              "      <td>3416</td>\n",
              "      <td>2015-02-28</td>\n",
              "      <td>Athens</td>\n",
              "      <td>37.97945</td>\n",
              "      <td>23.71622</td>\n",
              "      <td>667237</td>\n",
              "      <td>shop_1</td>\n",
              "      <td>gazoza</td>\n",
              "      <td>plastic</td>\n",
              "      <td>1.5lt</td>\n",
              "      <td>0.71</td>\n",
              "      <td>17738</td>\n",
              "      <td>28</td>\n",
              "      <td>2</td>\n",
              "      <td>2015</td>\n",
              "    </tr>\n",
              "    <tr>\n",
              "      <th>3685</th>\n",
              "      <td>3741</td>\n",
              "      <td>2015-06-30</td>\n",
              "      <td>Athens</td>\n",
              "      <td>37.96245</td>\n",
              "      <td>23.68708</td>\n",
              "      <td>667237</td>\n",
              "      <td>shop_3</td>\n",
              "      <td>adult-cola</td>\n",
              "      <td>can</td>\n",
              "      <td>330ml</td>\n",
              "      <td>0.66</td>\n",
              "      <td>31618</td>\n",
              "      <td>30</td>\n",
              "      <td>6</td>\n",
              "      <td>2015</td>\n",
              "    </tr>\n",
              "    <tr>\n",
              "      <th>2404</th>\n",
              "      <td>2441</td>\n",
              "      <td>2014-04-30</td>\n",
              "      <td>Athens</td>\n",
              "      <td>37.97945</td>\n",
              "      <td>23.71622</td>\n",
              "      <td>668203</td>\n",
              "      <td>shop_1</td>\n",
              "      <td>gazoza</td>\n",
              "      <td>can</td>\n",
              "      <td>330ml</td>\n",
              "      <td>0.30</td>\n",
              "      <td>50015</td>\n",
              "      <td>30</td>\n",
              "      <td>4</td>\n",
              "      <td>2014</td>\n",
              "    </tr>\n",
              "    <tr>\n",
              "      <th>2855</th>\n",
              "      <td>2898</td>\n",
              "      <td>2014-09-30</td>\n",
              "      <td>Irakleion</td>\n",
              "      <td>35.32787</td>\n",
              "      <td>25.14341</td>\n",
              "      <td>136202</td>\n",
              "      <td>shop_2</td>\n",
              "      <td>orange-power</td>\n",
              "      <td>can</td>\n",
              "      <td>330ml</td>\n",
              "      <td>0.56</td>\n",
              "      <td>36756</td>\n",
              "      <td>30</td>\n",
              "      <td>9</td>\n",
              "      <td>2014</td>\n",
              "    </tr>\n",
              "  </tbody>\n",
              "</table>\n",
              "</div>"
            ],
            "text/plain": [
              "        id       date       city       lat      long     pop    shop  \\\n",
              "292    300 2012-04-30      Patra  38.24444  21.73444  164250  shop_6   \n",
              "3366  3416 2015-02-28     Athens  37.97945  23.71622  667237  shop_1   \n",
              "3685  3741 2015-06-30     Athens  37.96245  23.68708  667237  shop_3   \n",
              "2404  2441 2014-04-30     Athens  37.97945  23.71622  668203  shop_1   \n",
              "2855  2898 2014-09-30  Irakleion  35.32787  25.14341  136202  shop_2   \n",
              "\n",
              "             brand container capacity  price  quantity day month  year  \n",
              "292     adult-cola   plastic    1.5lt   2.54     27447  30     4  2012  \n",
              "3366        gazoza   plastic    1.5lt   0.71     17738  28     2  2015  \n",
              "3685    adult-cola       can    330ml   0.66     31618  30     6  2015  \n",
              "2404        gazoza       can    330ml   0.30     50015  30     4  2014  \n",
              "2855  orange-power       can    330ml   0.56     36756  30     9  2014  "
            ]
          },
          "execution_count": 7,
          "metadata": {},
          "output_type": "execute_result"
        }
      ],
      "source": [
        "#2\n",
        "from sklearn.preprocessing import FunctionTransformer\n",
        "import pandas as pd\n",
        "\n",
        "# Function to extract day, month, and year from the date column\n",
        "def extract_date_features(df):\n",
        "    df = df.copy()\n",
        "    df['date'] = pd.to_datetime(df['date'], dayfirst=True)\n",
        "    df['day'] = df['date'].dt.day.astype('category')\n",
        "    df['month'] = df['date'].dt.month.astype('category')\n",
        "    df['year'] = df['date'].dt.year.astype('category')\n",
        "    return df\n",
        "\n",
        "# Create the transformer\n",
        "date_transformer = FunctionTransformer(extract_date_features)\n",
        "\n",
        "# Apply the transformer to the three datasets\n",
        "train_df = date_transformer.transform(train_df)\n",
        "validation_df = date_transformer.transform(validation_df)\n",
        "test_df = date_transformer.transform(test_df)\n",
        "\n",
        "# Verify the first few records to ensure the columns have been added correctly\n",
        "train_df.head()"
      ]
    },
    {
      "cell_type": "code",
      "execution_count": 8,
      "metadata": {
        "colab": {
          "base_uri": "https://localhost:8080/"
        },
        "id": "Eja80cx74ecx",
        "outputId": "35f62121-9d55-4eae-e742-aac1379d3f00"
      },
      "outputs": [
        {
          "data": {
            "text/plain": [
              "(0, 0, 0)"
            ]
          },
          "execution_count": 8,
          "metadata": {},
          "output_type": "execute_result"
        }
      ],
      "source": [
        "# Check for duplicated rows in each dataset\n",
        "train_duplicates = train_df.duplicated().sum()\n",
        "validation_duplicates = validation_df.duplicated().sum()\n",
        "test_duplicates = test_df.duplicated().sum()\n",
        "\n",
        "# Display the number of duplicated rows in each dataset\n",
        "train_duplicates, validation_duplicates, test_duplicates"
      ]
    },
    {
      "cell_type": "code",
      "execution_count": 9,
      "metadata": {
        "colab": {
          "base_uri": "https://localhost:8080/"
        },
        "id": "QWk9p-NDxuKu",
        "outputId": "cf28a615-23a0-4fdd-c233-22aca5ba5632"
      },
      "outputs": [
        {
          "data": {
            "text/plain": [
              "((5219, 50), (1491, 50), (746, 50))"
            ]
          },
          "execution_count": 9,
          "metadata": {},
          "output_type": "execute_result"
        }
      ],
      "source": [
        "#3.\n",
        "from sklearn.compose import ColumnTransformer\n",
        "from sklearn.preprocessing import OneHotEncoder, StandardScaler\n",
        "\n",
        "# Select categorical and numerical columns\n",
        "categorical_features = ['city', 'shop', 'brand', 'container', 'capacity', 'day', 'month', 'year']\n",
        "numeric_features = ['lat', 'long', 'pop', 'price', 'quantity']\n",
        "\n",
        "# Create the ColumnTransformer\n",
        "preprocessor = ColumnTransformer(\n",
        "    transformers=[\n",
        "        ('num', StandardScaler(), numeric_features),\n",
        "        ('cat', OneHotEncoder(), categorical_features)\n",
        "    ])\n",
        "\n",
        "# Apply the ColumnTransformer to the three datasets\n",
        "train_preprocessed = preprocessor.fit_transform(train_df)\n",
        "validation_preprocessed = preprocessor.transform(validation_df)\n",
        "test_preprocessed = preprocessor.transform(test_df)\n",
        "\n",
        "# Verify the dimensions of the preprocessed datasets\n",
        "train_preprocessed.shape, validation_preprocessed.shape, test_preprocessed.shape"
      ]
    },
    {
      "cell_type": "code",
      "execution_count": 10,
      "metadata": {
        "id": "V8gfRMe97TwW"
      },
      "outputs": [],
      "source": [
        "#4.\n",
        "from sklearn.pipeline import Pipeline\n",
        "from sklearn.dummy import DummyRegressor\n",
        "\n",
        "# Function to ensure correct column order\n",
        "def reorder_columns(df):\n",
        "    expected_columns = ['date', 'city', 'shop', 'brand', 'container', 'capacity', 'lat', 'long', 'pop', 'price', 'quantity', 'day', 'month', 'year']\n",
        "    return df[expected_columns]\n",
        "\n",
        "# Create a pipeline with the necessary steps\n",
        "pipeline = Pipeline(steps=[\n",
        "    ('date_transformer', FunctionTransformer(extract_date_features)),\n",
        "    ('reorder_columns', FunctionTransformer(reorder_columns)),\n",
        "    ('preprocessor', preprocessor),\n",
        "    ('regressor', DummyRegressor(strategy='mean'))\n",
        "])"
      ]
    },
    {
      "cell_type": "code",
      "execution_count": 11,
      "metadata": {
        "colab": {
          "base_uri": "https://localhost:8080/"
        },
        "id": "hgkl9K4UBxkc",
        "outputId": "cb4e498c-ebef-4e83-da9a-4e8b0fb71fc2"
      },
      "outputs": [
        {
          "data": {
            "text/plain": [
              "13298.497767341096"
            ]
          },
          "execution_count": 11,
          "metadata": {},
          "output_type": "execute_result"
        }
      ],
      "source": [
        "# 5.\n",
        "from sklearn.metrics import mean_absolute_error\n",
        "\n",
        "# Fit the pipeline to the training data (this step was already done previously)\n",
        "pipeline.fit(train_df, train_df['quantity'])\n",
        "\n",
        "# Generate predictions for the validation set\n",
        "validation_predictions = pipeline.predict(validation_df)\n",
        "\n",
        "# Calculate the mean absolute error on the validation set\n",
        "mae = mean_absolute_error(validation_df['quantity'], validation_predictions)\n",
        "\n",
        "mae"
      ]
    },
    {
      "cell_type": "markdown",
      "metadata": {
        "id": "YvASJR3Nlz45"
      },
      "source": [
        "El Mean Absolute Error (MAE) es una métrica que nos indica, en promedio, cuán alejadas están nuestras predicciones de los valores reales. En el contexto del negocio que estamos analizando (de una productora de bebidas), un MAE de aproximadamente 13298.50 significa que, en promedio, nuestras predicciones de la cantidad de ventas difieren del valor real en 13298.50 unidades."
      ]
    },
    {
      "cell_type": "code",
      "execution_count": 12,
      "metadata": {
        "colab": {
          "base_uri": "https://localhost:8080/"
        },
        "id": "PZNrLFzKmjAD",
        "outputId": "09cda591-96b4-475d-ec2e-5db990575fc6"
      },
      "outputs": [
        {
          "data": {
            "text/plain": [
              "162.19525469876552"
            ]
          },
          "execution_count": 12,
          "metadata": {},
          "output_type": "execute_result"
        }
      ],
      "source": [
        "#6.\n",
        "from xgboost import XGBRegressor\n",
        "from sklearn.pipeline import Pipeline\n",
        "from sklearn.metrics import mean_absolute_error\n",
        "\n",
        "# Create a pipeline with the necessary steps\n",
        "pipeline_xgb = Pipeline(steps=[\n",
        "    ('date_transformer', FunctionTransformer(extract_date_features)),\n",
        "    ('reorder_columns', FunctionTransformer(reorder_columns)),\n",
        "    ('preprocessor', preprocessor),\n",
        "    ('regressor', XGBRegressor())\n",
        "])\n",
        "\n",
        "# Fit the pipeline to the training data\n",
        "pipeline_xgb.fit(train_df, train_df['quantity'])\n",
        "\n",
        "# Generate predictions for the validation set\n",
        "validation_predictions_xgb = pipeline_xgb.predict(validation_df)\n",
        "\n",
        "# Calculate the mean absolute error on the validation set\n",
        "mae_xgb = mean_absolute_error(validation_df['quantity'], validation_predictions_xgb)\n",
        "\n",
        "mae_xgb"
      ]
    },
    {
      "cell_type": "markdown",
      "metadata": {
        "id": "x8XlO3P-nGuK"
      },
      "source": [
        "El uso de XGBRegressor mejora significativamente el rendimiento del modelo en términos de precisión, reduciendo el MAE de 13298.50 a 162.2. Esto sugiere que el XGBRegressor es capaz de capturar mejor las relaciones entre las características del dataset y la cantidad de ventas, resultando en predicciones mucho más precisas y útiles para el negocio."
      ]
    },
    {
      "cell_type": "code",
      "execution_count": 13,
      "metadata": {
        "colab": {
          "base_uri": "https://localhost:8080/"
        },
        "id": "nHqX69ldnYC-",
        "outputId": "99e2cf16-517c-4694-ef41-de1cde741a3e"
      },
      "outputs": [
        {
          "data": {
            "text/plain": [
              "['pipeline_xgb.pkl']"
            ]
          },
          "execution_count": 13,
          "metadata": {},
          "output_type": "execute_result"
        }
      ],
      "source": [
        "#7.\n",
        "import joblib\n",
        "\n",
        "# Save the DummyRegressor pipeline\n",
        "# joblib.dump(pipeline, path + 'pipeline_dummy.pkl')\n",
        "joblib.dump(pipeline, 'pipeline_dummy.pkl')\n",
        "\n",
        "# Save the XGBRegressor pipeline\n",
        "# joblib.dump(pipeline_xgb, path + 'pipeline_xgb.pkl')\n",
        "joblib.dump(pipeline_xgb,'pipeline_xgb.pkl')"
      ]
    },
    {
      "cell_type": "markdown",
      "metadata": {
        "cell_id": "7e17e46063774ec28226fe300d42ffe0",
        "deepnote_cell_type": "markdown",
        "id": "wnyMINdKI5v_"
      },
      "source": [
        "## 2. Forzando relaciones entre parámetros con XGBoost (1.0 puntos)\n",
        "\n",
        "<p align=\"center\">\n",
        "  <img src=\"https://64.media.tumblr.com/14cc45f9610a6ee341a45fd0d68f4dde/20d11b36022bca7b-bf/s640x960/67ab1db12ff73a530f649ac455c000945d99c0d6.gif\">\n",
        "</p>\n",
        "\n",
        "Un colega aficionado a la economía le *sopla* que la demanda guarda una relación inversa con el precio del producto. Motivado para impresionar al querido corpóreo, se propone hacer uso de esta información para mejorar su modelo realizando las siguientes tareas:\n",
        "\n",
        "1. Vuelva a entrenar el `Pipeline`, pero esta vez forzando una relación monótona negativa entre el precio y la cantidad. Para aplicar esta restricción apóyese en la siguiente <a href = https://xgboost.readthedocs.io/en/stable/tutorials/monotonic.html>documentación</a>. Hint: Para implementar el constraint se le sugiere hacerlo especificando el nombre de la variable. De ser así, probablemente le sea útil **mantener el formato de pandas** antes del step de entrenamiento.\n",
        "\n",
        "2. Luego, vuelva a reportar el `MAE` sobre el conjunto de validación.\n",
        "\n",
        "3. ¿Cómo cambia el error al incluir esta relación? ¿Tenía razón su amigo?\n",
        "\n",
        "\n"
      ]
    },
    {
      "cell_type": "code",
      "execution_count": 14,
      "metadata": {
        "colab": {
          "base_uri": "https://localhost:8080/"
        },
        "id": "TqyI756Efimy",
        "outputId": "332e619c-a33d-40ba-a5b2-165802b5678b"
      },
      "outputs": [
        {
          "data": {
            "text/plain": [
              "['lat',\n",
              " 'long',\n",
              " 'pop',\n",
              " 'price',\n",
              " 'quantity',\n",
              " 'city_Athens',\n",
              " 'city_Irakleion',\n",
              " 'city_Larisa',\n",
              " 'city_Patra',\n",
              " 'city_Thessaloniki',\n",
              " 'shop_shop_1',\n",
              " 'shop_shop_2',\n",
              " 'shop_shop_3',\n",
              " 'shop_shop_4',\n",
              " 'shop_shop_5',\n",
              " 'shop_shop_6',\n",
              " 'brand_adult-cola',\n",
              " 'brand_gazoza',\n",
              " 'brand_kinder-cola',\n",
              " 'brand_lemon-boost',\n",
              " 'brand_orange-power',\n",
              " 'container_can',\n",
              " 'container_glass',\n",
              " 'container_plastic',\n",
              " 'capacity_1.5lt',\n",
              " 'capacity_330ml',\n",
              " 'capacity_500ml',\n",
              " 'day_28',\n",
              " 'day_29',\n",
              " 'day_30',\n",
              " 'day_31',\n",
              " 'month_1',\n",
              " 'month_2',\n",
              " 'month_3',\n",
              " 'month_4',\n",
              " 'month_5',\n",
              " 'month_6',\n",
              " 'month_7',\n",
              " 'month_8',\n",
              " 'month_9',\n",
              " 'month_10',\n",
              " 'month_11',\n",
              " 'month_12',\n",
              " 'year_2012',\n",
              " 'year_2013',\n",
              " 'year_2014',\n",
              " 'year_2015',\n",
              " 'year_2016',\n",
              " 'year_2017',\n",
              " 'year_2018']"
            ]
          },
          "execution_count": 14,
          "metadata": {},
          "output_type": "execute_result"
        }
      ],
      "source": [
        "#1.1 Este chunk tiene como objetivo obtener el orden de los features (para identificar posición de \"price\") antes de aplicar XGBRegressor\n",
        "\n",
        "from sklearn.compose import ColumnTransformer\n",
        "from sklearn.preprocessing import OneHotEncoder, StandardScaler\n",
        "from sklearn.pipeline import Pipeline\n",
        "import pandas as pd\n",
        "\n",
        "# Select categorical and numerical columns\n",
        "categorical_features = ['city', 'shop', 'brand', 'container', 'capacity', 'day', 'month', 'year']\n",
        "numeric_features = ['lat', 'long', 'pop', 'price', 'quantity']\n",
        "\n",
        "# Create the ColumnTransformer\n",
        "preprocessor = ColumnTransformer(\n",
        "    transformers=[\n",
        "        ('num', StandardScaler(), numeric_features),\n",
        "        ('cat', OneHotEncoder(), categorical_features)\n",
        "    ])\n",
        "\n",
        "# Fit the preprocessor to the training data\n",
        "preprocessor.fit(train_df)\n",
        "\n",
        "# Get the order of features after preprocessing\n",
        "feature_names = preprocessor.transformers_[0][2] + list(preprocessor.transformers_[1][1].get_feature_names_out(categorical_features))\n",
        "\n",
        "feature_names"
      ]
    },
    {
      "cell_type": "markdown",
      "metadata": {
        "id": "BUb0TCj-n4GT"
      },
      "source": [
        "\"price\" queda en la cuarta posición"
      ]
    },
    {
      "cell_type": "code",
      "execution_count": 15,
      "metadata": {
        "cell_id": "f469f3b572be434191d2d5c3f11b20d2",
        "colab": {
          "base_uri": "https://localhost:8080/",
          "height": 260
        },
        "deepnote_cell_type": "code",
        "id": "B7tMnkiAI5v_",
        "outputId": "6451ecbf-429a-4475-803b-bba27c31f5b5"
      },
      "outputs": [
        {
          "data": {
            "text/html": [
              "<style>#sk-container-id-1 {\n",
              "  /* Definition of color scheme common for light and dark mode */\n",
              "  --sklearn-color-text: black;\n",
              "  --sklearn-color-line: gray;\n",
              "  /* Definition of color scheme for unfitted estimators */\n",
              "  --sklearn-color-unfitted-level-0: #fff5e6;\n",
              "  --sklearn-color-unfitted-level-1: #f6e4d2;\n",
              "  --sklearn-color-unfitted-level-2: #ffe0b3;\n",
              "  --sklearn-color-unfitted-level-3: chocolate;\n",
              "  /* Definition of color scheme for fitted estimators */\n",
              "  --sklearn-color-fitted-level-0: #f0f8ff;\n",
              "  --sklearn-color-fitted-level-1: #d4ebff;\n",
              "  --sklearn-color-fitted-level-2: #b3dbfd;\n",
              "  --sklearn-color-fitted-level-3: cornflowerblue;\n",
              "\n",
              "  /* Specific color for light theme */\n",
              "  --sklearn-color-text-on-default-background: var(--sg-text-color, var(--theme-code-foreground, var(--jp-content-font-color1, black)));\n",
              "  --sklearn-color-background: var(--sg-background-color, var(--theme-background, var(--jp-layout-color0, white)));\n",
              "  --sklearn-color-border-box: var(--sg-text-color, var(--theme-code-foreground, var(--jp-content-font-color1, black)));\n",
              "  --sklearn-color-icon: #696969;\n",
              "\n",
              "  @media (prefers-color-scheme: dark) {\n",
              "    /* Redefinition of color scheme for dark theme */\n",
              "    --sklearn-color-text-on-default-background: var(--sg-text-color, var(--theme-code-foreground, var(--jp-content-font-color1, white)));\n",
              "    --sklearn-color-background: var(--sg-background-color, var(--theme-background, var(--jp-layout-color0, #111)));\n",
              "    --sklearn-color-border-box: var(--sg-text-color, var(--theme-code-foreground, var(--jp-content-font-color1, white)));\n",
              "    --sklearn-color-icon: #878787;\n",
              "  }\n",
              "}\n",
              "\n",
              "#sk-container-id-1 {\n",
              "  color: var(--sklearn-color-text);\n",
              "}\n",
              "\n",
              "#sk-container-id-1 pre {\n",
              "  padding: 0;\n",
              "}\n",
              "\n",
              "#sk-container-id-1 input.sk-hidden--visually {\n",
              "  border: 0;\n",
              "  clip: rect(1px 1px 1px 1px);\n",
              "  clip: rect(1px, 1px, 1px, 1px);\n",
              "  height: 1px;\n",
              "  margin: -1px;\n",
              "  overflow: hidden;\n",
              "  padding: 0;\n",
              "  position: absolute;\n",
              "  width: 1px;\n",
              "}\n",
              "\n",
              "#sk-container-id-1 div.sk-dashed-wrapped {\n",
              "  border: 1px dashed var(--sklearn-color-line);\n",
              "  margin: 0 0.4em 0.5em 0.4em;\n",
              "  box-sizing: border-box;\n",
              "  padding-bottom: 0.4em;\n",
              "  background-color: var(--sklearn-color-background);\n",
              "}\n",
              "\n",
              "#sk-container-id-1 div.sk-container {\n",
              "  /* jupyter's `normalize.less` sets `[hidden] { display: none; }`\n",
              "     but bootstrap.min.css set `[hidden] { display: none !important; }`\n",
              "     so we also need the `!important` here to be able to override the\n",
              "     default hidden behavior on the sphinx rendered scikit-learn.org.\n",
              "     See: https://github.com/scikit-learn/scikit-learn/issues/21755 */\n",
              "  display: inline-block !important;\n",
              "  position: relative;\n",
              "}\n",
              "\n",
              "#sk-container-id-1 div.sk-text-repr-fallback {\n",
              "  display: none;\n",
              "}\n",
              "\n",
              "div.sk-parallel-item,\n",
              "div.sk-serial,\n",
              "div.sk-item {\n",
              "  /* draw centered vertical line to link estimators */\n",
              "  background-image: linear-gradient(var(--sklearn-color-text-on-default-background), var(--sklearn-color-text-on-default-background));\n",
              "  background-size: 2px 100%;\n",
              "  background-repeat: no-repeat;\n",
              "  background-position: center center;\n",
              "}\n",
              "\n",
              "/* Parallel-specific style estimator block */\n",
              "\n",
              "#sk-container-id-1 div.sk-parallel-item::after {\n",
              "  content: \"\";\n",
              "  width: 100%;\n",
              "  border-bottom: 2px solid var(--sklearn-color-text-on-default-background);\n",
              "  flex-grow: 1;\n",
              "}\n",
              "\n",
              "#sk-container-id-1 div.sk-parallel {\n",
              "  display: flex;\n",
              "  align-items: stretch;\n",
              "  justify-content: center;\n",
              "  background-color: var(--sklearn-color-background);\n",
              "  position: relative;\n",
              "}\n",
              "\n",
              "#sk-container-id-1 div.sk-parallel-item {\n",
              "  display: flex;\n",
              "  flex-direction: column;\n",
              "}\n",
              "\n",
              "#sk-container-id-1 div.sk-parallel-item:first-child::after {\n",
              "  align-self: flex-end;\n",
              "  width: 50%;\n",
              "}\n",
              "\n",
              "#sk-container-id-1 div.sk-parallel-item:last-child::after {\n",
              "  align-self: flex-start;\n",
              "  width: 50%;\n",
              "}\n",
              "\n",
              "#sk-container-id-1 div.sk-parallel-item:only-child::after {\n",
              "  width: 0;\n",
              "}\n",
              "\n",
              "/* Serial-specific style estimator block */\n",
              "\n",
              "#sk-container-id-1 div.sk-serial {\n",
              "  display: flex;\n",
              "  flex-direction: column;\n",
              "  align-items: center;\n",
              "  background-color: var(--sklearn-color-background);\n",
              "  padding-right: 1em;\n",
              "  padding-left: 1em;\n",
              "}\n",
              "\n",
              "\n",
              "/* Toggleable style: style used for estimator/Pipeline/ColumnTransformer box that is\n",
              "clickable and can be expanded/collapsed.\n",
              "- Pipeline and ColumnTransformer use this feature and define the default style\n",
              "- Estimators will overwrite some part of the style using the `sk-estimator` class\n",
              "*/\n",
              "\n",
              "/* Pipeline and ColumnTransformer style (default) */\n",
              "\n",
              "#sk-container-id-1 div.sk-toggleable {\n",
              "  /* Default theme specific background. It is overwritten whether we have a\n",
              "  specific estimator or a Pipeline/ColumnTransformer */\n",
              "  background-color: var(--sklearn-color-background);\n",
              "}\n",
              "\n",
              "/* Toggleable label */\n",
              "#sk-container-id-1 label.sk-toggleable__label {\n",
              "  cursor: pointer;\n",
              "  display: block;\n",
              "  width: 100%;\n",
              "  margin-bottom: 0;\n",
              "  padding: 0.5em;\n",
              "  box-sizing: border-box;\n",
              "  text-align: center;\n",
              "}\n",
              "\n",
              "#sk-container-id-1 label.sk-toggleable__label-arrow:before {\n",
              "  /* Arrow on the left of the label */\n",
              "  content: \"▸\";\n",
              "  float: left;\n",
              "  margin-right: 0.25em;\n",
              "  color: var(--sklearn-color-icon);\n",
              "}\n",
              "\n",
              "#sk-container-id-1 label.sk-toggleable__label-arrow:hover:before {\n",
              "  color: var(--sklearn-color-text);\n",
              "}\n",
              "\n",
              "/* Toggleable content - dropdown */\n",
              "\n",
              "#sk-container-id-1 div.sk-toggleable__content {\n",
              "  max-height: 0;\n",
              "  max-width: 0;\n",
              "  overflow: hidden;\n",
              "  text-align: left;\n",
              "  /* unfitted */\n",
              "  background-color: var(--sklearn-color-unfitted-level-0);\n",
              "}\n",
              "\n",
              "#sk-container-id-1 div.sk-toggleable__content.fitted {\n",
              "  /* fitted */\n",
              "  background-color: var(--sklearn-color-fitted-level-0);\n",
              "}\n",
              "\n",
              "#sk-container-id-1 div.sk-toggleable__content pre {\n",
              "  margin: 0.2em;\n",
              "  border-radius: 0.25em;\n",
              "  color: var(--sklearn-color-text);\n",
              "  /* unfitted */\n",
              "  background-color: var(--sklearn-color-unfitted-level-0);\n",
              "}\n",
              "\n",
              "#sk-container-id-1 div.sk-toggleable__content.fitted pre {\n",
              "  /* unfitted */\n",
              "  background-color: var(--sklearn-color-fitted-level-0);\n",
              "}\n",
              "\n",
              "#sk-container-id-1 input.sk-toggleable__control:checked~div.sk-toggleable__content {\n",
              "  /* Expand drop-down */\n",
              "  max-height: 200px;\n",
              "  max-width: 100%;\n",
              "  overflow: auto;\n",
              "}\n",
              "\n",
              "#sk-container-id-1 input.sk-toggleable__control:checked~label.sk-toggleable__label-arrow:before {\n",
              "  content: \"▾\";\n",
              "}\n",
              "\n",
              "/* Pipeline/ColumnTransformer-specific style */\n",
              "\n",
              "#sk-container-id-1 div.sk-label input.sk-toggleable__control:checked~label.sk-toggleable__label {\n",
              "  color: var(--sklearn-color-text);\n",
              "  background-color: var(--sklearn-color-unfitted-level-2);\n",
              "}\n",
              "\n",
              "#sk-container-id-1 div.sk-label.fitted input.sk-toggleable__control:checked~label.sk-toggleable__label {\n",
              "  background-color: var(--sklearn-color-fitted-level-2);\n",
              "}\n",
              "\n",
              "/* Estimator-specific style */\n",
              "\n",
              "/* Colorize estimator box */\n",
              "#sk-container-id-1 div.sk-estimator input.sk-toggleable__control:checked~label.sk-toggleable__label {\n",
              "  /* unfitted */\n",
              "  background-color: var(--sklearn-color-unfitted-level-2);\n",
              "}\n",
              "\n",
              "#sk-container-id-1 div.sk-estimator.fitted input.sk-toggleable__control:checked~label.sk-toggleable__label {\n",
              "  /* fitted */\n",
              "  background-color: var(--sklearn-color-fitted-level-2);\n",
              "}\n",
              "\n",
              "#sk-container-id-1 div.sk-label label.sk-toggleable__label,\n",
              "#sk-container-id-1 div.sk-label label {\n",
              "  /* The background is the default theme color */\n",
              "  color: var(--sklearn-color-text-on-default-background);\n",
              "}\n",
              "\n",
              "/* On hover, darken the color of the background */\n",
              "#sk-container-id-1 div.sk-label:hover label.sk-toggleable__label {\n",
              "  color: var(--sklearn-color-text);\n",
              "  background-color: var(--sklearn-color-unfitted-level-2);\n",
              "}\n",
              "\n",
              "/* Label box, darken color on hover, fitted */\n",
              "#sk-container-id-1 div.sk-label.fitted:hover label.sk-toggleable__label.fitted {\n",
              "  color: var(--sklearn-color-text);\n",
              "  background-color: var(--sklearn-color-fitted-level-2);\n",
              "}\n",
              "\n",
              "/* Estimator label */\n",
              "\n",
              "#sk-container-id-1 div.sk-label label {\n",
              "  font-family: monospace;\n",
              "  font-weight: bold;\n",
              "  display: inline-block;\n",
              "  line-height: 1.2em;\n",
              "}\n",
              "\n",
              "#sk-container-id-1 div.sk-label-container {\n",
              "  text-align: center;\n",
              "}\n",
              "\n",
              "/* Estimator-specific */\n",
              "#sk-container-id-1 div.sk-estimator {\n",
              "  font-family: monospace;\n",
              "  border: 1px dotted var(--sklearn-color-border-box);\n",
              "  border-radius: 0.25em;\n",
              "  box-sizing: border-box;\n",
              "  margin-bottom: 0.5em;\n",
              "  /* unfitted */\n",
              "  background-color: var(--sklearn-color-unfitted-level-0);\n",
              "}\n",
              "\n",
              "#sk-container-id-1 div.sk-estimator.fitted {\n",
              "  /* fitted */\n",
              "  background-color: var(--sklearn-color-fitted-level-0);\n",
              "}\n",
              "\n",
              "/* on hover */\n",
              "#sk-container-id-1 div.sk-estimator:hover {\n",
              "  /* unfitted */\n",
              "  background-color: var(--sklearn-color-unfitted-level-2);\n",
              "}\n",
              "\n",
              "#sk-container-id-1 div.sk-estimator.fitted:hover {\n",
              "  /* fitted */\n",
              "  background-color: var(--sklearn-color-fitted-level-2);\n",
              "}\n",
              "\n",
              "/* Specification for estimator info (e.g. \"i\" and \"?\") */\n",
              "\n",
              "/* Common style for \"i\" and \"?\" */\n",
              "\n",
              ".sk-estimator-doc-link,\n",
              "a:link.sk-estimator-doc-link,\n",
              "a:visited.sk-estimator-doc-link {\n",
              "  float: right;\n",
              "  font-size: smaller;\n",
              "  line-height: 1em;\n",
              "  font-family: monospace;\n",
              "  background-color: var(--sklearn-color-background);\n",
              "  border-radius: 1em;\n",
              "  height: 1em;\n",
              "  width: 1em;\n",
              "  text-decoration: none !important;\n",
              "  margin-left: 1ex;\n",
              "  /* unfitted */\n",
              "  border: var(--sklearn-color-unfitted-level-1) 1pt solid;\n",
              "  color: var(--sklearn-color-unfitted-level-1);\n",
              "}\n",
              "\n",
              ".sk-estimator-doc-link.fitted,\n",
              "a:link.sk-estimator-doc-link.fitted,\n",
              "a:visited.sk-estimator-doc-link.fitted {\n",
              "  /* fitted */\n",
              "  border: var(--sklearn-color-fitted-level-1) 1pt solid;\n",
              "  color: var(--sklearn-color-fitted-level-1);\n",
              "}\n",
              "\n",
              "/* On hover */\n",
              "div.sk-estimator:hover .sk-estimator-doc-link:hover,\n",
              ".sk-estimator-doc-link:hover,\n",
              "div.sk-label-container:hover .sk-estimator-doc-link:hover,\n",
              ".sk-estimator-doc-link:hover {\n",
              "  /* unfitted */\n",
              "  background-color: var(--sklearn-color-unfitted-level-3);\n",
              "  color: var(--sklearn-color-background);\n",
              "  text-decoration: none;\n",
              "}\n",
              "\n",
              "div.sk-estimator.fitted:hover .sk-estimator-doc-link.fitted:hover,\n",
              ".sk-estimator-doc-link.fitted:hover,\n",
              "div.sk-label-container:hover .sk-estimator-doc-link.fitted:hover,\n",
              ".sk-estimator-doc-link.fitted:hover {\n",
              "  /* fitted */\n",
              "  background-color: var(--sklearn-color-fitted-level-3);\n",
              "  color: var(--sklearn-color-background);\n",
              "  text-decoration: none;\n",
              "}\n",
              "\n",
              "/* Span, style for the box shown on hovering the info icon */\n",
              ".sk-estimator-doc-link span {\n",
              "  display: none;\n",
              "  z-index: 9999;\n",
              "  position: relative;\n",
              "  font-weight: normal;\n",
              "  right: .2ex;\n",
              "  padding: .5ex;\n",
              "  margin: .5ex;\n",
              "  width: min-content;\n",
              "  min-width: 20ex;\n",
              "  max-width: 50ex;\n",
              "  color: var(--sklearn-color-text);\n",
              "  box-shadow: 2pt 2pt 4pt #999;\n",
              "  /* unfitted */\n",
              "  background: var(--sklearn-color-unfitted-level-0);\n",
              "  border: .5pt solid var(--sklearn-color-unfitted-level-3);\n",
              "}\n",
              "\n",
              ".sk-estimator-doc-link.fitted span {\n",
              "  /* fitted */\n",
              "  background: var(--sklearn-color-fitted-level-0);\n",
              "  border: var(--sklearn-color-fitted-level-3);\n",
              "}\n",
              "\n",
              ".sk-estimator-doc-link:hover span {\n",
              "  display: block;\n",
              "}\n",
              "\n",
              "/* \"?\"-specific style due to the `<a>` HTML tag */\n",
              "\n",
              "#sk-container-id-1 a.estimator_doc_link {\n",
              "  float: right;\n",
              "  font-size: 1rem;\n",
              "  line-height: 1em;\n",
              "  font-family: monospace;\n",
              "  background-color: var(--sklearn-color-background);\n",
              "  border-radius: 1rem;\n",
              "  height: 1rem;\n",
              "  width: 1rem;\n",
              "  text-decoration: none;\n",
              "  /* unfitted */\n",
              "  color: var(--sklearn-color-unfitted-level-1);\n",
              "  border: var(--sklearn-color-unfitted-level-1) 1pt solid;\n",
              "}\n",
              "\n",
              "#sk-container-id-1 a.estimator_doc_link.fitted {\n",
              "  /* fitted */\n",
              "  border: var(--sklearn-color-fitted-level-1) 1pt solid;\n",
              "  color: var(--sklearn-color-fitted-level-1);\n",
              "}\n",
              "\n",
              "/* On hover */\n",
              "#sk-container-id-1 a.estimator_doc_link:hover {\n",
              "  /* unfitted */\n",
              "  background-color: var(--sklearn-color-unfitted-level-3);\n",
              "  color: var(--sklearn-color-background);\n",
              "  text-decoration: none;\n",
              "}\n",
              "\n",
              "#sk-container-id-1 a.estimator_doc_link.fitted:hover {\n",
              "  /* fitted */\n",
              "  background-color: var(--sklearn-color-fitted-level-3);\n",
              "}\n",
              "</style><div id=\"sk-container-id-1\" class=\"sk-top-container\"><div class=\"sk-text-repr-fallback\"><pre>Pipeline(steps=[(&#x27;date_transformer&#x27;,\n",
              "                 FunctionTransformer(func=&lt;function extract_date_features at 0x1739068e0&gt;)),\n",
              "                (&#x27;reorder_columns&#x27;,\n",
              "                 FunctionTransformer(func=&lt;function reorder_columns at 0x173937ba0&gt;)),\n",
              "                (&#x27;preprocessor&#x27;,\n",
              "                 ColumnTransformer(transformers=[(&#x27;num&#x27;, StandardScaler(),\n",
              "                                                  [&#x27;lat&#x27;, &#x27;long&#x27;, &#x27;pop&#x27;,\n",
              "                                                   &#x27;price&#x27;, &#x27;quantity&#x27;]),\n",
              "                                                 (&#x27;cat&#x27;, OneHotEncoder(),\n",
              "                                                  [&#x27;city&#x27;, &#x27;shop&#x27;, &#x27;brand...\n",
              "                              max_bin=None, max_cat_threshold=None,\n",
              "                              max_cat_to_onehot=None, max_delta_step=None,\n",
              "                              max_depth=None, max_leaves=None,\n",
              "                              min_child_weight=None, missing=nan,\n",
              "                              monotone_constraints=&#x27;(0,0,0,-1,0,0,0,0,0,0,0,0,0,0,0,0,0,0,0,0,0,0,0,0,0,0,0,0,0,0,0,0,0,0,0,0,0,0,0,0,0,0,0,0,0,0,0,0,0,0)&#x27;,\n",
              "                              multi_strategy=None, n_estimators=None,\n",
              "                              n_jobs=None, num_parallel_tree=None,\n",
              "                              random_state=None, ...))])</pre><b>In a Jupyter environment, please rerun this cell to show the HTML representation or trust the notebook. <br />On GitHub, the HTML representation is unable to render, please try loading this page with nbviewer.org.</b></div><div class=\"sk-container\" hidden><div class=\"sk-item sk-dashed-wrapped\"><div class=\"sk-label-container\"><div class=\"sk-label fitted sk-toggleable\"><input class=\"sk-toggleable__control sk-hidden--visually\" id=\"sk-estimator-id-1\" type=\"checkbox\" ><label for=\"sk-estimator-id-1\" class=\"sk-toggleable__label fitted sk-toggleable__label-arrow fitted\">&nbsp;&nbsp;Pipeline<a class=\"sk-estimator-doc-link fitted\" rel=\"noreferrer\" target=\"_blank\" href=\"https://scikit-learn.org/1.4/modules/generated/sklearn.pipeline.Pipeline.html\">?<span>Documentation for Pipeline</span></a><span class=\"sk-estimator-doc-link fitted\">i<span>Fitted</span></span></label><div class=\"sk-toggleable__content fitted\"><pre>Pipeline(steps=[(&#x27;date_transformer&#x27;,\n",
              "                 FunctionTransformer(func=&lt;function extract_date_features at 0x1739068e0&gt;)),\n",
              "                (&#x27;reorder_columns&#x27;,\n",
              "                 FunctionTransformer(func=&lt;function reorder_columns at 0x173937ba0&gt;)),\n",
              "                (&#x27;preprocessor&#x27;,\n",
              "                 ColumnTransformer(transformers=[(&#x27;num&#x27;, StandardScaler(),\n",
              "                                                  [&#x27;lat&#x27;, &#x27;long&#x27;, &#x27;pop&#x27;,\n",
              "                                                   &#x27;price&#x27;, &#x27;quantity&#x27;]),\n",
              "                                                 (&#x27;cat&#x27;, OneHotEncoder(),\n",
              "                                                  [&#x27;city&#x27;, &#x27;shop&#x27;, &#x27;brand...\n",
              "                              max_bin=None, max_cat_threshold=None,\n",
              "                              max_cat_to_onehot=None, max_delta_step=None,\n",
              "                              max_depth=None, max_leaves=None,\n",
              "                              min_child_weight=None, missing=nan,\n",
              "                              monotone_constraints=&#x27;(0,0,0,-1,0,0,0,0,0,0,0,0,0,0,0,0,0,0,0,0,0,0,0,0,0,0,0,0,0,0,0,0,0,0,0,0,0,0,0,0,0,0,0,0,0,0,0,0,0,0)&#x27;,\n",
              "                              multi_strategy=None, n_estimators=None,\n",
              "                              n_jobs=None, num_parallel_tree=None,\n",
              "                              random_state=None, ...))])</pre></div> </div></div><div class=\"sk-serial\"><div class=\"sk-item\"><div class=\"sk-estimator fitted sk-toggleable\"><input class=\"sk-toggleable__control sk-hidden--visually\" id=\"sk-estimator-id-2\" type=\"checkbox\" ><label for=\"sk-estimator-id-2\" class=\"sk-toggleable__label fitted sk-toggleable__label-arrow fitted\">&nbsp;FunctionTransformer<a class=\"sk-estimator-doc-link fitted\" rel=\"noreferrer\" target=\"_blank\" href=\"https://scikit-learn.org/1.4/modules/generated/sklearn.preprocessing.FunctionTransformer.html\">?<span>Documentation for FunctionTransformer</span></a></label><div class=\"sk-toggleable__content fitted\"><pre>FunctionTransformer(func=&lt;function extract_date_features at 0x1739068e0&gt;)</pre></div> </div></div><div class=\"sk-item\"><div class=\"sk-estimator fitted sk-toggleable\"><input class=\"sk-toggleable__control sk-hidden--visually\" id=\"sk-estimator-id-3\" type=\"checkbox\" ><label for=\"sk-estimator-id-3\" class=\"sk-toggleable__label fitted sk-toggleable__label-arrow fitted\">&nbsp;FunctionTransformer<a class=\"sk-estimator-doc-link fitted\" rel=\"noreferrer\" target=\"_blank\" href=\"https://scikit-learn.org/1.4/modules/generated/sklearn.preprocessing.FunctionTransformer.html\">?<span>Documentation for FunctionTransformer</span></a></label><div class=\"sk-toggleable__content fitted\"><pre>FunctionTransformer(func=&lt;function reorder_columns at 0x173937ba0&gt;)</pre></div> </div></div><div class=\"sk-item sk-dashed-wrapped\"><div class=\"sk-label-container\"><div class=\"sk-label fitted sk-toggleable\"><input class=\"sk-toggleable__control sk-hidden--visually\" id=\"sk-estimator-id-4\" type=\"checkbox\" ><label for=\"sk-estimator-id-4\" class=\"sk-toggleable__label fitted sk-toggleable__label-arrow fitted\">&nbsp;preprocessor: ColumnTransformer<a class=\"sk-estimator-doc-link fitted\" rel=\"noreferrer\" target=\"_blank\" href=\"https://scikit-learn.org/1.4/modules/generated/sklearn.compose.ColumnTransformer.html\">?<span>Documentation for preprocessor: ColumnTransformer</span></a></label><div class=\"sk-toggleable__content fitted\"><pre>ColumnTransformer(transformers=[(&#x27;num&#x27;, StandardScaler(),\n",
              "                                 [&#x27;lat&#x27;, &#x27;long&#x27;, &#x27;pop&#x27;, &#x27;price&#x27;, &#x27;quantity&#x27;]),\n",
              "                                (&#x27;cat&#x27;, OneHotEncoder(),\n",
              "                                 [&#x27;city&#x27;, &#x27;shop&#x27;, &#x27;brand&#x27;, &#x27;container&#x27;,\n",
              "                                  &#x27;capacity&#x27;, &#x27;day&#x27;, &#x27;month&#x27;, &#x27;year&#x27;])])</pre></div> </div></div><div class=\"sk-parallel\"><div class=\"sk-parallel-item\"><div class=\"sk-item\"><div class=\"sk-label-container\"><div class=\"sk-label fitted sk-toggleable\"><input class=\"sk-toggleable__control sk-hidden--visually\" id=\"sk-estimator-id-5\" type=\"checkbox\" ><label for=\"sk-estimator-id-5\" class=\"sk-toggleable__label fitted sk-toggleable__label-arrow fitted\">num</label><div class=\"sk-toggleable__content fitted\"><pre>[&#x27;lat&#x27;, &#x27;long&#x27;, &#x27;pop&#x27;, &#x27;price&#x27;, &#x27;quantity&#x27;]</pre></div> </div></div><div class=\"sk-serial\"><div class=\"sk-item\"><div class=\"sk-estimator fitted sk-toggleable\"><input class=\"sk-toggleable__control sk-hidden--visually\" id=\"sk-estimator-id-6\" type=\"checkbox\" ><label for=\"sk-estimator-id-6\" class=\"sk-toggleable__label fitted sk-toggleable__label-arrow fitted\">&nbsp;StandardScaler<a class=\"sk-estimator-doc-link fitted\" rel=\"noreferrer\" target=\"_blank\" href=\"https://scikit-learn.org/1.4/modules/generated/sklearn.preprocessing.StandardScaler.html\">?<span>Documentation for StandardScaler</span></a></label><div class=\"sk-toggleable__content fitted\"><pre>StandardScaler()</pre></div> </div></div></div></div></div><div class=\"sk-parallel-item\"><div class=\"sk-item\"><div class=\"sk-label-container\"><div class=\"sk-label fitted sk-toggleable\"><input class=\"sk-toggleable__control sk-hidden--visually\" id=\"sk-estimator-id-7\" type=\"checkbox\" ><label for=\"sk-estimator-id-7\" class=\"sk-toggleable__label fitted sk-toggleable__label-arrow fitted\">cat</label><div class=\"sk-toggleable__content fitted\"><pre>[&#x27;city&#x27;, &#x27;shop&#x27;, &#x27;brand&#x27;, &#x27;container&#x27;, &#x27;capacity&#x27;, &#x27;day&#x27;, &#x27;month&#x27;, &#x27;year&#x27;]</pre></div> </div></div><div class=\"sk-serial\"><div class=\"sk-item\"><div class=\"sk-estimator fitted sk-toggleable\"><input class=\"sk-toggleable__control sk-hidden--visually\" id=\"sk-estimator-id-8\" type=\"checkbox\" ><label for=\"sk-estimator-id-8\" class=\"sk-toggleable__label fitted sk-toggleable__label-arrow fitted\">&nbsp;OneHotEncoder<a class=\"sk-estimator-doc-link fitted\" rel=\"noreferrer\" target=\"_blank\" href=\"https://scikit-learn.org/1.4/modules/generated/sklearn.preprocessing.OneHotEncoder.html\">?<span>Documentation for OneHotEncoder</span></a></label><div class=\"sk-toggleable__content fitted\"><pre>OneHotEncoder()</pre></div> </div></div></div></div></div></div></div><div class=\"sk-item\"><div class=\"sk-estimator fitted sk-toggleable\"><input class=\"sk-toggleable__control sk-hidden--visually\" id=\"sk-estimator-id-9\" type=\"checkbox\" ><label for=\"sk-estimator-id-9\" class=\"sk-toggleable__label fitted sk-toggleable__label-arrow fitted\">XGBRegressor</label><div class=\"sk-toggleable__content fitted\"><pre>XGBRegressor(base_score=None, booster=None, callbacks=None,\n",
              "             colsample_bylevel=None, colsample_bynode=None,\n",
              "             colsample_bytree=None, device=None, early_stopping_rounds=None,\n",
              "             enable_categorical=False, eval_metric=None, feature_types=None,\n",
              "             gamma=None, grow_policy=None, importance_type=None,\n",
              "             interaction_constraints=None, learning_rate=None, max_bin=None,\n",
              "             max_cat_threshold=None, max_cat_to_onehot=None,\n",
              "             max_delta_step=None, max_depth=None, max_leaves=None,\n",
              "             min_child_weight=None, missing=nan,\n",
              "             monotone_constraints=&#x27;(0,0,0,-1,0,0,0,0,0,0,0,0,0,0,0,0,0,0,0,0,0,0,0,0,0,0,0,0,0,0,0,0,0,0,0,0,0,0,0,0,0,0,0,0,0,0,0,0,0,0)&#x27;,\n",
              "             multi_strategy=None, n_estimators=None, n_jobs=None,\n",
              "             num_parallel_tree=None, random_state=None, ...)</pre></div> </div></div></div></div></div></div>"
            ],
            "text/plain": [
              "Pipeline(steps=[('date_transformer',\n",
              "                 FunctionTransformer(func=<function extract_date_features at 0x1739068e0>)),\n",
              "                ('reorder_columns',\n",
              "                 FunctionTransformer(func=<function reorder_columns at 0x173937ba0>)),\n",
              "                ('preprocessor',\n",
              "                 ColumnTransformer(transformers=[('num', StandardScaler(),\n",
              "                                                  ['lat', 'long', 'pop',\n",
              "                                                   'price', 'quantity']),\n",
              "                                                 ('cat', OneHotEncoder(),\n",
              "                                                  ['city', 'shop', 'brand...\n",
              "                              max_bin=None, max_cat_threshold=None,\n",
              "                              max_cat_to_onehot=None, max_delta_step=None,\n",
              "                              max_depth=None, max_leaves=None,\n",
              "                              min_child_weight=None, missing=nan,\n",
              "                              monotone_constraints='(0,0,0,-1,0,0,0,0,0,0,0,0,0,0,0,0,0,0,0,0,0,0,0,0,0,0,0,0,0,0,0,0,0,0,0,0,0,0,0,0,0,0,0,0,0,0,0,0,0,0)',\n",
              "                              multi_strategy=None, n_estimators=None,\n",
              "                              n_jobs=None, num_parallel_tree=None,\n",
              "                              random_state=None, ...))])"
            ]
          },
          "execution_count": 15,
          "metadata": {},
          "output_type": "execute_result"
        }
      ],
      "source": [
        "#1.2 Dado que conocemos la posición de \"price\", entrenamos el Pipeline, forzando una relación monótona negativa entre el precio y la cantidad\n",
        "\n",
        "from xgboost import XGBRegressor\n",
        "from sklearn.pipeline import Pipeline\n",
        "from sklearn.metrics import mean_absolute_error\n",
        "\n",
        "# Monotonic constraints string, donde -1 indica una restricción negativa en la característica de precio\n",
        "monotone_constraints = '(0,0,0,-1,0,0,0,0,0,0,0,0,0,0,0,0,0,0,0,0,0,0,0,0,0,0,0,0,0,0,0,0,0,0,0,0,0,0,0,0,0,0,0,0,0,0,0,0,0,0)'\n",
        "\n",
        "# Create a pipeline with the necessary steps\n",
        "pipeline_xgb_constrained = Pipeline(steps=[\n",
        "    ('date_transformer', FunctionTransformer(extract_date_features)),\n",
        "    ('reorder_columns', FunctionTransformer(reorder_columns)),\n",
        "    ('preprocessor', preprocessor),\n",
        "    ('regressor', XGBRegressor(monotone_constraints=monotone_constraints))\n",
        "])\n",
        "\n",
        "# Fit the pipeline to the training data\n",
        "pipeline_xgb_constrained.fit(train_df, train_df['quantity'])"
      ]
    },
    {
      "cell_type": "code",
      "execution_count": 16,
      "metadata": {
        "colab": {
          "base_uri": "https://localhost:8080/"
        },
        "id": "EuYtIfBlmiKe",
        "outputId": "412bd299-def8-4d2e-de52-2d9e0fbeae8a"
      },
      "outputs": [
        {
          "data": {
            "text/plain": [
              "156.24388469488807"
            ]
          },
          "execution_count": 16,
          "metadata": {},
          "output_type": "execute_result"
        }
      ],
      "source": [
        "#2.\n",
        "\n",
        "# Generate predictions for the validation set\n",
        "validation_predictions_xgb_constrained = pipeline_xgb_constrained.predict(validation_df)\n",
        "\n",
        "# Calculate the mean absolute error on the validation set\n",
        "mae_xgb_constrained = mean_absolute_error(validation_df['quantity'], validation_predictions_xgb_constrained)\n",
        "\n",
        "mae_xgb_constrained"
      ]
    },
    {
      "cell_type": "markdown",
      "metadata": {
        "id": "9t8e-wrdlMAu"
      },
      "source": [
        "3.\n",
        "\n",
        "**¿Cómo cambia el error al incluir esta relación?**\n",
        "\n",
        "   Al incluir la relación monótona negativa en la característica de precio, el error absoluto medio (MAE) se redujo de 162.2 a 156.2. Esto indica una mejora en la precisión del modelo. Los valores exactos del MAE son los siguientes:\n",
        "   - **XGBRegressor sin restricciones:** 162.2\n",
        "   - **XGBRegressor con restricciones monótonas:** 156.2\n",
        "\n",
        "   Esta reducción en el MAE sugiere que el modelo con la restricción monótona negativa en el precio es más preciso en sus predicciones comparado con el modelo sin restricciones.\n",
        "\n",
        "**¿Tenía razón la opinión de su amigo?**\n",
        "\n",
        "   Sí, la opinión experta del amigo tenía razón. La implementación de una relación monótona negativa entre el precio y la cantidad de ventas, que es una intuición comúnmente aceptada (ya que generalmente, al aumentar el precio, la demanda tiende a disminuir), ha mejorado el rendimiento del modelo. La reducción del MAE de 162.2 a 156.2 al aplicar esta restricción confirma que esta relación es significativa y relevante en el contexto de las predicciones de ventas para la productora de bebidas."
      ]
    },
    {
      "cell_type": "markdown",
      "metadata": {
        "cell_id": "e59ef80ed20b4de8921f24da74e87374",
        "deepnote_cell_type": "markdown",
        "id": "5D5-tX4dI5v_"
      },
      "source": [
        "## 3. Optimización de Hiperparámetros con Optuna (2.0 puntos)\n",
        "\n",
        "<p align=\"center\">\n",
        "  <img src=\"https://media.tenor.com/fmNdyGN4z5kAAAAi/hacking-lucy.gif\">\n",
        "</p>\n",
        "\n",
        "Luego de presentarle sus resultados, Fiu le pregunta si es posible mejorar *aun más* su modelo. En particular, le comenta de la optimización de hiperparámetros con metodologías bayesianas a través del paquete `optuna`. Como usted es un aficionado al entrenamiento de modelos de ML, se propone implementar la descabellada idea de su jefe.\n",
        "\n",
        "A partir de la mejor configuración obtenida en la sección anterior, utilice `optuna` para optimizar sus hiperparámetros. En particular, se le pide:\n",
        "\n",
        "- Fijar una semilla en las instancias necesarias para garantizar la reproducibilidad de resultados\n",
        "- Utilice `TPESampler` como método de muestreo\n",
        "- De `XGBRegressor`, optimice los siguientes hiperparámetros:\n",
        "    - `learning_rate` buscando valores flotantes en el rango (0.001, 0.1)\n",
        "    - `n_estimators` buscando valores enteros en el rango (50, 1000)\n",
        "    - `max_depth` buscando valores enteros en el rango (3, 10)\n",
        "    - `max_leaves` buscando valores enteros en el rango (0, 100)\n",
        "    - `min_child_weight` buscando valores enteros en el rango (1, 5)\n",
        "    - `reg_alpha` buscando valores flotantes en el rango (0, 1)\n",
        "    - `reg_lambda` buscando valores flotantes en el rango (0, 1)\n",
        "- De `OneHotEncoder`, optimice el hiperparámetro `min_frequency` buscando el mejor valor flotante en el rango (0.0, 1.0)\n",
        "- Explique cada hiperparámetro y su rol en el modelo. ¿Hacen sentido los rangos de optimización indicados?\n",
        "- Fije el tiempo de entrenamiento a 5 minutos\n",
        "- Reportar el número de *trials*, el `MAE` y los mejores hiperparámetros encontrados. ¿Cómo cambian sus resultados con respecto a la sección anterior? ¿A qué se puede deber esto?\n",
        "- Guardar su modelo en un archivo .pkl"
      ]
    },
    {
      "cell_type": "code",
      "execution_count": 17,
      "metadata": {
        "colab": {
          "base_uri": "https://localhost:8080/"
        },
        "id": "zphV0CAFa9ty",
        "outputId": "126b42f9-4514-43b2-e076-e80bce1f0a6a"
      },
      "outputs": [
        {
          "name": "stderr",
          "output_type": "stream",
          "text": [
            "[I 2024-06-02 21:13:54,892] A new study created in memory with name: no-name-bcac87d2-f15e-4dca-bf4e-76c31c14e3a5\n",
            "[I 2024-06-02 21:13:58,792] Trial 0 finished with value: 149.71546531794937 and parameters: {'learning_rate': 0.03807947176588889, 'n_estimators': 954, 'max_depth': 8, 'max_leaves': 60, 'min_child_weight': 1, 'reg_alpha': 0.15599452033620265, 'reg_lambda': 0.05808361216819946, 'min_frequency': 0.8661761457749352}. Best is trial 0 with value: 149.71546531794937.\n",
            "[I 2024-06-02 21:13:59,936] Trial 1 finished with value: 173.56720875382504 and parameters: {'learning_rate': 0.06051038616257767, 'n_estimators': 723, 'max_depth': 3, 'max_leaves': 97, 'min_child_weight': 5, 'reg_alpha': 0.21233911067827616, 'reg_lambda': 0.18182496720710062, 'min_frequency': 0.18340450985343382}. Best is trial 0 with value: 149.71546531794937.\n",
            "[I 2024-06-02 21:14:02,061] Trial 2 finished with value: 140.96185085775068 and parameters: {'learning_rate': 0.03111998205299424, 'n_estimators': 549, 'max_depth': 6, 'max_leaves': 29, 'min_child_weight': 4, 'reg_alpha': 0.13949386065204183, 'reg_lambda': 0.29214464853521815, 'min_frequency': 0.3663618432936917}. Best is trial 2 with value: 140.96185085775068.\n",
            "[I 2024-06-02 21:14:03,472] Trial 3 finished with value: 142.7872022172095 and parameters: {'learning_rate': 0.04615092843748656, 'n_estimators': 796, 'max_depth': 4, 'max_leaves': 51, 'min_child_weight': 3, 'reg_alpha': 0.046450412719997725, 'reg_lambda': 0.6075448519014384, 'min_frequency': 0.17052412368729153}. Best is trial 2 with value: 140.96185085775068.\n",
            "[I 2024-06-02 21:14:07,370] Trial 4 finished with value: 144.63914148956238 and parameters: {'learning_rate': 0.0074401077055426725, 'n_estimators': 952, 'max_depth': 10, 'max_leaves': 81, 'min_child_weight': 2, 'reg_alpha': 0.09767211400638387, 'reg_lambda': 0.6842330265121569, 'min_frequency': 0.4401524937396013}. Best is trial 2 with value: 140.96185085775068.\n",
            "[I 2024-06-02 21:14:08,280] Trial 5 finished with value: 145.66769660934355 and parameters: {'learning_rate': 0.013081785249633104, 'n_estimators': 520, 'max_depth': 3, 'max_leaves': 91, 'min_child_weight': 2, 'reg_alpha': 0.662522284353982, 'reg_lambda': 0.31171107608941095, 'min_frequency': 0.5200680211778108}. Best is trial 2 with value: 140.96185085775068.\n",
            "[I 2024-06-02 21:14:09,668] Trial 6 finished with value: 149.14727312442363 and parameters: {'learning_rate': 0.05512431765498469, 'n_estimators': 225, 'max_depth': 10, 'max_leaves': 78, 'min_child_weight': 5, 'reg_alpha': 0.8948273504276488, 'reg_lambda': 0.5978999788110851, 'min_frequency': 0.9218742350231168}. Best is trial 2 with value: 140.96185085775068.\n",
            "[I 2024-06-02 21:14:10,176] Trial 7 finished with value: 1424.3599336906857 and parameters: {'learning_rate': 0.00976075770314003, 'n_estimators': 236, 'max_depth': 3, 'max_leaves': 32, 'min_child_weight': 2, 'reg_alpha': 0.2713490317738959, 'reg_lambda': 0.8287375091519293, 'min_frequency': 0.3567533266935893}. Best is trial 2 with value: 140.96185085775068.\n",
            "[I 2024-06-02 21:14:11,830] Trial 8 finished with value: 144.87825700950495 and parameters: {'learning_rate': 0.028812516459050697, 'n_estimators': 566, 'max_depth': 4, 'max_leaves': 81, 'min_child_weight': 1, 'reg_alpha': 0.9868869366005173, 'reg_lambda': 0.7722447692966574, 'min_frequency': 0.1987156815341724}. Best is trial 2 with value: 140.96185085775068.\n",
            "[I 2024-06-02 21:14:15,626] Trial 9 finished with value: 3752.4585756727865 and parameters: {'learning_rate': 0.0015466895952366377, 'n_estimators': 825, 'max_depth': 8, 'max_leaves': 73, 'min_child_weight': 4, 'reg_alpha': 0.07404465173409036, 'reg_lambda': 0.3584657285442726, 'min_frequency': 0.11586905952512971}. Best is trial 2 with value: 140.96185085775068.\n",
            "[I 2024-06-02 21:14:15,721] Trial 10 finished with value: 13298.497707599765 and parameters: {'learning_rate': 0.08673802520395674, 'n_estimators': 55, 'max_depth': 6, 'max_leaves': 1, 'min_child_weight': 4, 'reg_alpha': 0.40200399907559825, 'reg_lambda': 0.95977074594542, 'min_frequency': 0.637971755211061}. Best is trial 2 with value: 140.96185085775068.\n",
            "[I 2024-06-02 21:14:17,219] Trial 11 finished with value: 139.98097504296612 and parameters: {'learning_rate': 0.03414472244610041, 'n_estimators': 574, 'max_depth': 5, 'max_leaves': 34, 'min_child_weight': 3, 'reg_alpha': 0.031502239667032333, 'reg_lambda': 0.4818963296633298, 'min_frequency': 0.01943545831023591}. Best is trial 11 with value: 139.98097504296612.\n",
            "[I 2024-06-02 21:14:18,959] Trial 12 finished with value: 139.45673978768443 and parameters: {'learning_rate': 0.031804109333339874, 'n_estimators': 497, 'max_depth': 6, 'max_leaves': 28, 'min_child_weight': 4, 'reg_alpha': 0.007377644645034792, 'reg_lambda': 0.4348065340660199, 'min_frequency': 0.08412335495667767}. Best is trial 12 with value: 139.45673978768443.\n",
            "[I 2024-06-02 21:14:20,301] Trial 13 finished with value: 138.59406094771757 and parameters: {'learning_rate': 0.02546331521623597, 'n_estimators': 387, 'max_depth': 5, 'max_leaves': 22, 'min_child_weight': 3, 'reg_alpha': 0.0029499057566037303, 'reg_lambda': 0.4381301674911344, 'min_frequency': 0.004552210498769527}. Best is trial 13 with value: 138.59406094771757.\n",
            "[I 2024-06-02 21:14:21,333] Trial 14 finished with value: 139.33835041498995 and parameters: {'learning_rate': 0.023242652390352673, 'n_estimators': 372, 'max_depth': 8, 'max_leaves': 10, 'min_child_weight': 4, 'reg_alpha': 0.303446300888558, 'reg_lambda': 0.4621147584011281, 'min_frequency': 0.0016624672525341463}. Best is trial 13 with value: 138.59406094771757.\n",
            "[I 2024-06-02 21:14:22,165] Trial 15 finished with value: 144.2789310734197 and parameters: {'learning_rate': 0.020043627980251184, 'n_estimators': 360, 'max_depth': 8, 'max_leaves': 8, 'min_child_weight': 3, 'reg_alpha': 0.3394423187153023, 'reg_lambda': 0.506388248899315, 'min_frequency': 0.002413958171029236}. Best is trial 13 with value: 138.59406094771757.\n",
            "[I 2024-06-02 21:14:23,197] Trial 16 finished with value: 141.96594492082704 and parameters: {'learning_rate': 0.021592116908201182, 'n_estimators': 371, 'max_depth': 7, 'max_leaves': 16, 'min_child_weight': 5, 'reg_alpha': 0.4791674871941883, 'reg_lambda': 0.22601359398602994, 'min_frequency': 0.26709333373337263}. Best is trial 13 with value: 138.59406094771757.\n",
            "[I 2024-06-02 21:14:24,366] Trial 17 finished with value: 137.88997363084758 and parameters: {'learning_rate': 0.018791302108361326, 'n_estimators': 375, 'max_depth': 9, 'max_leaves': 17, 'min_child_weight': 4, 'reg_alpha': 0.2612235769695188, 'reg_lambda': 0.40996730049618935, 'min_frequency': 0.009034211513545078}. Best is trial 17 with value: 137.88997363084758.\n",
            "[I 2024-06-02 21:14:24,815] Trial 18 finished with value: 10479.107094389252 and parameters: {'learning_rate': 0.001506472594068331, 'n_estimators': 159, 'max_depth': 9, 'max_leaves': 20, 'min_child_weight': 3, 'reg_alpha': 0.20895147069226672, 'reg_lambda': 0.036304813232118205, 'min_frequency': 0.2695834779232025}. Best is trial 17 with value: 137.88997363084758.\n",
            "[I 2024-06-02 21:14:25,967] Trial 19 finished with value: 143.71038879762952 and parameters: {'learning_rate': 0.04320831994331531, 'n_estimators': 444, 'max_depth': 5, 'max_leaves': 43, 'min_child_weight': 2, 'reg_alpha': 0.2085406745073693, 'reg_lambda': 0.3867145524690552, 'min_frequency': 0.09017405294742764}. Best is trial 17 with value: 137.88997363084758.\n",
            "[I 2024-06-02 21:14:28,247] Trial 20 finished with value: 140.07784041488515 and parameters: {'learning_rate': 0.01630760230464829, 'n_estimators': 682, 'max_depth': 9, 'max_leaves': 45, 'min_child_weight': 3, 'reg_alpha': 0.4102204225893098, 'reg_lambda': 0.5305969023526922, 'min_frequency': 0.10010434896644843}. Best is trial 17 with value: 137.88997363084758.\n",
            "[I 2024-06-02 21:14:28,980] Trial 21 finished with value: 140.17959940633384 and parameters: {'learning_rate': 0.022961705600600155, 'n_estimators': 339, 'max_depth': 7, 'max_leaves': 15, 'min_child_weight': 4, 'reg_alpha': 0.3062869486457372, 'reg_lambda': 0.40469047151404713, 'min_frequency': 0.03346170484552144}. Best is trial 17 with value: 137.88997363084758.\n",
            "[I 2024-06-02 21:14:30,537] Trial 22 finished with value: 142.9097860273621 and parameters: {'learning_rate': 0.02446662187295934, 'n_estimators': 275, 'max_depth': 9, 'max_leaves': 0, 'min_child_weight': 4, 'reg_alpha': 0.2662991755001066, 'reg_lambda': 0.4752807467435068, 'min_frequency': 0.00023805447847495553}. Best is trial 17 with value: 137.88997363084758.\n",
            "[I 2024-06-02 21:14:31,343] Trial 23 finished with value: 151.5842794396588 and parameters: {'learning_rate': 0.016158212073335936, 'n_estimators': 407, 'max_depth': 7, 'max_leaves': 10, 'min_child_weight': 5, 'reg_alpha': 0.13608873442560565, 'reg_lambda': 0.3934556100573689, 'min_frequency': 0.14623252520865798}. Best is trial 17 with value: 137.88997363084758.\n",
            "[I 2024-06-02 21:14:31,819] Trial 24 finished with value: 153.74673300217975 and parameters: {'learning_rate': 0.036530037689732675, 'n_estimators': 147, 'max_depth': 8, 'max_leaves': 22, 'min_child_weight': 3, 'reg_alpha': 0.5396239829911713, 'reg_lambda': 0.5351745803988226, 'min_frequency': 0.25798161390744917}. Best is trial 17 with value: 137.88997363084758.\n",
            "[I 2024-06-02 21:14:32,343] Trial 25 finished with value: 483.97301681180835 and parameters: {'learning_rate': 0.01128641469149829, 'n_estimators': 311, 'max_depth': 9, 'max_leaves': 8, 'min_child_weight': 4, 'reg_alpha': 0.10731581327742779, 'reg_lambda': 0.31675744373795145, 'min_frequency': 0.07402574272636171}. Best is trial 17 with value: 137.88997363084758.\n",
            "[I 2024-06-02 21:14:33,564] Trial 26 finished with value: 137.84346967219986 and parameters: {'learning_rate': 0.024540885471575923, 'n_estimators': 450, 'max_depth': 5, 'max_leaves': 24, 'min_child_weight': 4, 'reg_alpha': 0.3252885866430327, 'reg_lambda': 0.4333783607496428, 'min_frequency': 0.006262430662725873}. Best is trial 26 with value: 137.84346967219986.\n",
            "[I 2024-06-02 21:14:34,852] Trial 27 finished with value: 137.20439941078763 and parameters: {'learning_rate': 0.027069884217468, 'n_estimators': 455, 'max_depth': 5, 'max_leaves': 39, 'min_child_weight': 3, 'reg_alpha': 0.013897558179016611, 'reg_lambda': 0.2688607789172197, 'min_frequency': 0.1395479297602834}. Best is trial 27 with value: 137.20439941078763.\n",
            "[I 2024-06-02 21:14:36,125] Trial 28 finished with value: 150.72809218592806 and parameters: {'learning_rate': 0.04043809954905861, 'n_estimators': 647, 'max_depth': 4, 'max_leaves': 59, 'min_child_weight': 5, 'reg_alpha': 0.1912992212065898, 'reg_lambda': 0.18260823136905727, 'min_frequency': 0.13962121815830614}. Best is trial 27 with value: 137.20439941078763.\n",
            "[I 2024-06-02 21:14:37,287] Trial 29 finished with value: 145.98329511574656 and parameters: {'learning_rate': 0.03665689963111815, 'n_estimators': 462, 'max_depth': 5, 'max_leaves': 40, 'min_child_weight': 1, 'reg_alpha': 0.15553691230533062, 'reg_lambda': 0.1353757640897113, 'min_frequency': 0.21755309209486168}. Best is trial 27 with value: 137.20439941078763.\n",
            "[I 2024-06-02 21:14:39,168] Trial 30 finished with value: 142.15406943614815 and parameters: {'learning_rate': 0.015638530565039825, 'n_estimators': 615, 'max_depth': 6, 'max_leaves': 56, 'min_child_weight': 4, 'reg_alpha': 0.10394806001349523, 'reg_lambda': 0.08318394338936397, 'min_frequency': 0.0894571748278574}. Best is trial 27 with value: 137.20439941078763.\n",
            "[I 2024-06-02 21:14:40,254] Trial 31 finished with value: 138.51476043762577 and parameters: {'learning_rate': 0.027376997775920217, 'n_estimators': 448, 'max_depth': 5, 'max_leaves': 25, 'min_child_weight': 3, 'reg_alpha': 0.05291168760280551, 'reg_lambda': 0.2601921891810344, 'min_frequency': 0.06777091215897854}. Best is trial 27 with value: 137.20439941078763.\n",
            "[I 2024-06-02 21:14:41,174] Trial 32 finished with value: 137.98535631104335 and parameters: {'learning_rate': 0.02973203403619724, 'n_estimators': 452, 'max_depth': 4, 'max_leaves': 37, 'min_child_weight': 3, 'reg_alpha': 0.06405195963502537, 'reg_lambda': 0.2584980859120969, 'min_frequency': 0.14008006835516082}. Best is trial 27 with value: 137.20439941078763.\n",
            "[I 2024-06-02 21:14:42,185] Trial 33 finished with value: 139.34922670790368 and parameters: {'learning_rate': 0.03526311578503315, 'n_estimators': 490, 'max_depth': 4, 'max_leaves': 37, 'min_child_weight': 3, 'reg_alpha': 0.15960584081897616, 'reg_lambda': 0.2410372976604016, 'min_frequency': 0.16825001769311343}. Best is trial 27 with value: 137.20439941078763.\n",
            "[I 2024-06-02 21:14:43,172] Trial 34 finished with value: 138.98130563982855 and parameters: {'learning_rate': 0.04672057825304805, 'n_estimators': 437, 'max_depth': 4, 'max_leaves': 49, 'min_child_weight': 2, 'reg_alpha': 0.22267418581934095, 'reg_lambda': 0.363324636032632, 'min_frequency': 0.15040742743640062}. Best is trial 27 with value: 137.20439941078763.\n",
            "[I 2024-06-02 21:14:43,630] Trial 35 finished with value: 145.9720543311955 and parameters: {'learning_rate': 0.03110817046466688, 'n_estimators': 295, 'max_depth': 3, 'max_leaves': 65, 'min_child_weight': 3, 'reg_alpha': 0.0850430064167278, 'reg_lambda': 0.28834285332769183, 'min_frequency': 0.21331327691694085}. Best is trial 27 with value: 137.20439941078763.\n",
            "[I 2024-06-02 21:14:45,175] Trial 36 finished with value: 140.2438216538816 and parameters: {'learning_rate': 0.019302222027410564, 'n_estimators': 775, 'max_depth': 4, 'max_leaves': 35, 'min_child_weight': 4, 'reg_alpha': 0.0044444193708484125, 'reg_lambda': 0.32931299857668295, 'min_frequency': 0.04565330325655692}. Best is trial 27 with value: 137.20439941078763.\n",
            "[I 2024-06-02 21:14:46,766] Trial 37 finished with value: 140.8035791244865 and parameters: {'learning_rate': 0.028459232030644686, 'n_estimators': 533, 'max_depth': 6, 'max_leaves': 30, 'min_child_weight': 2, 'reg_alpha': 0.13717841425683952, 'reg_lambda': 0.19225117429339644, 'min_frequency': 0.13626174726462129}. Best is trial 27 with value: 137.20439941078763.\n",
            "[I 2024-06-02 21:14:48,397] Trial 38 finished with value: 157.1282755124497 and parameters: {'learning_rate': 0.009039024513196697, 'n_estimators': 605, 'max_depth': 5, 'max_leaves': 50, 'min_child_weight': 5, 'reg_alpha': 0.08577363689965019, 'reg_lambda': 0.28118906487538914, 'min_frequency': 0.33998758858792155}. Best is trial 27 with value: 137.20439941078763.\n",
            "[I 2024-06-02 21:14:48,749] Trial 39 finished with value: 160.5813451673583 and parameters: {'learning_rate': 0.05110175042488937, 'n_estimators': 217, 'max_depth': 3, 'max_leaves': 15, 'min_child_weight': 2, 'reg_alpha': 0.24636820156847686, 'reg_lambda': 0.10067187871908523, 'min_frequency': 0.057221053557877655}. Best is trial 27 with value: 137.20439941078763.\n",
            "[I 2024-06-02 21:14:51,218] Trial 40 finished with value: 142.37692004893947 and parameters: {'learning_rate': 0.04095876842772815, 'n_estimators': 713, 'max_depth': 10, 'max_leaves': 40, 'min_child_weight': 3, 'reg_alpha': 0.2070583648128001, 'reg_lambda': 0.016496264630272095, 'min_frequency': 0.17880530845995055}. Best is trial 27 with value: 137.20439941078763.\n",
            "[I 2024-06-02 21:14:52,560] Trial 41 finished with value: 138.13799086838742 and parameters: {'learning_rate': 0.027064083852339983, 'n_estimators': 426, 'max_depth': 5, 'max_leaves': 26, 'min_child_weight': 3, 'reg_alpha': 0.03746002701399581, 'reg_lambda': 0.25244111809947745, 'min_frequency': 0.055830757423033284}. Best is trial 27 with value: 137.20439941078763.\n",
            "[I 2024-06-02 21:14:54,081] Trial 42 finished with value: 139.3337710180353 and parameters: {'learning_rate': 0.030683525081960067, 'n_estimators': 490, 'max_depth': 4, 'max_leaves': 27, 'min_child_weight': 3, 'reg_alpha': 0.054203797658749, 'reg_lambda': 0.32621780333557876, 'min_frequency': 0.11536576824692503}. Best is trial 27 with value: 137.20439941078763.\n",
            "[I 2024-06-02 21:14:55,280] Trial 43 finished with value: 138.5469873276115 and parameters: {'learning_rate': 0.018950992283746047, 'n_estimators': 408, 'max_depth': 5, 'max_leaves': 33, 'min_child_weight': 4, 'reg_alpha': 0.05170460375058833, 'reg_lambda': 0.22422592232956162, 'min_frequency': 0.07844003387375065}. Best is trial 27 with value: 137.20439941078763.\n",
            "[I 2024-06-02 21:14:56,940] Trial 44 finished with value: 140.0694426978538 and parameters: {'learning_rate': 0.012850883015569085, 'n_estimators': 514, 'max_depth': 6, 'max_leaves': 19, 'min_child_weight': 2, 'reg_alpha': 0.169523800881946, 'reg_lambda': 0.1397252021786533, 'min_frequency': 0.049277808354151555}. Best is trial 27 with value: 137.20439941078763.\n",
            "[I 2024-06-02 21:14:58,261] Trial 45 finished with value: 138.7580690850834 and parameters: {'learning_rate': 0.02665723846790765, 'n_estimators': 571, 'max_depth': 4, 'max_leaves': 26, 'min_child_weight': 3, 'reg_alpha': 0.11648078965321396, 'reg_lambda': 0.3614059636204757, 'min_frequency': 0.12014920149134176}. Best is trial 27 with value: 137.20439941078763.\n",
            "[I 2024-06-02 21:14:58,970] Trial 46 finished with value: 139.34717631963656 and parameters: {'learning_rate': 0.03339449232709778, 'n_estimators': 417, 'max_depth': 3, 'max_leaves': 91, 'min_child_weight': 4, 'reg_alpha': 0.004428567219194435, 'reg_lambda': 0.26871947185599887, 'min_frequency': 0.193689555735062}. Best is trial 27 with value: 137.20439941078763.\n",
            "[I 2024-06-02 21:14:59,939] Trial 47 finished with value: 1680.0650249151156 and parameters: {'learning_rate': 0.00636214741468041, 'n_estimators': 329, 'max_depth': 5, 'max_leaves': 46, 'min_child_weight': 3, 'reg_alpha': 0.06439134998377262, 'reg_lambda': 0.4307028741120583, 'min_frequency': 0.04358157643323696}. Best is trial 27 with value: 137.20439941078763.\n",
            "[I 2024-06-02 21:15:00,797] Trial 48 finished with value: 141.66134109343562 and parameters: {'learning_rate': 0.024508244469569312, 'n_estimators': 260, 'max_depth': 7, 'max_leaves': 38, 'min_child_weight': 4, 'reg_alpha': 0.16762612224764264, 'reg_lambda': 0.3212017781919798, 'min_frequency': 0.4543523709978241}. Best is trial 27 with value: 137.20439941078763.\n",
            "[I 2024-06-02 21:15:02,536] Trial 49 finished with value: 141.8222241980529 and parameters: {'learning_rate': 0.029809338408443735, 'n_estimators': 555, 'max_depth': 6, 'max_leaves': 54, 'min_child_weight': 3, 'reg_alpha': 0.1196344861026839, 'reg_lambda': 0.23647187535924594, 'min_frequency': 0.04258100955226615}. Best is trial 27 with value: 137.20439941078763.\n",
            "[I 2024-06-02 21:15:05,519] Trial 50 finished with value: 146.0932052274585 and parameters: {'learning_rate': 0.03762161034628179, 'n_estimators': 989, 'max_depth': 6, 'max_leaves': 31, 'min_child_weight': 4, 'reg_alpha': 0.24342087212745345, 'reg_lambda': 0.1903594378395413, 'min_frequency': 0.10123925664300717}. Best is trial 27 with value: 137.20439941078763.\n",
            "[I 2024-06-02 21:15:06,675] Trial 51 finished with value: 137.6077362613179 and parameters: {'learning_rate': 0.025716783967172373, 'n_estimators': 466, 'max_depth': 5, 'max_leaves': 22, 'min_child_weight': 3, 'reg_alpha': 0.048012452992819976, 'reg_lambda': 0.27519715023733937, 'min_frequency': 0.06486627193729685}. Best is trial 27 with value: 137.20439941078763.\n",
            "[I 2024-06-02 21:15:07,823] Trial 52 finished with value: 137.5848328905726 and parameters: {'learning_rate': 0.02127035638536253, 'n_estimators': 471, 'max_depth': 5, 'max_leaves': 24, 'min_child_weight': 3, 'reg_alpha': 0.04272540101272268, 'reg_lambda': 0.35305423138278447, 'min_frequency': 0.026060889150047416}. Best is trial 27 with value: 137.20439941078763.\n",
            "[I 2024-06-02 21:15:08,936] Trial 53 finished with value: 136.59103072209297 and parameters: {'learning_rate': 0.020992170726153173, 'n_estimators': 467, 'max_depth': 5, 'max_leaves': 17, 'min_child_weight': 3, 'reg_alpha': 0.0865608352551456, 'reg_lambda': 0.3503527136057407, 'min_frequency': 0.001255437593782503}. Best is trial 53 with value: 136.59103072209297.\n",
            "[I 2024-06-02 21:15:09,537] Trial 54 finished with value: 151.30125217450538 and parameters: {'learning_rate': 0.020681028093349266, 'n_estimators': 368, 'max_depth': 5, 'max_leaves': 5, 'min_child_weight': 3, 'reg_alpha': 0.000719966334947187, 'reg_lambda': 0.41805261303131286, 'min_frequency': 0.003640654115001098}. Best is trial 53 with value: 136.59103072209297.\n",
            "[I 2024-06-02 21:15:10,778] Trial 55 finished with value: 655.0274305337232 and parameters: {'learning_rate': 0.0060311942993368645, 'n_estimators': 515, 'max_depth': 5, 'max_leaves': 17, 'min_child_weight': 2, 'reg_alpha': 0.09498498654079153, 'reg_lambda': 0.3572762786595456, 'min_frequency': 0.030671816290591427}. Best is trial 53 with value: 136.59103072209297.\n",
            "[I 2024-06-02 21:15:11,796] Trial 56 finished with value: 138.20287283597418 and parameters: {'learning_rate': 0.01853263119185154, 'n_estimators': 488, 'max_depth': 6, 'max_leaves': 14, 'min_child_weight': 4, 'reg_alpha': 0.1402183409381859, 'reg_lambda': 0.4555856989848124, 'min_frequency': 0.010132059702451242}. Best is trial 53 with value: 136.59103072209297.\n",
            "[I 2024-06-02 21:15:13,321] Trial 57 finished with value: 139.63246307270708 and parameters: {'learning_rate': 0.023209166634626997, 'n_estimators': 607, 'max_depth': 5, 'max_leaves': 21, 'min_child_weight': 3, 'reg_alpha': 0.032631069162734394, 'reg_lambda': 0.3980617894207346, 'min_frequency': 0.10516281492919159}. Best is trial 53 with value: 136.59103072209297.\n",
            "[I 2024-06-02 21:15:13,915] Trial 58 finished with value: 284.33692683444417 and parameters: {'learning_rate': 0.012915495232369956, 'n_estimators': 351, 'max_depth': 7, 'max_leaves': 5, 'min_child_weight': 4, 'reg_alpha': 0.29104966228237983, 'reg_lambda': 0.304441204792316, 'min_frequency': 0.07092063697074562}. Best is trial 53 with value: 136.59103072209297.\n",
            "[I 2024-06-02 21:15:14,805] Trial 59 finished with value: 148.95542591486418 and parameters: {'learning_rate': 0.015474999705102487, 'n_estimators': 390, 'max_depth': 5, 'max_leaves': 12, 'min_child_weight': 3, 'reg_alpha': 0.3651973694386451, 'reg_lambda': 0.5049745732284879, 'min_frequency': 0.02899979775278691}. Best is trial 53 with value: 136.59103072209297.\n",
            "[I 2024-06-02 21:15:16,972] Trial 60 finished with value: 145.48415820443495 and parameters: {'learning_rate': 0.022367810793754127, 'n_estimators': 874, 'max_depth': 6, 'max_leaves': 21, 'min_child_weight': 5, 'reg_alpha': 0.08786139383602302, 'reg_lambda': 0.4499874479732419, 'min_frequency': 0.10593294200755797}. Best is trial 53 with value: 136.59103072209297.\n",
            "[I 2024-06-02 21:15:17,873] Trial 61 finished with value: 138.5135025648684 and parameters: {'learning_rate': 0.03308908958723397, 'n_estimators': 460, 'max_depth': 4, 'max_leaves': 30, 'min_child_weight': 3, 'reg_alpha': 0.037110019707623065, 'reg_lambda': 0.3633421377899441, 'min_frequency': 0.16342550673740794}. Best is trial 53 with value: 136.59103072209297.\n",
            "[I 2024-06-02 21:15:18,804] Trial 62 finished with value: 136.09837311630199 and parameters: {'learning_rate': 0.02601389011308059, 'n_estimators': 470, 'max_depth': 4, 'max_leaves': 25, 'min_child_weight': 3, 'reg_alpha': 0.18122335763835573, 'reg_lambda': 0.33689969213698234, 'min_frequency': 0.1259207546013757}. Best is trial 62 with value: 136.09837311630199.\n",
            "[I 2024-06-02 21:15:19,873] Trial 63 finished with value: 136.48688255837106 and parameters: {'learning_rate': 0.025078148092742853, 'n_estimators': 539, 'max_depth': 4, 'max_leaves': 18, 'min_child_weight': 3, 'reg_alpha': 0.19823912396159854, 'reg_lambda': 0.39882834537895195, 'min_frequency': 0.08020290798263893}. Best is trial 62 with value: 136.09837311630199.\n",
            "[I 2024-06-02 21:15:20,933] Trial 64 finished with value: 137.28728965590417 and parameters: {'learning_rate': 0.02505969457125519, 'n_estimators': 550, 'max_depth': 4, 'max_leaves': 22, 'min_child_weight': 3, 'reg_alpha': 0.19951506782003925, 'reg_lambda': 0.29722647742742175, 'min_frequency': 0.08373400249374857}. Best is trial 62 with value: 136.09837311630199.\n",
            "[I 2024-06-02 21:15:22,012] Trial 65 finished with value: 140.69063092749204 and parameters: {'learning_rate': 0.027445649647014292, 'n_estimators': 543, 'max_depth': 4, 'max_leaves': 23, 'min_child_weight': 3, 'reg_alpha': 0.18449978436631628, 'reg_lambda': 0.2967408499663037, 'min_frequency': 0.23587900537469764}. Best is trial 62 with value: 136.09837311630199.\n",
            "[I 2024-06-02 21:15:22,993] Trial 66 finished with value: 145.62016500041918 and parameters: {'learning_rate': 0.02125412538647959, 'n_estimators': 649, 'max_depth': 3, 'max_leaves': 18, 'min_child_weight': 2, 'reg_alpha': 0.12408990331215358, 'reg_lambda': 0.3338919732883052, 'min_frequency': 0.18391338418852407}. Best is trial 62 with value: 136.09837311630199.\n",
            "[I 2024-06-02 21:15:24,262] Trial 67 finished with value: 141.45162478778923 and parameters: {'learning_rate': 0.034129877033749034, 'n_estimators': 585, 'max_depth': 4, 'max_leaves': 12, 'min_child_weight': 3, 'reg_alpha': 0.18555435537897438, 'reg_lambda': 0.3842997409521849, 'min_frequency': 0.1258956809291942}. Best is trial 62 with value: 136.09837311630199.\n",
            "[I 2024-06-02 21:15:25,141] Trial 68 finished with value: 142.42556740180666 and parameters: {'learning_rate': 0.017023756554191936, 'n_estimators': 523, 'max_depth': 3, 'max_leaves': 29, 'min_child_weight': 3, 'reg_alpha': 0.22381490981706892, 'reg_lambda': 0.28512341575363, 'min_frequency': 0.08095045879678647}. Best is trial 62 with value: 136.09837311630199.\n",
            "[I 2024-06-02 21:15:25,911] Trial 69 finished with value: 150.40915185121145 and parameters: {'learning_rate': 0.025150653757599527, 'n_estimators': 493, 'max_depth': 4, 'max_leaves': 5, 'min_child_weight': 3, 'reg_alpha': 0.07365546904906872, 'reg_lambda': 0.2140308304592133, 'min_frequency': 0.15343472362244442}. Best is trial 62 with value: 136.09837311630199.\n",
            "[I 2024-06-02 21:15:27,191] Trial 70 finished with value: 137.0429122587085 and parameters: {'learning_rate': 0.014580324179585161, 'n_estimators': 655, 'max_depth': 4, 'max_leaves': 34, 'min_child_weight': 2, 'reg_alpha': 0.13557745860074427, 'reg_lambda': 0.34824148743561234, 'min_frequency': 0.07693849009810644}. Best is trial 62 with value: 136.09837311630199.\n",
            "[I 2024-06-02 21:15:28,505] Trial 71 finished with value: 139.08113836010858 and parameters: {'learning_rate': 0.014676507574467503, 'n_estimators': 649, 'max_depth': 4, 'max_leaves': 24, 'min_child_weight': 1, 'reg_alpha': 0.14467965506417543, 'reg_lambda': 0.35044667311918026, 'min_frequency': 0.07542776381866721}. Best is trial 62 with value: 136.09837311630199.\n",
            "[I 2024-06-02 21:15:29,860] Trial 72 finished with value: 134.437575321722 and parameters: {'learning_rate': 0.011142792952344743, 'n_estimators': 686, 'max_depth': 4, 'max_leaves': 35, 'min_child_weight': 2, 'reg_alpha': 0.10638508494511839, 'reg_lambda': 0.30968275261070566, 'min_frequency': 0.11738071526723431}. Best is trial 72 with value: 134.437575321722.\n",
            "[I 2024-06-02 21:15:31,022] Trial 73 finished with value: 143.10977813495558 and parameters: {'learning_rate': 0.012241881872427243, 'n_estimators': 755, 'max_depth': 3, 'max_leaves': 32, 'min_child_weight': 1, 'reg_alpha': 0.11081288643247465, 'reg_lambda': 0.3858754094191965, 'min_frequency': 0.1058521114277588}. Best is trial 72 with value: 134.437575321722.\n",
            "[I 2024-06-02 21:15:32,410] Trial 74 finished with value: 137.6211238786888 and parameters: {'learning_rate': 0.01038214082266613, 'n_estimators': 692, 'max_depth': 4, 'max_leaves': 45, 'min_child_weight': 2, 'reg_alpha': 0.16865240163255824, 'reg_lambda': 0.32920890151244375, 'min_frequency': 0.18640298642498015}. Best is trial 72 with value: 134.437575321722.\n",
            "[I 2024-06-02 21:15:34,104] Trial 75 finished with value: 138.6748567577339 and parameters: {'learning_rate': 0.017650013187064523, 'n_estimators': 852, 'max_depth': 4, 'max_leaves': 35, 'min_child_weight': 2, 'reg_alpha': 0.08587513524114707, 'reg_lambda': 0.30231613298796867, 'min_frequency': 0.13227825123795683}. Best is trial 72 with value: 134.437575321722.\n",
            "[I 2024-06-02 21:15:35,575] Trial 76 finished with value: 136.6102367787454 and parameters: {'learning_rate': 0.02114573725056059, 'n_estimators': 621, 'max_depth': 4, 'max_leaves': 42, 'min_child_weight': 2, 'reg_alpha': 0.20182582800150517, 'reg_lambda': 0.40355927038687034, 'min_frequency': 0.21857766071053855}. Best is trial 72 with value: 134.437575321722.\n",
            "[I 2024-06-02 21:15:36,960] Trial 77 finished with value: 1225.372354897615 and parameters: {'learning_rate': 0.0038747740480856736, 'n_estimators': 627, 'max_depth': 4, 'max_leaves': 43, 'min_child_weight': 2, 'reg_alpha': 0.27771770669273305, 'reg_lambda': 0.41713753535621245, 'min_frequency': 0.21112273359486372}. Best is trial 72 with value: 134.437575321722.\n",
            "[I 2024-06-02 21:15:37,976] Trial 78 finished with value: 157.9155505952381 and parameters: {'learning_rate': 0.008997148059433021, 'n_estimators': 673, 'max_depth': 3, 'max_leaves': 41, 'min_child_weight': 2, 'reg_alpha': 0.24105074690769385, 'reg_lambda': 0.4642460380580401, 'min_frequency': 0.15842995691759917}. Best is trial 72 with value: 134.437575321722.\n",
            "[I 2024-06-02 21:15:39,418] Trial 79 finished with value: 140.18744629233737 and parameters: {'learning_rate': 0.014200474034500355, 'n_estimators': 739, 'max_depth': 4, 'max_leaves': 36, 'min_child_weight': 1, 'reg_alpha': 0.21150306468254998, 'reg_lambda': 0.38111388111633404, 'min_frequency': 0.23917943947062606}. Best is trial 72 with value: 134.437575321722.\n",
            "[I 2024-06-02 21:15:40,306] Trial 80 finished with value: 143.64065807606053 and parameters: {'learning_rate': 0.01922202797815658, 'n_estimators': 598, 'max_depth': 3, 'max_leaves': 48, 'min_child_weight': 2, 'reg_alpha': 0.1412620701526948, 'reg_lambda': 0.4106306711996057, 'min_frequency': 0.1317314476989481}. Best is trial 72 with value: 134.437575321722.\n",
            "[I 2024-06-02 21:15:41,440] Trial 81 finished with value: 136.93394989075077 and parameters: {'learning_rate': 0.020359862332116584, 'n_estimators': 565, 'max_depth': 4, 'max_leaves': 29, 'min_child_weight': 2, 'reg_alpha': 0.19155354250452222, 'reg_lambda': 0.3523972364660858, 'min_frequency': 0.029511627395756204}. Best is trial 72 with value: 134.437575321722.\n",
            "[I 2024-06-02 21:15:42,555] Trial 82 finished with value: 136.05216618722753 and parameters: {'learning_rate': 0.016493862130633793, 'n_estimators': 569, 'max_depth': 4, 'max_leaves': 33, 'min_child_weight': 2, 'reg_alpha': 0.1841566919814271, 'reg_lambda': 0.30930575021574874, 'min_frequency': 0.09226771663939128}. Best is trial 72 with value: 134.437575321722.\n",
            "[I 2024-06-02 21:15:43,914] Trial 83 finished with value: 135.6960198692153 and parameters: {'learning_rate': 0.01116418808623225, 'n_estimators': 671, 'max_depth': 4, 'max_leaves': 39, 'min_child_weight': 2, 'reg_alpha': 0.1795683924210903, 'reg_lambda': 0.34134596461273686, 'min_frequency': 0.04513446525181941}. Best is trial 72 with value: 134.437575321722.\n",
            "[I 2024-06-02 21:15:45,404] Trial 84 finished with value: 136.94342667332117 and parameters: {'learning_rate': 0.010756782316653491, 'n_estimators': 707, 'max_depth': 4, 'max_leaves': 33, 'min_child_weight': 2, 'reg_alpha': 0.2623278163962854, 'reg_lambda': 0.3783099584339488, 'min_frequency': 0.03391119748377478}. Best is trial 72 with value: 134.437575321722.\n",
            "[I 2024-06-02 21:15:46,868] Trial 85 finished with value: 138.88056955011317 and parameters: {'learning_rate': 0.009776399451420056, 'n_estimators': 708, 'max_depth': 4, 'max_leaves': 42, 'min_child_weight': 2, 'reg_alpha': 0.27370840743340236, 'reg_lambda': 0.38435326344810034, 'min_frequency': 0.03182668253711978}. Best is trial 72 with value: 134.437575321722.\n",
            "[I 2024-06-02 21:15:47,816] Trial 86 finished with value: 252.99978746174966 and parameters: {'learning_rate': 0.007044393585298948, 'n_estimators': 632, 'max_depth': 3, 'max_leaves': 28, 'min_child_weight': 2, 'reg_alpha': 0.2293355601582966, 'reg_lambda': 0.43200794997630254, 'min_frequency': 0.05531976912662945}. Best is trial 72 with value: 134.437575321722.\n",
            "[I 2024-06-02 21:15:49,388] Trial 87 finished with value: 135.16961960565476 and parameters: {'learning_rate': 0.010759629565382709, 'n_estimators': 774, 'max_depth': 4, 'max_leaves': 32, 'min_child_weight': 2, 'reg_alpha': 0.17653945864636772, 'reg_lambda': 0.31957795706588993, 'min_frequency': 0.0023804755090308105}. Best is trial 72 with value: 134.437575321722.\n",
            "[I 2024-06-02 21:15:50,968] Trial 88 finished with value: 1171.86580583763 and parameters: {'learning_rate': 0.00308410969594191, 'n_estimators': 803, 'max_depth': 4, 'max_leaves': 38, 'min_child_weight': 2, 'reg_alpha': 0.1881926994777757, 'reg_lambda': 0.32079329636657394, 'min_frequency': 0.005240340563208906}. Best is trial 72 with value: 134.437575321722.\n",
            "[I 2024-06-02 21:15:51,875] Trial 89 finished with value: 143.45159285792883 and parameters: {'learning_rate': 0.017536659678290573, 'n_estimators': 587, 'max_depth': 3, 'max_leaves': 27, 'min_child_weight': 2, 'reg_alpha': 0.1522493628574282, 'reg_lambda': 0.48676215175218185, 'min_frequency': 0.05715691904477377}. Best is trial 72 with value: 134.437575321722.\n",
            "[I 2024-06-02 21:15:53,226] Trial 90 finished with value: 135.6702734309503 and parameters: {'learning_rate': 0.012163114670845018, 'n_estimators': 676, 'max_depth': 4, 'max_leaves': 46, 'min_child_weight': 2, 'reg_alpha': 0.1699851367983152, 'reg_lambda': 0.34038133191421743, 'min_frequency': 0.09354879193612657}. Best is trial 72 with value: 134.437575321722.\n",
            "[I 2024-06-02 21:15:54,795] Trial 91 finished with value: 137.66858360449154 and parameters: {'learning_rate': 0.012475447103950137, 'n_estimators': 738, 'max_depth': 4, 'max_leaves': 54, 'min_child_weight': 2, 'reg_alpha': 0.18486004867700956, 'reg_lambda': 0.3395511380609956, 'min_frequency': 0.09703956418050305}. Best is trial 72 with value: 134.437575321722.\n",
            "[I 2024-06-02 21:15:57,160] Trial 92 finished with value: 139.13357783419266 and parameters: {'learning_rate': 0.015896788060227242, 'n_estimators': 677, 'max_depth': 4, 'max_leaves': 46, 'min_child_weight': 1, 'reg_alpha': 0.21580140801290634, 'reg_lambda': 0.312878372253987, 'min_frequency': 0.027646794930289705}. Best is trial 72 with value: 134.437575321722.\n",
            "[I 2024-06-02 21:15:59,898] Trial 93 finished with value: 143.01863655893695 and parameters: {'learning_rate': 0.007926871714727036, 'n_estimators': 783, 'max_depth': 4, 'max_leaves': 43, 'min_child_weight': 2, 'reg_alpha': 0.1690818181451662, 'reg_lambda': 0.27089691279548234, 'min_frequency': 0.11866173676939176}. Best is trial 72 with value: 134.437575321722.\n",
            "[I 2024-06-02 21:16:01,033] Trial 94 finished with value: 137.36352309822476 and parameters: {'learning_rate': 0.021924383555260114, 'n_estimators': 565, 'max_depth': 4, 'max_leaves': 32, 'min_child_weight': 2, 'reg_alpha': 0.11083776296755841, 'reg_lambda': 0.24591813880859914, 'min_frequency': 0.05408839605880751}. Best is trial 72 with value: 134.437575321722.\n",
            "[I 2024-06-02 21:16:01,989] Trial 95 finished with value: 143.76535416928655 and parameters: {'learning_rate': 0.012035185621599238, 'n_estimators': 626, 'max_depth': 3, 'max_leaves': 67, 'min_child_weight': 2, 'reg_alpha': 0.22712413925263447, 'reg_lambda': 0.4065492362778295, 'min_frequency': 0.09937038376357962}. Best is trial 72 with value: 134.437575321722.\n",
            "[I 2024-06-02 21:16:03,557] Trial 96 finished with value: 140.7763043102364 and parameters: {'learning_rate': 0.019578257772987346, 'n_estimators': 822, 'max_depth': 4, 'max_leaves': 52, 'min_child_weight': 2, 'reg_alpha': 0.15939394411813793, 'reg_lambda': 0.33636548793844473, 'min_frequency': 0.01644269198148801}. Best is trial 72 with value: 134.437575321722.\n",
            "[I 2024-06-02 21:16:04,922] Trial 97 finished with value: 136.8835460680751 and parameters: {'learning_rate': 0.016734192201917165, 'n_estimators': 662, 'max_depth': 4, 'max_leaves': 36, 'min_child_weight': 2, 'reg_alpha': 0.20002510624939004, 'reg_lambda': 0.36581697969147364, 'min_frequency': 0.1550667602927545}. Best is trial 72 with value: 134.437575321722.\n",
            "[I 2024-06-02 21:16:06,133] Trial 98 finished with value: 554.1024670156355 and parameters: {'learning_rate': 0.0046240380971363905, 'n_estimators': 726, 'max_depth': 3, 'max_leaves': 40, 'min_child_weight': 1, 'reg_alpha': 0.25181155428699264, 'reg_lambda': 0.2974533991325306, 'min_frequency': 0.17030142375876933}. Best is trial 72 with value: 134.437575321722.\n",
            "[I 2024-06-02 21:16:08,205] Trial 99 finished with value: 143.3439753101945 and parameters: {'learning_rate': 0.008235783787961118, 'n_estimators': 755, 'max_depth': 5, 'max_leaves': 36, 'min_child_weight': 2, 'reg_alpha': 0.12340379582052542, 'reg_lambda': 0.37622372704442436, 'min_frequency': 0.1481985896529025}. Best is trial 72 with value: 134.437575321722.\n",
            "[I 2024-06-02 21:16:09,545] Trial 100 finished with value: 138.56025410274145 and parameters: {'learning_rate': 0.016681768772416637, 'n_estimators': 664, 'max_depth': 4, 'max_leaves': 48, 'min_child_weight': 2, 'reg_alpha': 0.29918816310128477, 'reg_lambda': 0.44441562135180024, 'min_frequency': 0.11857748136561985}. Best is trial 72 with value: 134.437575321722.\n",
            "[I 2024-06-02 21:16:11,557] Trial 101 finished with value: 139.6854420795607 and parameters: {'learning_rate': 0.02314644485862111, 'n_estimators': 909, 'max_depth': 4, 'max_leaves': 29, 'min_child_weight': 2, 'reg_alpha': 0.19218335047630472, 'reg_lambda': 0.3621246548187039, 'min_frequency': 0.08659067404269272}. Best is trial 72 with value: 134.437575321722.\n",
            "[I 2024-06-02 21:16:12,903] Trial 102 finished with value: 136.8884026817153 and parameters: {'learning_rate': 0.014751144286298904, 'n_estimators': 695, 'max_depth': 4, 'max_leaves': 38, 'min_child_weight': 2, 'reg_alpha': 0.17165213245727354, 'reg_lambda': 0.3145807682321367, 'min_frequency': 0.04805903312321456}. Best is trial 72 with value: 134.437575321722.\n",
            "[I 2024-06-02 21:16:14,317] Trial 103 finished with value: 135.29137438563674 and parameters: {'learning_rate': 0.013848660254637369, 'n_estimators': 693, 'max_depth': 4, 'max_leaves': 38, 'min_child_weight': 2, 'reg_alpha': 0.16157696248971504, 'reg_lambda': 0.3139781217248105, 'min_frequency': 1.7794303714013804e-05}. Best is trial 72 with value: 134.437575321722.\n",
            "[I 2024-06-02 21:16:15,562] Trial 104 finished with value: 140.19191745525234 and parameters: {'learning_rate': 0.010590764209808659, 'n_estimators': 620, 'max_depth': 4, 'max_leaves': 44, 'min_child_weight': 2, 'reg_alpha': 0.10095430031339431, 'reg_lambda': 0.27977073323151114, 'min_frequency': 0.0698090583587346}. Best is trial 72 with value: 134.437575321722.\n",
            "[I 2024-06-02 21:16:17,421] Trial 105 finished with value: 140.93490205556253 and parameters: {'learning_rate': 0.013433490576166208, 'n_estimators': 686, 'max_depth': 5, 'max_leaves': 40, 'min_child_weight': 2, 'reg_alpha': 0.1496072571128394, 'reg_lambda': 0.2596515319498837, 'min_frequency': 0.002678977228079937}. Best is trial 72 with value: 134.437575321722.\n",
            "[I 2024-06-02 21:16:18,758] Trial 106 finished with value: 6062.282035965794 and parameters: {'learning_rate': 0.0012407872331577207, 'n_estimators': 639, 'max_depth': 4, 'max_leaves': 35, 'min_child_weight': 2, 'reg_alpha': 0.20744733144367822, 'reg_lambda': 0.4024035753495773, 'min_frequency': 0.19834304162646663}. Best is trial 72 with value: 134.437575321722.\n",
            "[I 2024-06-02 21:16:20,736] Trial 107 finished with value: 141.02175733437082 and parameters: {'learning_rate': 0.018052465702541595, 'n_estimators': 757, 'max_depth': 5, 'max_leaves': 33, 'min_child_weight': 2, 'reg_alpha': 0.07283673067292487, 'reg_lambda': 0.33708818855238765, 'min_frequency': 0.08559961957794529}. Best is trial 72 with value: 134.437575321722.\n",
            "[I 2024-06-02 21:16:21,785] Trial 108 finished with value: 545.1954431668133 and parameters: {'learning_rate': 0.006186392606885813, 'n_estimators': 536, 'max_depth': 4, 'max_leaves': 31, 'min_child_weight': 2, 'reg_alpha': 0.12476372313331067, 'reg_lambda': 0.31250075875173466, 'min_frequency': 0.020240322331159338}. Best is trial 72 with value: 134.437575321722.\n",
            "[I 2024-06-02 21:16:22,930] Trial 109 finished with value: 136.82323694772805 and parameters: {'learning_rate': 0.016396826125978554, 'n_estimators': 602, 'max_depth': 4, 'max_leaves': 25, 'min_child_weight': 2, 'reg_alpha': 0.22698217243968105, 'reg_lambda': 0.36446266816488726, 'min_frequency': 0.11283447826443921}. Best is trial 72 with value: 134.437575321722.\n",
            "[I 2024-06-02 21:16:24,185] Trial 110 finished with value: 140.68152273013078 and parameters: {'learning_rate': 0.011533220189364797, 'n_estimators': 582, 'max_depth': 4, 'max_leaves': 19, 'min_child_weight': 2, 'reg_alpha': 0.24097614563012726, 'reg_lambda': 0.28977235683663477, 'min_frequency': 0.06136352415668222}. Best is trial 72 with value: 134.437575321722.\n",
            "[I 2024-06-02 21:16:25,415] Trial 111 finished with value: 136.20060810828514 and parameters: {'learning_rate': 0.016156802847958087, 'n_estimators': 606, 'max_depth': 4, 'max_leaves': 38, 'min_child_weight': 2, 'reg_alpha': 0.1744168577126245, 'reg_lambda': 0.36719594124215543, 'min_frequency': 0.11299763137800983}. Best is trial 72 with value: 134.437575321722.\n",
            "[I 2024-06-02 21:16:26,448] Trial 112 finished with value: 137.55496651785714 and parameters: {'learning_rate': 0.014429372872133535, 'n_estimators': 506, 'max_depth': 4, 'max_leaves': 26, 'min_child_weight': 2, 'reg_alpha': 0.15842358891448954, 'reg_lambda': 0.34225869573054946, 'min_frequency': 0.11898557246181451}. Best is trial 72 with value: 134.437575321722.\n",
            "[I 2024-06-02 21:16:27,797] Trial 113 finished with value: 138.38605821124665 and parameters: {'learning_rate': 0.019441916506913126, 'n_estimators': 605, 'max_depth': 4, 'max_leaves': 47, 'min_child_weight': 2, 'reg_alpha': 0.13277968633242804, 'reg_lambda': 0.4017654430372928, 'min_frequency': 0.04335610784531195}. Best is trial 72 with value: 134.437575321722.\n",
            "[I 2024-06-02 21:16:27,965] Trial 114 finished with value: 7448.951625115275 and parameters: {'learning_rate': 0.009869951501944599, 'n_estimators': 59, 'max_depth': 4, 'max_leaves': 39, 'min_child_weight': 2, 'reg_alpha': 0.22326341480879114, 'reg_lambda': 0.4287831386958896, 'min_frequency': 0.09785848035837962}. Best is trial 72 with value: 134.437575321722.\n",
            "[I 2024-06-02 21:16:28,863] Trial 115 finished with value: 146.23330444909038 and parameters: {'learning_rate': 0.02175007255344912, 'n_estimators': 552, 'max_depth': 3, 'max_leaves': 13, 'min_child_weight': 2, 'reg_alpha': 0.10402474047543206, 'reg_lambda': 0.36854518301059824, 'min_frequency': 0.17649443704207113}. Best is trial 72 with value: 134.437575321722.\n",
            "[I 2024-06-02 21:16:30,026] Trial 116 finished with value: 138.356388166237 and parameters: {'learning_rate': 0.02322622109038891, 'n_estimators': 593, 'max_depth': 4, 'max_leaves': 41, 'min_child_weight': 2, 'reg_alpha': 0.17532656918864836, 'reg_lambda': 0.3244524607361998, 'min_frequency': 0.13919001290202856}. Best is trial 72 with value: 134.437575321722.\n",
            "[I 2024-06-02 21:16:31,842] Trial 117 finished with value: 140.6873781753018 and parameters: {'learning_rate': 0.02848068909926015, 'n_estimators': 726, 'max_depth': 5, 'max_leaves': 17, 'min_child_weight': 2, 'reg_alpha': 0.26241640754423445, 'reg_lambda': 0.39116387839988137, 'min_frequency': 0.07645376261795042}. Best is trial 72 with value: 134.437575321722.\n",
            "[I 2024-06-02 21:16:33,035] Trial 118 finished with value: 135.58553092644408 and parameters: {'learning_rate': 0.013434655431701914, 'n_estimators': 618, 'max_depth': 4, 'max_leaves': 31, 'min_child_weight': 3, 'reg_alpha': 0.1492426666167951, 'reg_lambda': 0.3053816404474109, 'min_frequency': 0.047831280703291824}. Best is trial 72 with value: 134.437575321722.\n",
            "[I 2024-06-02 21:16:34,414] Trial 119 finished with value: 236.67603963625504 and parameters: {'learning_rate': 0.00812804192492349, 'n_estimators': 532, 'max_depth': 5, 'max_leaves': 51, 'min_child_weight': 3, 'reg_alpha': 0.06870604351808729, 'reg_lambda': 0.2425227778057495, 'min_frequency': 0.017878235382733712}. Best is trial 72 with value: 134.437575321722.\n",
            "[I 2024-06-02 21:16:35,378] Trial 120 finished with value: 142.34122966968476 and parameters: {'learning_rate': 0.01364809974879745, 'n_estimators': 639, 'max_depth': 3, 'max_leaves': 31, 'min_child_weight': 3, 'reg_alpha': 0.1489451586978038, 'reg_lambda': 0.2700441970752738, 'min_frequency': 0.001276488387755792}. Best is trial 72 with value: 134.437575321722.\n",
            "[I 2024-06-02 21:16:36,595] Trial 121 finished with value: 136.98237389833795 and parameters: {'learning_rate': 0.015730935383087865, 'n_estimators': 606, 'max_depth': 4, 'max_leaves': 24, 'min_child_weight': 3, 'reg_alpha': 0.20643959161410258, 'reg_lambda': 0.30260475904893286, 'min_frequency': 0.04066757639624735}. Best is trial 72 with value: 134.437575321722.\n",
            "[I 2024-06-02 21:16:38,073] Trial 122 finished with value: 135.23295322062583 and parameters: {'learning_rate': 0.012049379752827268, 'n_estimators': 664, 'max_depth': 4, 'max_leaves': 34, 'min_child_weight': 3, 'reg_alpha': 0.17436811100185037, 'reg_lambda': 0.34797437156733374, 'min_frequency': 0.10896243290524953}. Best is trial 72 with value: 134.437575321722.\n",
            "[I 2024-06-02 21:16:39,110] Trial 123 finished with value: 153.4940508939051 and parameters: {'learning_rate': 0.011383408331708499, 'n_estimators': 478, 'max_depth': 4, 'max_leaves': 99, 'min_child_weight': 3, 'reg_alpha': 0.1759126928116763, 'reg_lambda': 0.34474521615829135, 'min_frequency': 0.06469520250815183}. Best is trial 72 with value: 134.437575321722.\n",
            "[I 2024-06-02 21:16:40,514] Trial 124 finished with value: 352.424956640887 and parameters: {'learning_rate': 0.005540459315385171, 'n_estimators': 694, 'max_depth': 4, 'max_leaves': 36, 'min_child_weight': 3, 'reg_alpha': 0.1324279253495882, 'reg_lambda': 0.3211228439715342, 'min_frequency': 0.04139556580575168}. Best is trial 72 with value: 134.437575321722.\n",
            "[I 2024-06-02 21:16:41,835] Trial 125 finished with value: 135.28857962226485 and parameters: {'learning_rate': 0.012517339592077337, 'n_estimators': 662, 'max_depth': 4, 'max_leaves': 33, 'min_child_weight': 3, 'reg_alpha': 0.09231415166578609, 'reg_lambda': 0.2922073485457999, 'min_frequency': 0.096872763146438}. Best is trial 72 with value: 134.437575321722.\n",
            "[I 2024-06-02 21:16:43,201] Trial 126 finished with value: 145.1313181825327 and parameters: {'learning_rate': 0.008587629138101169, 'n_estimators': 677, 'max_depth': 4, 'max_leaves': 33, 'min_child_weight': 3, 'reg_alpha': 0.09031537176318515, 'reg_lambda': 0.29000543414374225, 'min_frequency': 0.09498942548794566}. Best is trial 72 with value: 134.437575321722.\n",
            "[I 2024-06-02 21:16:44,817] Trial 127 finished with value: 137.17652955493378 and parameters: {'learning_rate': 0.013492200029735668, 'n_estimators': 656, 'max_depth': 5, 'max_leaves': 28, 'min_child_weight': 3, 'reg_alpha': 0.12153178757596161, 'reg_lambda': 0.22545910933237748, 'min_frequency': 0.06699546362389072}. Best is trial 72 with value: 134.437575321722.\n",
            "[I 2024-06-02 21:16:46,392] Trial 128 finished with value: 1286.175526793574 and parameters: {'learning_rate': 0.003070981051373739, 'n_estimators': 774, 'max_depth': 4, 'max_leaves': 37, 'min_child_weight': 3, 'reg_alpha': 0.10438246340685316, 'reg_lambda': 0.2575946550633706, 'min_frequency': 0.13072203031157192}. Best is trial 72 with value: 134.437575321722.\n",
            "[I 2024-06-02 21:16:47,800] Trial 129 finished with value: 161.05771805311034 and parameters: {'learning_rate': 0.0074190440817649295, 'n_estimators': 708, 'max_depth': 4, 'max_leaves': 31, 'min_child_weight': 3, 'reg_alpha': 0.14813689859385706, 'reg_lambda': 0.3076645163133062, 'min_frequency': 0.01700758822433221}. Best is trial 72 with value: 134.437575321722.\n",
            "[I 2024-06-02 21:16:49,331] Trial 130 finished with value: 135.3797654088594 and parameters: {'learning_rate': 0.012033345943921353, 'n_estimators': 668, 'max_depth': 4, 'max_leaves': 35, 'min_child_weight': 3, 'reg_alpha': 0.05743042790062294, 'reg_lambda': 0.3492384669993251, 'min_frequency': 0.085483595565859}. Best is trial 72 with value: 134.437575321722.\n",
            "[I 2024-06-02 21:16:50,600] Trial 131 finished with value: 135.16955672839117 and parameters: {'learning_rate': 0.012092914245291558, 'n_estimators': 657, 'max_depth': 4, 'max_leaves': 35, 'min_child_weight': 3, 'reg_alpha': 0.029958448024481804, 'reg_lambda': 0.3363628975941486, 'min_frequency': 0.08864762882492569}. Best is trial 72 with value: 134.437575321722.\n",
            "[I 2024-06-02 21:16:51,918] Trial 132 finished with value: 137.22032684387577 and parameters: {'learning_rate': 0.010339588106773902, 'n_estimators': 666, 'max_depth': 4, 'max_leaves': 34, 'min_child_weight': 3, 'reg_alpha': 0.016866236675570412, 'reg_lambda': 0.28018222282869804, 'min_frequency': 0.08884180323662527}. Best is trial 72 with value: 134.437575321722.\n",
            "[I 2024-06-02 21:16:53,167] Trial 133 finished with value: 135.04747855623324 and parameters: {'learning_rate': 0.012285704414143719, 'n_estimators': 641, 'max_depth': 4, 'max_leaves': 38, 'min_child_weight': 3, 'reg_alpha': 0.05102824487711563, 'reg_lambda': 0.33548650987322, 'min_frequency': 0.11051291946766167}. Best is trial 72 with value: 134.437575321722.\n",
            "[I 2024-06-02 21:16:54,526] Trial 134 finished with value: 134.84930792436913 and parameters: {'learning_rate': 0.011659112110172056, 'n_estimators': 644, 'max_depth': 4, 'max_leaves': 38, 'min_child_weight': 3, 'reg_alpha': 0.04335682777375974, 'reg_lambda': 0.3295918293259362, 'min_frequency': 0.10904221129922814}. Best is trial 72 with value: 134.437575321722.\n",
            "[I 2024-06-02 21:16:55,972] Trial 135 finished with value: 305.7961643559272 and parameters: {'learning_rate': 0.005584956084211262, 'n_estimators': 722, 'max_depth': 4, 'max_leaves': 34, 'min_child_weight': 3, 'reg_alpha': 0.052990660208602984, 'reg_lambda': 0.3181828104068436, 'min_frequency': 0.12764755064452354}. Best is trial 72 with value: 134.437575321722.\n",
            "[I 2024-06-02 21:16:57,319] Trial 136 finished with value: 135.69535147080398 and parameters: {'learning_rate': 0.013135366474516507, 'n_estimators': 642, 'max_depth': 4, 'max_leaves': 39, 'min_child_weight': 3, 'reg_alpha': 0.02582110144798147, 'reg_lambda': 0.32898808816373193, 'min_frequency': 0.16243723869705418}. Best is trial 72 with value: 134.437575321722.\n",
            "[I 2024-06-02 21:16:58,636] Trial 137 finished with value: 135.9076490191147 and parameters: {'learning_rate': 0.011888203672510018, 'n_estimators': 646, 'max_depth': 4, 'max_leaves': 44, 'min_child_weight': 3, 'reg_alpha': 0.04377856204241798, 'reg_lambda': 0.21077351560006102, 'min_frequency': 0.14537248483469084}. Best is trial 72 with value: 134.437575321722.\n",
            "[I 2024-06-02 21:17:00,271] Trial 138 finished with value: 136.0843991356996 and parameters: {'learning_rate': 0.012180577560046289, 'n_estimators': 643, 'max_depth': 4, 'max_leaves': 44, 'min_child_weight': 3, 'reg_alpha': 0.033397865287323136, 'reg_lambda': 0.21090139576216604, 'min_frequency': 0.16036530619736591}. Best is trial 72 with value: 134.437575321722.\n",
            "[I 2024-06-02 21:17:01,541] Trial 139 finished with value: 156.98195717272384 and parameters: {'learning_rate': 0.008908451726312277, 'n_estimators': 684, 'max_depth': 3, 'max_leaves': 41, 'min_child_weight': 3, 'reg_alpha': 0.024178047195612895, 'reg_lambda': 0.2495099018058195, 'min_frequency': 0.14450046929325921}. Best is trial 72 with value: 134.437575321722.\n",
            "[I 2024-06-02 21:17:03,016] Trial 140 finished with value: 135.24681765724554 and parameters: {'learning_rate': 0.01179199339558825, 'n_estimators': 695, 'max_depth': 4, 'max_leaves': 39, 'min_child_weight': 3, 'reg_alpha': 0.00017821464947724575, 'reg_lambda': 0.27824400564530993, 'min_frequency': 0.17515990866774125}. Best is trial 72 with value: 134.437575321722.\n",
            "[I 2024-06-02 21:17:04,497] Trial 141 finished with value: 135.12363274700286 and parameters: {'learning_rate': 0.011654608082674633, 'n_estimators': 664, 'max_depth': 4, 'max_leaves': 39, 'min_child_weight': 3, 'reg_alpha': 0.01784791229642052, 'reg_lambda': 0.27900491092768653, 'min_frequency': 0.16842933205353072}. Best is trial 72 with value: 134.437575321722.\n",
            "[I 2024-06-02 21:17:05,923] Trial 142 finished with value: 135.0042106480026 and parameters: {'learning_rate': 0.013488910177225415, 'n_estimators': 698, 'max_depth': 4, 'max_leaves': 39, 'min_child_weight': 3, 'reg_alpha': 0.000819019164236226, 'reg_lambda': 0.2845727590360363, 'min_frequency': 0.18122021371909564}. Best is trial 72 with value: 134.437575321722.\n",
            "[I 2024-06-02 21:17:07,341] Trial 143 finished with value: 169.03535929116364 and parameters: {'learning_rate': 0.007272975084802972, 'n_estimators': 702, 'max_depth': 4, 'max_leaves': 37, 'min_child_weight': 3, 'reg_alpha': 0.056045979687232905, 'reg_lambda': 0.2790951660666958, 'min_frequency': 0.18642829971173588}. Best is trial 72 with value: 134.437575321722.\n",
            "[I 2024-06-02 21:17:08,795] Trial 144 finished with value: 137.39994491689723 and parameters: {'learning_rate': 0.013489885930629924, 'n_estimators': 735, 'max_depth': 4, 'max_leaves': 39, 'min_child_weight': 3, 'reg_alpha': 0.002154854189564792, 'reg_lambda': 0.27053465356788886, 'min_frequency': 0.1718938210468309}. Best is trial 72 with value: 134.437575321722.\n",
            "[I 2024-06-02 21:17:10,288] Trial 145 finished with value: 139.16564589359072 and parameters: {'learning_rate': 0.009628370624341208, 'n_estimators': 667, 'max_depth': 4, 'max_leaves': 35, 'min_child_weight': 3, 'reg_alpha': 0.022687174793205794, 'reg_lambda': 0.296048920021635, 'min_frequency': 0.1964636695424507}. Best is trial 72 with value: 134.437575321722.\n",
            "[I 2024-06-02 21:17:11,710] Trial 146 finished with value: 137.59484969714117 and parameters: {'learning_rate': 0.014332145814869392, 'n_estimators': 695, 'max_depth': 4, 'max_leaves': 41, 'min_child_weight': 3, 'reg_alpha': 0.01702586159415296, 'reg_lambda': 0.2487808961295549, 'min_frequency': 0.2711698310325382}. Best is trial 72 with value: 134.437575321722.\n",
            "[I 2024-06-02 21:17:12,985] Trial 147 finished with value: 716.8098876461896 and parameters: {'learning_rate': 0.004795519697230537, 'n_estimators': 627, 'max_depth': 4, 'max_leaves': 36, 'min_child_weight': 3, 'reg_alpha': 0.06509096936186859, 'reg_lambda': 0.23021615240303805, 'min_frequency': 0.11111617575648575}. Best is trial 72 with value: 134.437575321722.\n",
            "[I 2024-06-02 21:17:14,832] Trial 148 finished with value: 135.9274432401702 and parameters: {'learning_rate': 0.009874010494735023, 'n_estimators': 754, 'max_depth': 4, 'max_leaves': 30, 'min_child_weight': 3, 'reg_alpha': 0.03509065118489711, 'reg_lambda': 0.32398881776160754, 'min_frequency': 0.1602629697727899}. Best is trial 72 with value: 134.437575321722.\n",
            "[I 2024-06-02 21:17:17,404] Trial 149 finished with value: 136.68436596139335 and parameters: {'learning_rate': 0.012373812156974667, 'n_estimators': 681, 'max_depth': 8, 'max_leaves': 38, 'min_child_weight': 3, 'reg_alpha': 0.005732764253563574, 'reg_lambda': 0.29007806169267836, 'min_frequency': 0.13289636418200723}. Best is trial 72 with value: 134.437575321722.\n",
            "[I 2024-06-02 21:17:20,323] Trial 150 finished with value: 187.83374891274732 and parameters: {'learning_rate': 0.006644323521136878, 'n_estimators': 714, 'max_depth': 10, 'max_leaves': 42, 'min_child_weight': 3, 'reg_alpha': 0.07408135325627875, 'reg_lambda': 0.2589495729612956, 'min_frequency': 0.10260029158790082}. Best is trial 72 with value: 134.437575321722.\n",
            "[I 2024-06-02 21:17:21,654] Trial 151 finished with value: 135.54921390321093 and parameters: {'learning_rate': 0.011453599324960196, 'n_estimators': 663, 'max_depth': 4, 'max_leaves': 39, 'min_child_weight': 3, 'reg_alpha': 0.04266674445282487, 'reg_lambda': 0.3483441021858449, 'min_frequency': 0.06323808914428469}. Best is trial 72 with value: 134.437575321722.\n",
            "[I 2024-06-02 21:17:22,885] Trial 152 finished with value: 136.46971804787054 and parameters: {'learning_rate': 0.014805601916713425, 'n_estimators': 654, 'max_depth': 4, 'max_leaves': 46, 'min_child_weight': 3, 'reg_alpha': 0.029718820018194102, 'reg_lambda': 0.33804215604780774, 'min_frequency': 0.07090087613999145}. Best is trial 72 with value: 134.437575321722.\n",
            "[I 2024-06-02 21:17:24,179] Trial 153 finished with value: 136.811865005135 and parameters: {'learning_rate': 0.018032288929327088, 'n_estimators': 625, 'max_depth': 4, 'max_leaves': 34, 'min_child_weight': 3, 'reg_alpha': 0.0491786348400548, 'reg_lambda': 0.3109488960207647, 'min_frequency': 0.5554514971468402}. Best is trial 72 with value: 134.437575321722.\n",
            "[I 2024-06-02 21:17:25,823] Trial 154 finished with value: 135.8213015069584 and parameters: {'learning_rate': 0.010945399561630747, 'n_estimators': 661, 'max_depth': 4, 'max_leaves': 39, 'min_child_weight': 3, 'reg_alpha': 0.07971808082861932, 'reg_lambda': 0.29436761408671647, 'min_frequency': 0.09544851017615134}. Best is trial 72 with value: 134.437575321722.\n",
            "[I 2024-06-02 21:17:27,490] Trial 155 finished with value: 142.72503084915743 and parameters: {'learning_rate': 0.008734695787366133, 'n_estimators': 688, 'max_depth': 4, 'max_leaves': 37, 'min_child_weight': 3, 'reg_alpha': 0.0185324919656736, 'reg_lambda': 0.35398527139381664, 'min_frequency': 0.17042112200203235}. Best is trial 72 with value: 134.437575321722.\n",
            "[I 2024-06-02 21:17:28,956] Trial 156 finished with value: 135.26140829351107 and parameters: {'learning_rate': 0.013612626690348368, 'n_estimators': 639, 'max_depth': 4, 'max_leaves': 32, 'min_child_weight': 3, 'reg_alpha': 0.0001260937203166057, 'reg_lambda': 0.332181453493936, 'min_frequency': 0.06363781708304497}. Best is trial 72 with value: 134.437575321722.\n",
            "[I 2024-06-02 21:17:31,058] Trial 157 finished with value: 1200.4895329005283 and parameters: {'learning_rate': 0.003423492922676498, 'n_estimators': 716, 'max_depth': 4, 'max_leaves': 32, 'min_child_weight': 3, 'reg_alpha': 0.06327145028509848, 'reg_lambda': 0.37435837067741873, 'min_frequency': 0.060506934691494076}. Best is trial 72 with value: 134.437575321722.\n",
            "[I 2024-06-02 21:17:32,575] Trial 158 finished with value: 137.12427298163985 and parameters: {'learning_rate': 0.01520115132947955, 'n_estimators': 738, 'max_depth': 4, 'max_leaves': 30, 'min_child_weight': 3, 'reg_alpha': 0.004928282049740315, 'reg_lambda': 0.2706302789031508, 'min_frequency': 0.02987284882598723}. Best is trial 72 with value: 134.437575321722.\n",
            "[I 2024-06-02 21:17:33,831] Trial 159 finished with value: 142.93531108526156 and parameters: {'learning_rate': 0.011298840795650614, 'n_estimators': 694, 'max_depth': 3, 'max_leaves': 35, 'min_child_weight': 3, 'reg_alpha': 0.04707088676433237, 'reg_lambda': 0.35080569196606565, 'min_frequency': 0.05268202997743736}. Best is trial 72 with value: 134.437575321722.\n",
            "[I 2024-06-02 21:17:35,431] Trial 160 finished with value: 137.75106547488053 and parameters: {'learning_rate': 0.01846700048837725, 'n_estimators': 673, 'max_depth': 4, 'max_leaves': 91, 'min_child_weight': 3, 'reg_alpha': 0.09490076470771514, 'reg_lambda': 0.30822983417756356, 'min_frequency': 0.07632578013350531}. Best is trial 72 with value: 134.437575321722.\n",
            "[I 2024-06-02 21:17:36,864] Trial 161 finished with value: 134.99992828062122 and parameters: {'learning_rate': 0.012010289814444948, 'n_estimators': 640, 'max_depth': 4, 'max_leaves': 42, 'min_child_weight': 3, 'reg_alpha': 0.031407386567273265, 'reg_lambda': 0.33061449406722104, 'min_frequency': 0.11547839101365567}. Best is trial 72 with value: 134.437575321722.\n",
            "[I 2024-06-02 21:17:38,221] Trial 162 finished with value: 135.55550441319795 and parameters: {'learning_rate': 0.013198505364837345, 'n_estimators': 624, 'max_depth': 4, 'max_leaves': 43, 'min_child_weight': 3, 'reg_alpha': 0.0024527939577555077, 'reg_lambda': 0.32572042805864926, 'min_frequency': 0.10834872504512033}. Best is trial 72 with value: 134.437575321722.\n",
            "[I 2024-06-02 21:17:39,661] Trial 163 finished with value: 196.59813961896378 and parameters: {'learning_rate': 0.007530571736735164, 'n_estimators': 628, 'max_depth': 4, 'max_leaves': 43, 'min_child_weight': 3, 'reg_alpha': 0.0002814205235697684, 'reg_lambda': 0.32559231075302686, 'min_frequency': 0.12173308361458947}. Best is trial 72 with value: 134.437575321722.\n",
            "[I 2024-06-02 21:17:41,159] Trial 164 finished with value: 140.30824759756456 and parameters: {'learning_rate': 0.009656011819885804, 'n_estimators': 650, 'max_depth': 4, 'max_leaves': 32, 'min_child_weight': 3, 'reg_alpha': 0.03847327188478625, 'reg_lambda': 0.28614231977353916, 'min_frequency': 0.10305322421671781}. Best is trial 72 with value: 134.437575321722.\n",
            "[I 2024-06-02 21:17:42,692] Trial 165 finished with value: 136.24750537731597 and parameters: {'learning_rate': 0.013800765896393381, 'n_estimators': 634, 'max_depth': 4, 'max_leaves': 41, 'min_child_weight': 3, 'reg_alpha': 0.0554018266173226, 'reg_lambda': 0.3020539293350496, 'min_frequency': 0.13581204535682295}. Best is trial 72 with value: 134.437575321722.\n",
            "[I 2024-06-02 21:17:43,955] Trial 166 finished with value: 137.3728623367811 and parameters: {'learning_rate': 0.015569405353973652, 'n_estimators': 617, 'max_depth': 4, 'max_leaves': 37, 'min_child_weight': 3, 'reg_alpha': 0.027144765713428682, 'reg_lambda': 0.382195089634273, 'min_frequency': 0.07986489173965006}. Best is trial 72 with value: 134.437575321722.\n",
            "[I 2024-06-02 21:17:45,100] Trial 167 finished with value: 137.46096910237466 and parameters: {'learning_rate': 0.017298060934942287, 'n_estimators': 583, 'max_depth': 4, 'max_leaves': 34, 'min_child_weight': 3, 'reg_alpha': 0.08372433653442311, 'reg_lambda': 0.353873319352756, 'min_frequency': 0.04674659124117392}. Best is trial 72 with value: 134.437575321722.\n",
            "[I 2024-06-02 21:17:46,630] Trial 168 finished with value: 135.38207500209592 and parameters: {'learning_rate': 0.01219493600328343, 'n_estimators': 659, 'max_depth': 4, 'max_leaves': 87, 'min_child_weight': 3, 'reg_alpha': 0.06534054273971023, 'reg_lambda': 0.32473274657541484, 'min_frequency': 0.11697567804107582}. Best is trial 72 with value: 134.437575321722.\n",
            "[I 2024-06-02 21:17:48,292] Trial 169 finished with value: 136.2464954112697 and parameters: {'learning_rate': 0.011287830579642276, 'n_estimators': 799, 'max_depth': 4, 'max_leaves': 78, 'min_child_weight': 3, 'reg_alpha': 0.0012722458373040006, 'reg_lambda': 0.3335009577106876, 'min_frequency': 0.11150730945499587}. Best is trial 72 with value: 134.437575321722.\n",
            "[I 2024-06-02 21:17:49,644] Trial 170 finished with value: 251.759766934943 and parameters: {'learning_rate': 0.006519941239713355, 'n_estimators': 660, 'max_depth': 4, 'max_leaves': 87, 'min_child_weight': 3, 'reg_alpha': 0.06511077739358082, 'reg_lambda': 0.26505847624687323, 'min_frequency': 0.14522208106777026}. Best is trial 72 with value: 134.437575321722.\n",
            "[I 2024-06-02 21:17:51,171] Trial 171 finished with value: 136.56123688747067 and parameters: {'learning_rate': 0.013870018075899165, 'n_estimators': 708, 'max_depth': 4, 'max_leaves': 63, 'min_child_weight': 3, 'reg_alpha': 0.0407056598907085, 'reg_lambda': 0.31560322640091154, 'min_frequency': 0.11364930769925824}. Best is trial 72 with value: 134.437575321722.\n",
            "[I 2024-06-02 21:17:52,634] Trial 172 finished with value: 139.74701431243713 and parameters: {'learning_rate': 0.009920716745957778, 'n_estimators': 644, 'max_depth': 4, 'max_leaves': 40, 'min_child_weight': 3, 'reg_alpha': 0.07652154947794437, 'reg_lambda': 0.2869931116404899, 'min_frequency': 0.08500228840337179}. Best is trial 72 with value: 134.437575321722.\n",
            "[I 2024-06-02 21:17:54,041] Trial 173 finished with value: 134.96886723989772 and parameters: {'learning_rate': 0.012510022910012547, 'n_estimators': 614, 'max_depth': 4, 'max_leaves': 36, 'min_child_weight': 3, 'reg_alpha': 0.015345751787039934, 'reg_lambda': 0.3620718752687848, 'min_frequency': 0.060776857030984684}. Best is trial 72 with value: 134.437575321722.\n",
            "[I 2024-06-02 21:17:55,321] Trial 174 finished with value: 135.1050325389839 and parameters: {'learning_rate': 0.012031270413455126, 'n_estimators': 675, 'max_depth': 4, 'max_leaves': 36, 'min_child_weight': 3, 'reg_alpha': 0.013399162748438529, 'reg_lambda': 0.3587990292360824, 'min_frequency': 0.1295488130270099}. Best is trial 72 with value: 134.437575321722.\n",
            "[I 2024-06-02 21:17:56,741] Trial 175 finished with value: 152.21628435980466 and parameters: {'learning_rate': 0.008080346271218777, 'n_estimators': 681, 'max_depth': 4, 'max_leaves': 36, 'min_child_weight': 3, 'reg_alpha': 0.029248230849479764, 'reg_lambda': 0.37293155946917445, 'min_frequency': 0.13761457438196922}. Best is trial 72 with value: 134.437575321722.\n",
            "[I 2024-06-02 21:17:58,003] Trial 176 finished with value: 136.20099077538146 and parameters: {'learning_rate': 0.010413386837420355, 'n_estimators': 665, 'max_depth': 4, 'max_leaves': 38, 'min_child_weight': 3, 'reg_alpha': 0.05151179039634084, 'reg_lambda': 0.3597341397592683, 'min_frequency': 0.20676058265340833}. Best is trial 72 with value: 134.437575321722.\n",
            "[I 2024-06-02 21:17:59,309] Trial 177 finished with value: 135.6897400025151 and parameters: {'learning_rate': 0.015881113564811162, 'n_estimators': 707, 'max_depth': 4, 'max_leaves': 33, 'min_child_weight': 3, 'reg_alpha': 0.02174324561670961, 'reg_lambda': 0.3442899798206489, 'min_frequency': 0.07076118440534127}. Best is trial 72 with value: 134.437575321722.\n",
            "[I 2024-06-02 21:18:00,666] Trial 178 finished with value: 471.0533664224933 and parameters: {'learning_rate': 0.005081097545052199, 'n_estimators': 687, 'max_depth': 4, 'max_leaves': 28, 'min_child_weight': 3, 'reg_alpha': 0.045771171485624776, 'reg_lambda': 0.4180164806319622, 'min_frequency': 0.030827528794560875}. Best is trial 72 with value: 134.437575321722.\n",
            "[I 2024-06-02 21:18:02,176] Trial 179 finished with value: 134.15195977296068 and parameters: {'learning_rate': 0.01232635529034159, 'n_estimators': 726, 'max_depth': 4, 'max_leaves': 35, 'min_child_weight': 3, 'reg_alpha': 0.09639651649617692, 'reg_lambda': 0.3861749754960751, 'min_frequency': 0.18006270343207975}. Best is trial 179 with value: 134.15195977296068.\n",
            "[I 2024-06-02 21:18:03,819] Trial 180 finished with value: 136.73320980570927 and parameters: {'learning_rate': 0.009101922637564836, 'n_estimators': 765, 'max_depth': 4, 'max_leaves': 71, 'min_child_weight': 3, 'reg_alpha': 0.10017469096892939, 'reg_lambda': 0.38819400225819045, 'min_frequency': 0.18288909205352846}. Best is trial 179 with value: 134.15195977296068.\n",
            "[I 2024-06-02 21:18:05,512] Trial 181 finished with value: 136.61996801774185 and parameters: {'learning_rate': 0.011871452201815147, 'n_estimators': 731, 'max_depth': 4, 'max_leaves': 35, 'min_child_weight': 3, 'reg_alpha': 0.06557600535446953, 'reg_lambda': 0.3624006384640945, 'min_frequency': 0.15722769827047453}. Best is trial 179 with value: 134.15195977296068.\n",
            "[I 2024-06-02 21:18:06,916] Trial 182 finished with value: 135.20474196087986 and parameters: {'learning_rate': 0.012343330191985734, 'n_estimators': 659, 'max_depth': 4, 'max_leaves': 37, 'min_child_weight': 3, 'reg_alpha': 0.02105551369642541, 'reg_lambda': 0.33576191267124855, 'min_frequency': 0.1329061250940328}. Best is trial 179 with value: 134.15195977296068.\n",
            "[I 2024-06-02 21:18:08,374] Trial 183 finished with value: 137.137357674694 and parameters: {'learning_rate': 0.015085897993361195, 'n_estimators': 703, 'max_depth': 4, 'max_leaves': 36, 'min_child_weight': 3, 'reg_alpha': 0.021288903038738288, 'reg_lambda': 0.33183728266642093, 'min_frequency': 0.12604079361853152}. Best is trial 179 with value: 134.15195977296068.\n",
            "[I 2024-06-02 21:18:09,931] Trial 184 finished with value: 136.19427158655054 and parameters: {'learning_rate': 0.012650831587057857, 'n_estimators': 742, 'max_depth': 4, 'max_leaves': 34, 'min_child_weight': 3, 'reg_alpha': 0.0813246666180496, 'reg_lambda': 0.3129284561125625, 'min_frequency': 0.151023585273725}. Best is trial 179 with value: 134.15195977296068.\n",
            "[I 2024-06-02 21:18:11,633] Trial 185 finished with value: 136.1857446763917 and parameters: {'learning_rate': 0.01729159165369165, 'n_estimators': 646, 'max_depth': 4, 'max_leaves': 32, 'min_child_weight': 3, 'reg_alpha': 0.018707580383830153, 'reg_lambda': 0.3892573378844657, 'min_frequency': 0.22807461693420994}. Best is trial 179 with value: 134.15195977296068.\n",
            "[I 2024-06-02 21:18:13,540] Trial 186 finished with value: 142.78540251928237 and parameters: {'learning_rate': 0.008390714181484557, 'n_estimators': 717, 'max_depth': 4, 'max_leaves': 36, 'min_child_weight': 3, 'reg_alpha': 0.058663205164788644, 'reg_lambda': 0.29177947313553515, 'min_frequency': 0.19242589444253336}. Best is trial 179 with value: 134.15195977296068.\n",
            "[I 2024-06-02 21:18:14,935] Trial 187 finished with value: 140.22219384012408 and parameters: {'learning_rate': 0.038647563143465, 'n_estimators': 675, 'max_depth': 4, 'max_leaves': 38, 'min_child_weight': 3, 'reg_alpha': 0.09696913205476529, 'reg_lambda': 0.3338406088927822, 'min_frequency': 0.17041902786364407}. Best is trial 179 with value: 134.15195977296068.\n",
            "[I 2024-06-02 21:18:16,427] Trial 188 finished with value: 136.79705184230383 and parameters: {'learning_rate': 0.014371512540607865, 'n_estimators': 683, 'max_depth': 4, 'max_leaves': 41, 'min_child_weight': 3, 'reg_alpha': 0.002182990756585051, 'reg_lambda': 0.36597299014450396, 'min_frequency': 0.12683993519076164}. Best is trial 179 with value: 134.15195977296068.\n",
            "[I 2024-06-02 21:18:18,041] Trial 189 finished with value: 138.29361160452297 and parameters: {'learning_rate': 0.019742354700170973, 'n_estimators': 651, 'max_depth': 5, 'max_leaves': 30, 'min_child_weight': 3, 'reg_alpha': 0.03254152620282991, 'reg_lambda': 0.31118659735340415, 'min_frequency': 0.20797714205489387}. Best is trial 179 with value: 134.15195977296068.\n",
            "[I 2024-06-02 21:18:19,443] Trial 190 finished with value: 135.40588256099093 and parameters: {'learning_rate': 0.01086252857268971, 'n_estimators': 690, 'max_depth': 4, 'max_leaves': 33, 'min_child_weight': 3, 'reg_alpha': 0.11953832619539359, 'reg_lambda': 0.2764631463992402, 'min_frequency': 0.2530365803939987}. Best is trial 179 with value: 134.15195977296068.\n",
            "[I 2024-06-02 21:18:20,790] Trial 191 finished with value: 135.48158809628606 and parameters: {'learning_rate': 0.01063167144248606, 'n_estimators': 698, 'max_depth': 4, 'max_leaves': 33, 'min_child_weight': 3, 'reg_alpha': 0.11106549101975552, 'reg_lambda': 0.2663273165703878, 'min_frequency': 0.093723092064794}. Best is trial 179 with value: 134.15195977296068.\n",
            "[I 2024-06-02 21:18:22,203] Trial 192 finished with value: 144.13195596102656 and parameters: {'learning_rate': 0.056229322459956904, 'n_estimators': 666, 'max_depth': 4, 'max_leaves': 37, 'min_child_weight': 3, 'reg_alpha': 0.07069161357524283, 'reg_lambda': 0.23834462747016255, 'min_frequency': 0.23780813830283612}. Best is trial 179 with value: 134.15195977296068.\n",
            "[I 2024-06-02 21:18:24,409] Trial 193 finished with value: 135.90829498475227 and parameters: {'learning_rate': 0.012530571625817213, 'n_estimators': 720, 'max_depth': 4, 'max_leaves': 34, 'min_child_weight': 3, 'reg_alpha': 0.01999286136172961, 'reg_lambda': 0.28541032508292136, 'min_frequency': 0.1498403961742777}. Best is trial 179 with value: 134.15195977296068.\n",
            "[I 2024-06-02 21:18:25,945] Trial 194 finished with value: 145.7744009630701 and parameters: {'learning_rate': 0.00907516719179409, 'n_estimators': 638, 'max_depth': 4, 'max_leaves': 39, 'min_child_weight': 3, 'reg_alpha': 0.054134094205985084, 'reg_lambda': 0.3450332154019547, 'min_frequency': 0.27604010221458697}. Best is trial 179 with value: 134.15195977296068.\n",
            "[I 2024-06-02 21:18:27,437] Trial 195 finished with value: 135.30983000869801 and parameters: {'learning_rate': 0.012968482537860324, 'n_estimators': 608, 'max_depth': 4, 'max_leaves': 35, 'min_child_weight': 3, 'reg_alpha': 0.11696686034008848, 'reg_lambda': 0.3050153796719748, 'min_frequency': 0.11826835630877047}. Best is trial 179 with value: 134.15195977296068.\n",
            "[I 2024-06-02 21:18:28,843] Trial 196 finished with value: 136.1992424927167 and parameters: {'learning_rate': 0.015947725368370795, 'n_estimators': 612, 'max_depth': 4, 'max_leaves': 36, 'min_child_weight': 3, 'reg_alpha': 0.09296920406741016, 'reg_lambda': 0.32354218789583383, 'min_frequency': 0.11377694634846292}. Best is trial 179 with value: 134.15195977296068.\n",
            "[I 2024-06-02 21:18:30,252] Trial 197 finished with value: 135.36824675265132 and parameters: {'learning_rate': 0.013296155509337819, 'n_estimators': 597, 'max_depth': 4, 'max_leaves': 40, 'min_child_weight': 3, 'reg_alpha': 0.04110378603035224, 'reg_lambda': 0.3117927933342499, 'min_frequency': 0.09333470580788651}. Best is trial 179 with value: 134.15195977296068.\n",
            "[I 2024-06-02 21:18:31,505] Trial 198 finished with value: 134.79609149034835 and parameters: {'learning_rate': 0.014223138147224562, 'n_estimators': 581, 'max_depth': 4, 'max_leaves': 40, 'min_child_weight': 3, 'reg_alpha': 0.0366473898835675, 'reg_lambda': 0.2995499644191611, 'min_frequency': 0.3788203614711122}. Best is trial 179 with value: 134.15195977296068.\n",
            "[I 2024-06-02 21:18:32,716] Trial 199 finished with value: 136.16547298111587 and parameters: {'learning_rate': 0.01791980334156448, 'n_estimators': 575, 'max_depth': 4, 'max_leaves': 41, 'min_child_weight': 3, 'reg_alpha': 0.0008562161968217394, 'reg_lambda': 0.3011793157106176, 'min_frequency': 0.3720762705917678}. Best is trial 179 with value: 134.15195977296068.\n",
            "[I 2024-06-02 21:18:34,156] Trial 200 finished with value: 136.19142524417336 and parameters: {'learning_rate': 0.014317034506960865, 'n_estimators': 593, 'max_depth': 4, 'max_leaves': 40, 'min_child_weight': 3, 'reg_alpha': 0.03929397358272392, 'reg_lambda': 0.24948177631593618, 'min_frequency': 0.18533097024454692}. Best is trial 179 with value: 134.15195977296068.\n",
            "[I 2024-06-02 21:18:35,374] Trial 201 finished with value: 134.98076004857268 and parameters: {'learning_rate': 0.013438670354446647, 'n_estimators': 602, 'max_depth': 4, 'max_leaves': 38, 'min_child_weight': 3, 'reg_alpha': 0.028636511788811624, 'reg_lambda': 0.30435864394026685, 'min_frequency': 0.09101505921245891}. Best is trial 179 with value: 134.15195977296068.\n",
            "[I 2024-06-02 21:18:36,716] Trial 202 finished with value: 135.48568805410588 and parameters: {'learning_rate': 0.013706494511580375, 'n_estimators': 601, 'max_depth': 4, 'max_leaves': 38, 'min_child_weight': 3, 'reg_alpha': 0.0226002658655738, 'reg_lambda': 0.30052175181308893, 'min_frequency': 0.1367342799217787}. Best is trial 179 with value: 134.15195977296068.\n",
            "[I 2024-06-02 21:18:38,061] Trial 203 finished with value: 144.87722149957034 and parameters: {'learning_rate': 0.06657760604076256, 'n_estimators': 589, 'max_depth': 4, 'max_leaves': 42, 'min_child_weight': 3, 'reg_alpha': 0.038050339820846754, 'reg_lambda': 0.28579642184358106, 'min_frequency': 0.09869190886506815}. Best is trial 179 with value: 134.15195977296068.\n",
            "[I 2024-06-02 21:18:39,469] Trial 204 finished with value: 135.7590481037265 and parameters: {'learning_rate': 0.01580194048461604, 'n_estimators': 610, 'max_depth': 4, 'max_leaves': 38, 'min_child_weight': 3, 'reg_alpha': 0.02333398365902232, 'reg_lambda': 0.3043836611406139, 'min_frequency': 0.16683082289303755}. Best is trial 179 with value: 134.15195977296068.\n",
            "[I 2024-06-02 21:18:40,662] Trial 205 finished with value: 324.73986693599096 and parameters: {'learning_rate': 0.0069395791940570955, 'n_estimators': 569, 'max_depth': 4, 'max_leaves': 45, 'min_child_weight': 3, 'reg_alpha': 0.0022795051090649873, 'reg_lambda': 0.3187244950627557, 'min_frequency': 0.3100102803640384}. Best is trial 179 with value: 134.15195977296068.\n",
            "[I 2024-06-02 21:18:42,268] Trial 206 finished with value: 140.11709187416164 and parameters: {'learning_rate': 0.010023060806543346, 'n_estimators': 630, 'max_depth': 4, 'max_leaves': 40, 'min_child_weight': 3, 'reg_alpha': 0.04063080552260194, 'reg_lambda': 0.26947771437907986, 'min_frequency': 0.21154936646188444}. Best is trial 179 with value: 134.15195977296068.\n",
            "[I 2024-06-02 21:18:43,518] Trial 207 finished with value: 134.97655660525655 and parameters: {'learning_rate': 0.01284049399922056, 'n_estimators': 614, 'max_depth': 4, 'max_leaves': 36, 'min_child_weight': 3, 'reg_alpha': 0.0181733334330207, 'reg_lambda': 0.33760306081020086, 'min_frequency': 0.43714943108175397}. Best is trial 179 with value: 134.15195977296068.\n",
            "[I 2024-06-02 21:18:45,001] Trial 208 finished with value: 137.1509247542547 and parameters: {'learning_rate': 0.017020090819799875, 'n_estimators': 635, 'max_depth': 4, 'max_leaves': 35, 'min_child_weight': 3, 'reg_alpha': 0.020836496059623184, 'reg_lambda': 0.338776537777989, 'min_frequency': 0.43311725367346127}. Best is trial 179 with value: 134.15195977296068.\n",
            "[I 2024-06-02 21:18:46,182] Trial 209 finished with value: 136.3850412042568 and parameters: {'learning_rate': 0.014854736842096487, 'n_estimators': 610, 'max_depth': 4, 'max_leaves': 31, 'min_child_weight': 3, 'reg_alpha': 0.40782719960118735, 'reg_lambda': 0.3546226109858749, 'min_frequency': 0.4610293392575473}. Best is trial 179 with value: 134.15195977296068.\n",
            "[I 2024-06-02 21:18:47,658] Trial 210 finished with value: 134.91036191104962 and parameters: {'learning_rate': 0.011734458212726197, 'n_estimators': 646, 'max_depth': 4, 'max_leaves': 36, 'min_child_weight': 3, 'reg_alpha': 0.35017232053720326, 'reg_lambda': 0.3680605544640283, 'min_frequency': 0.140277233545415}. Best is trial 179 with value: 134.15195977296068.\n",
            "[I 2024-06-02 21:18:49,029] Trial 211 finished with value: 134.94780073671194 and parameters: {'learning_rate': 0.011740862730449525, 'n_estimators': 651, 'max_depth': 4, 'max_leaves': 37, 'min_child_weight': 3, 'reg_alpha': 0.3685495630099034, 'reg_lambda': 0.38086872980916464, 'min_frequency': 0.14150923617347205}. Best is trial 179 with value: 134.15195977296068.\n",
            "[I 2024-06-02 21:18:50,303] Trial 212 finished with value: 136.08910395969568 and parameters: {'learning_rate': 0.010843778905102366, 'n_estimators': 653, 'max_depth': 4, 'max_leaves': 38, 'min_child_weight': 3, 'reg_alpha': 0.32654157460479477, 'reg_lambda': 0.37326791319991076, 'min_frequency': 0.14980283806497405}. Best is trial 179 with value: 134.15195977296068.\n",
            "[I 2024-06-02 21:18:51,617] Trial 213 finished with value: 156.74238431893443 and parameters: {'learning_rate': 0.00844494801065872, 'n_estimators': 635, 'max_depth': 4, 'max_leaves': 37, 'min_child_weight': 3, 'reg_alpha': 0.3543610508906069, 'reg_lambda': 0.3941564721686772, 'min_frequency': 0.17596520054072534}. Best is trial 179 with value: 134.15195977296068.\n",
            "[I 2024-06-02 21:18:52,935] Trial 214 finished with value: 136.12604107719233 and parameters: {'learning_rate': 0.010193677947817715, 'n_estimators': 675, 'max_depth': 4, 'max_leaves': 37, 'min_child_weight': 3, 'reg_alpha': 0.279628817147804, 'reg_lambda': 0.3782222584944669, 'min_frequency': 0.39172203431300817}. Best is trial 179 with value: 134.15195977296068.\n",
            "[I 2024-06-02 21:18:54,313] Trial 215 finished with value: 135.39658867921068 and parameters: {'learning_rate': 0.01276531538140626, 'n_estimators': 648, 'max_depth': 4, 'max_leaves': 33, 'min_child_weight': 3, 'reg_alpha': 0.016888330202026455, 'reg_lambda': 0.42626708261077645, 'min_frequency': 0.13643941262673304}. Best is trial 179 with value: 134.15195977296068.\n",
            "[I 2024-06-02 21:18:55,658] Trial 216 finished with value: 285.50769100278757 and parameters: {'learning_rate': 0.006586159847530197, 'n_estimators': 626, 'max_depth': 4, 'max_leaves': 43, 'min_child_weight': 3, 'reg_alpha': 0.4697469793457093, 'reg_lambda': 0.5550158816116182, 'min_frequency': 0.5485697187687804}. Best is trial 179 with value: 134.15195977296068.\n"
          ]
        },
        {
          "name": "stdout",
          "output_type": "stream",
          "text": [
            "Número de trials: 217\n",
            "Best trial:\n",
            "  Value (MAE): 134.15195977296068\n",
            "  Params: \n",
            "    learning_rate: 0.01232635529034159\n",
            "    n_estimators: 726\n",
            "    max_depth: 4\n",
            "    max_leaves: 35\n",
            "    min_child_weight: 3\n",
            "    reg_alpha: 0.09639651649617692\n",
            "    reg_lambda: 0.3861749754960751\n",
            "    min_frequency: 0.18006270343207975\n"
          ]
        }
      ],
      "source": [
        "import joblib\n",
        "import optuna\n",
        "from xgboost import XGBRegressor\n",
        "from sklearn.pipeline import Pipeline\n",
        "from sklearn.metrics import mean_absolute_error\n",
        "from sklearn.compose import ColumnTransformer\n",
        "from sklearn.preprocessing import OneHotEncoder, StandardScaler\n",
        "import pandas as pd\n",
        "\n",
        "# Fijar la semilla\n",
        "seed = 42\n",
        "\n",
        "# Definir la función objetivo\n",
        "def objective(trial):\n",
        "    # Definir el espacio de búsqueda de hiperparámetros\n",
        "    learning_rate = trial.suggest_float('learning_rate', 0.001, 0.1)\n",
        "    n_estimators = trial.suggest_int('n_estimators', 50, 1000)\n",
        "    max_depth = trial.suggest_int('max_depth', 3, 10)\n",
        "    max_leaves = trial.suggest_int('max_leaves', 0, 100)\n",
        "    min_child_weight = trial.suggest_int('min_child_weight', 1, 5)\n",
        "    reg_alpha = trial.suggest_float('reg_alpha', 0, 1)\n",
        "    reg_lambda = trial.suggest_float('reg_lambda', 0, 1)\n",
        "    min_frequency = trial.suggest_float('min_frequency', 0.0, 1.0)\n",
        "\n",
        "    # Crear el modelo con los hiperparámetros\n",
        "    model = XGBRegressor(\n",
        "        learning_rate=learning_rate,\n",
        "        n_estimators=n_estimators,\n",
        "        max_depth=max_depth,\n",
        "        max_leaves=max_leaves,\n",
        "        min_child_weight=min_child_weight,\n",
        "        reg_alpha=reg_alpha,\n",
        "        reg_lambda=reg_lambda,\n",
        "        monotone_constraints=monotone_constraints,\n",
        "        n_jobs=-1,\n",
        "        random_state=seed\n",
        "    )\n",
        "\n",
        "    # Crear un pipeline con los pasos necesarios\n",
        "    pipeline_optimized = Pipeline(steps=[\n",
        "        ('date_transformer', FunctionTransformer(extract_date_features)),\n",
        "        ('reorder_columns', FunctionTransformer(reorder_columns)),\n",
        "        ('preprocessor', preprocessor),\n",
        "        ('regressor', model)\n",
        "    ])\n",
        "\n",
        "    # Ajustar el pipeline a los datos de entrenamiento\n",
        "    pipeline_optimized.fit(train_df, train_df['quantity'])\n",
        "\n",
        "    # Generar predicciones para el conjunto de validación\n",
        "    validation_predictions = pipeline_optimized.predict(validation_df)\n",
        "\n",
        "    # Calcular el error absoluto medio en el conjunto de validación\n",
        "    mae = mean_absolute_error(validation_df['quantity'], validation_predictions)\n",
        "\n",
        "    return mae\n",
        "\n",
        "# Crear el estudio de Optuna con TPESampler\n",
        "sampler = optuna.samplers.TPESampler(seed=seed)\n",
        "study = optuna.create_study(direction='minimize', sampler=sampler)\n",
        "study.optimize(objective, timeout=300)  # Fijar el tiempo de entrenamiento a 5 minutos\n",
        "\n",
        "# Obtener el mejor ensayo\n",
        "best_trial = study.best_trial\n",
        "\n",
        "# Reportar los resultados\n",
        "print('Número de trials:', len(study.trials))\n",
        "print('Best trial:')\n",
        "print(f'  Value (MAE): {best_trial.value}')\n",
        "print('  Params: ')\n",
        "for key, value in best_trial.params.items():\n",
        "    print(f'    {key}: {value}')"
      ]
    },
    {
      "cell_type": "markdown",
      "metadata": {
        "id": "dQklvGaLUPzQ"
      },
      "source": [
        "**Explicación de los Hiperparámetros y su Rol en el Modelo**\n",
        "\n",
        "1. **`learning_rate`: 0.01232635529034159**\n",
        "   - **Descripción:** Controla la magnitud de los pasos tomados por el modelo durante el entrenamiento.\n",
        "   - **Rol:** Un valor más bajo permite un aprendizaje más gradual, lo que puede conducir a una mejor generalización del modelo y una convergencia más estable.\n",
        "   - **Rango de optimización:** (0.001, 0.1). Este rango es adecuado para evitar aprendizajes inestables y garantizar una convergencia efectiva.\n",
        "\n",
        "2. **`n_estimators`: 726**\n",
        "   - **Descripción:** Indica el número de árboles a construir en el modelo.\n",
        "   - **Rol:** Un mayor número de estimadores puede mejorar el rendimiento del modelo, aunque existe un punto óptimo donde agregar más árboles puede llevar al sobreajuste.\n",
        "   - **Rango de optimización:** (50, 1000). Este rango permite una exploración amplia para encontrar el equilibrio adecuado entre bajo y alto número de estimadores.\n",
        "\n",
        "3. **`max_depth`: 4**\n",
        "   - **Descripción:** Especifica la profundidad máxima de los árboles en el modelo.\n",
        "   - **Rol:** Controla la complejidad de los árboles y su capacidad para capturar relaciones en los datos. Un valor más alto puede permitir modelar relaciones más complejas, pero también puede aumentar el riesgo de sobreajuste.\n",
        "   - **Rango de optimización:** (3, 10). Este rango es apropiado para explorar diferentes niveles de complejidad y evitar árboles excesivamente simples o complejos.\n",
        "\n",
        "4. **`max_leaves`: 35**\n",
        "   - **Descripción:** Define el número máximo de hojas permitidas en cada árbol.\n",
        "   - **Rol:** Similar a `max_depth`, controla la complejidad de los árboles y su capacidad para adaptarse a los datos.\n",
        "   - **Rango de optimización:** (0, 100). Este rango permite una búsqueda amplia para explorar desde árboles simples hasta árboles más complejos.\n",
        "\n",
        "5. **`min_child_weight`: 3**\n",
        "   - **Descripción:** Especifica la suma mínima de los pesos de instancia requeridos en un nodo hijo.\n",
        "   - **Rol:** Controla la división de los nodos durante el entrenamiento del árbol, lo que puede ayudar a prevenir el sobreajuste.\n",
        "   - **Rango de optimización:** (1, 5). Este rango es razonable para evitar divisiones demasiado sensibles o insensibles.\n",
        "\n",
        "6. **`reg_alpha`: 0.09639651649617692**\n",
        "   - **Descripción:** Es el término de regularización L1 en la función de pérdida.\n",
        "   - **Rol:** Penaliza los coeficientes menos importantes, ayudando a controlar el sobreajuste.\n",
        "   - **Rango de optimización:** (0, 1). Cubre una gama adecuada de penalizaciones para evitar sobreajuste.\n",
        "\n",
        "7. **`reg_lambda`: 0.3861749754960751**\n",
        "   - **Descripción:** Es el término de regularización L2 en la función de pérdida.\n",
        "   - **Rol:** Penaliza el tamaño de los coeficientes para evitar el sobreajuste.\n",
        "   - **Rango de optimización:** (0, 1). Cubre una gama adecuada de penalizaciones para controlar el sobreajuste.\n",
        "\n",
        "**Comparación de Resultados con la Sección Anterior**\n",
        "\n",
        "El modelo optimizado con Optuna ha mejorado el MAE de 156.2 a 134.15. Esta mejora se debe a una optimización más precisa de los hiperparámetros, lo que permite un mejor ajuste del modelo a los datos. Además, se ha encontrado un conjunto de hiperparámetros más óptimo que equilibra la capacidad del modelo para capturar relaciones complejas en los datos mientras se evita el sobreajuste."
      ]
    },
    {
      "cell_type": "code",
      "execution_count": 18,
      "metadata": {
        "colab": {
          "base_uri": "https://localhost:8080/"
        },
        "id": "wEJ-7hfkXF8Y",
        "outputId": "d06a6cc4-507a-41cc-8971-daaf63a9c014"
      },
      "outputs": [
        {
          "data": {
            "text/plain": [
              "['pipeline_optimized.pkl']"
            ]
          },
          "execution_count": 18,
          "metadata": {},
          "output_type": "execute_result"
        }
      ],
      "source": [
        "# Guardar el pipeline optimizado en un archivo .pkl\n",
        "# Crear el pipeline optimizado con los mejores hiperparámetros\n",
        "best_model = XGBRegressor(\n",
        "    learning_rate=best_trial.params['learning_rate'],\n",
        "    n_estimators=best_trial.params['n_estimators'],\n",
        "    max_depth=best_trial.params['max_depth'],\n",
        "    max_leaves=best_trial.params['max_leaves'],\n",
        "    min_child_weight=best_trial.params['min_child_weight'],\n",
        "    reg_alpha=best_trial.params['reg_alpha'],\n",
        "    reg_lambda=best_trial.params['reg_lambda'],\n",
        "    monotone_constraints=monotone_constraints,\n",
        "    n_jobs=-1,\n",
        "    random_state=seed\n",
        ")\n",
        "\n",
        "pipeline_optimized = Pipeline(steps=[\n",
        "    ('date_transformer', FunctionTransformer(extract_date_features)),\n",
        "    ('reorder_columns', FunctionTransformer(reorder_columns)),\n",
        "    ('preprocessor', preprocessor),\n",
        "    ('regressor', best_model)\n",
        "])\n",
        "\n",
        "# Ajustar el pipeline optimizado a los datos de entrenamiento completos\n",
        "pipeline_optimized.fit(train_df, train_df['quantity'])\n",
        "\n",
        "# Guardar el pipeline optimizado en un archivo .pkl\n",
        "# joblib.dump(pipeline_optimized, path + 'pipeline_optimized.pkl')\n",
        "joblib.dump(pipeline_optimized, 'pipeline_optimized.pkl')"
      ]
    },
    {
      "cell_type": "markdown",
      "metadata": {
        "cell_id": "5195ccfc37e044ad9453f6eb2754f631",
        "deepnote_cell_type": "markdown",
        "id": "ZglyD_QWI5wA"
      },
      "source": [
        "## 4. Optimización de Hiperparámetros con Optuna y Prunners (1.7)\n",
        "\n",
        "<p align=\"center\">\n",
        "  <img src=\"https://i.pinimg.com/originals/90/16/f9/9016f919c2259f3d0e8fe465049638a7.gif\">\n",
        "</p>\n",
        "\n",
        "Después de optimizar el rendimiento de su modelo varias veces, Fiu le pregunta si no es posible optimizar el entrenamiento del modelo en sí mismo. Después de leer un par de post de personas de dudosa reputación en la *deepweb*, usted llega a la conclusión que puede cumplir este objetivo mediante la implementación de **Prunning**.\n",
        "\n",
        "Vuelva a optimizar los mismos hiperparámetros que la sección pasada, pero esta vez utilizando **Prunning** en la optimización. En particular, usted debe:\n",
        "\n",
        "- Responder: ¿Qué es prunning? ¿De qué forma debería impactar en el entrenamiento?\n",
        "- Utilizar `optuna.integration.XGBoostPruningCallback` como método de **Prunning**\n",
        "- Fijar nuevamente el tiempo de entrenamiento a 5 minutos\n",
        "- Reportar el número de *trials*, el `MAE` y los mejores hiperparámetros encontrados. ¿Cómo cambian sus resultados con respecto a la sección anterior? ¿A qué se puede deber esto?\n",
        "- Guardar su modelo en un archivo .pkl\n",
        "\n",
        "Nota: Si quieren silenciar los prints obtenidos en el prunning, pueden hacerlo mediante el siguiente comando:\n",
        "\n",
        "```\n",
        "optuna.logging.set_verbosity(optuna.logging.WARNING)\n",
        "```\n",
        "\n",
        "De implementar la opción anterior, pueden especificar `show_progress_bar = True` en el método `optimize` para *más sabor*.\n",
        "\n",
        "Hint: Si quieren especificar parámetros del método .fit() del modelo a través del pipeline, pueden hacerlo por medio de la siguiente sintaxis: `pipeline.fit(stepmodelo__parametro = valor)`\n",
        "\n",
        "Hint2: Este <a href = https://stackoverflow.com/questions/40329576/sklearn-pass-fit-parameters-to-xgboost-in-pipeline>enlace</a> les puede ser de ayuda en su implementación"
      ]
    },
    {
      "cell_type": "code",
      "execution_count": 44,
      "metadata": {},
      "outputs": [
        {
          "name": "stdout",
          "output_type": "stream",
          "text": [
            "Número de trials: 266\n",
            "Best trial:\n",
            "  Value (MAE): 134.76459210995137\n",
            "  Params: \n",
            "    learning_rate: 0.01729795902869603\n",
            "    n_estimators: 694\n",
            "    max_depth: 4\n",
            "    max_leaves: 55\n",
            "    min_child_weight: 2\n",
            "    reg_alpha: 0.24632829732780134\n",
            "    reg_lambda: 0.10849047734394074\n"
          ]
        }
      ],
      "source": [
        "import joblib\n",
        "import optuna\n",
        "from xgboost import XGBRegressor\n",
        "from sklearn.pipeline import Pipeline\n",
        "from sklearn.metrics import mean_absolute_error\n",
        "from sklearn.compose import ColumnTransformer\n",
        "from sklearn.preprocessing import OneHotEncoder, StandardScaler\n",
        "from sklearn.preprocessing import FunctionTransformer\n",
        "import pandas as pd\n",
        "from optuna.integration import XGBoostPruningCallback  # Importar el callback de poda\n",
        "import optuna.logging\n",
        "\n",
        "# Configurar la verbosity a WARNING\n",
        "optuna.logging.set_verbosity(optuna.logging.WARNING)\n",
        "\n",
        "# Fijar la semilla\n",
        "seed = 42\n",
        "\n",
        "# Definir la función objetivo\n",
        "def objective(trial):\n",
        "    # Definir el espacio de búsqueda de hiperparámetros\n",
        "    params = {\n",
        "        \"learning_rate\": trial.suggest_float('learning_rate', 0.001, 0.1),\n",
        "        \"n_estimators\": trial.suggest_int('n_estimators', 50, 1000),\n",
        "        \"max_depth\": trial.suggest_int('max_depth', 3, 10),\n",
        "        \"max_leaves\": trial.suggest_int('max_leaves', 0, 100),\n",
        "        \"min_child_weight\": trial.suggest_int('min_child_weight', 1, 5),\n",
        "        \"reg_alpha\": trial.suggest_float('reg_alpha', 0, 1),\n",
        "        \"reg_lambda\": trial.suggest_float('reg_lambda', 0, 1),\n",
        "    }\n",
        "\n",
        "    # Crear el modelo con los hiperparámetros\n",
        "    model = XGBRegressor(\n",
        "        objective='reg:squarederror',  # Establecer el objetivo como 'reg:squarederror'\n",
        "        **params,  # Pasar los hiperparámetros como kwargs\n",
        "        n_jobs=-1,\n",
        "        random_state=seed,\n",
        "        eval_metric='mae'  # Establecer la métrica de evaluación como 'mae'\n",
        "    )\n",
        "\n",
        "    # Crear un pipeline con los pasos necesarios\n",
        "    pipeline_optimized = Pipeline(steps=[\n",
        "        ('date_transformer', FunctionTransformer(extract_date_features)),\n",
        "        ('reorder_columns', FunctionTransformer(reorder_columns)),\n",
        "        ('preprocessor', preprocessor),\n",
        "        ('regressor', model)\n",
        "    ])\n",
        "\n",
        "    # Añadir el callback de poda\n",
        "    pruning_callback = XGBoostPruningCallback(trial, 'validation-mae')\n",
        "    \n",
        "    # Ajustar el pipeline a los datos de entrenamiento\n",
        "    pipeline_optimized.fit(train_df, train_df['quantity'])\n",
        "\n",
        "    # Generar predicciones para el conjunto de validación\n",
        "    validation_predictions = pipeline_optimized.predict(validation_df)\n",
        "\n",
        "    # Calcular el error absoluto medio en el conjunto de validación\n",
        "    mae = mean_absolute_error(validation_df['quantity'], validation_predictions)\n",
        "\n",
        "    return mae\n",
        "\n",
        "# Crear el estudio de Optuna con TPESampler\n",
        "sampler = optuna.samplers.TPESampler(seed=seed)\n",
        "study = optuna.create_study(direction='minimize', sampler=sampler)\n",
        "study.optimize(objective, timeout=300)  # Fijar el tiempo de entrenamiento a 5 minutos\n",
        "\n",
        "# Obtener el mejor ensayo\n",
        "best_trial = study.best_trial\n",
        "\n",
        "# Reportar los resultados\n",
        "print('Número de trials:', len(study.trials))\n",
        "print('Best trial:')\n",
        "print(f'  Value (MAE): {best_trial.value}')\n",
        "print('  Params: ')\n",
        "for key, value in best_trial.params.items():\n",
        "    print(f'    {key}: {value}')\n"
      ]
    },
    {
      "cell_type": "markdown",
      "metadata": {},
      "source": [
        "Si bien es cierto que los resultados en cuanto al MAE empeoran ligeramente con la aplicación del pruning, esto puede atribuirse al hecho de que el proceso de pruning detiene el entrenamiento del modelo cuando no se observan mejoras significativas en el rendimiento. Como resultado, es posible que el modelo no alcance a completar su entrenamiento dentro del tiempo especificado en el método optimize de Optuna. No obstante, es importante señalar que si permitiéramos que la optimización con pruning se ejecutara durante un período de tiempo más prolongado, es probable que los resultados experimenten una mejora considerable."
      ]
    },
    {
      "cell_type": "code",
      "execution_count": 45,
      "metadata": {},
      "outputs": [
        {
          "data": {
            "text/plain": [
              "['optimized_model_pruning_pipeline.pkl']"
            ]
          },
          "execution_count": 45,
          "metadata": {},
          "output_type": "execute_result"
        }
      ],
      "source": [
        "# Crear el pipeline optimizado con los mejores hiperparámetros\n",
        "best_model = XGBRegressor(\n",
        "    learning_rate=best_trial.params['learning_rate'],\n",
        "    n_estimators=best_trial.params['n_estimators'],\n",
        "    max_depth=best_trial.params['max_depth'],\n",
        "    max_leaves=best_trial.params['max_leaves'],\n",
        "    min_child_weight=best_trial.params['min_child_weight'],\n",
        "    reg_alpha=best_trial.params['reg_alpha'],\n",
        "    reg_lambda=best_trial.params['reg_lambda'],\n",
        "    n_jobs=-1,\n",
        "    random_state=seed\n",
        ")\n",
        "\n",
        "pipeline_optimized_pruning = Pipeline(steps=[\n",
        "    ('date_transformer', FunctionTransformer(extract_date_features)),\n",
        "    ('preprocessor', preprocessor),\n",
        "    ('regressor', best_model)\n",
        "])\n",
        "\n",
        "# Ajustar el pipeline optimizado a los datos de entrenamiento completos\n",
        "pipeline_optimized_pruning.fit(train_df, train_df['quantity'])\n",
        "\n",
        "# Guardar el pipeline optimizado en un archivo .pkl con un nombre diferente\n",
        "# joblib.dump(pipeline_optimized_pruning, path + 'pipeline_pruning_optimized.pkl')\n",
        "joblib.dump(pipeline_optimized_pruning, 'optimized_model_pruning_pipeline.pkl')"
      ]
    },
    {
      "cell_type": "markdown",
      "metadata": {
        "cell_id": "8a081778cc704fc6bed05393a5419327",
        "deepnote_cell_type": "markdown",
        "id": "ZMiiVaCUI5wA"
      },
      "source": [
        "## 5. Visualizaciones (0.5 puntos)\n",
        "\n",
        "<p align=\"center\">\n",
        "  <img src=\"https://media.tenor.com/F-LgB1xTebEAAAAd/look-at-this-graph-nickelback.gif\">\n",
        "</p>\n",
        "\n",
        "\n",
        "Satisfecho con su trabajo, Fiu le pregunta si es posible generar visualizaciones que permitan entender el entrenamiento de su modelo.\n",
        "\n",
        "A partir del siguiente <a href = https://optuna.readthedocs.io/en/stable/tutorial/10_key_features/005_visualization.html#visualization>enlace</a>, genere las siguientes visualizaciones:\n",
        "\n",
        "1. Gráfico de historial de optimización\n",
        "2. Gráfico de coordenadas paralelas\n",
        "3. Gráfico de importancia de hiperparámetros\n",
        "\n",
        "Comente sus resultados:\n",
        "\n",
        "4. ¿Desde qué *trial* se empiezan a observar mejoras notables en sus resultados?\n",
        "5. ¿Qué tendencias puede observar a partir del gráfico de coordenadas paralelas?\n",
        "6. ¿Cuáles son los hiperparámetros con mayor importancia para la optimización de su modelo?"
      ]
    },
    {
      "cell_type": "code",
      "execution_count": 47,
      "metadata": {
        "cell_id": "0e706dc9a8d946eda7a9eb1f0463c6d7",
        "deepnote_cell_type": "code",
        "id": "xjxAEENAI5wA"
      },
      "outputs": [],
      "source": [
        "from optuna.visualization import plot_optimization_history\n",
        "from optuna.visualization import plot_parallel_coordinate\n",
        "from optuna.visualization import plot_param_importances"
      ]
    },
    {
      "cell_type": "code",
      "execution_count": 48,
      "metadata": {},
      "outputs": [
        {
          "data": {
            "application/vnd.plotly.v1+json": {
              "config": {
                "plotlyServerURL": "https://plot.ly"
              },
              "data": [
                {
                  "mode": "markers",
                  "name": "Objective Value",
                  "type": "scatter",
                  "x": [
                    0,
                    1,
                    2,
                    3,
                    4,
                    5,
                    6,
                    7,
                    8,
                    9,
                    10,
                    11,
                    12,
                    13,
                    14,
                    15,
                    16,
                    17,
                    18,
                    19,
                    20,
                    21,
                    22,
                    23,
                    24,
                    25,
                    26,
                    27,
                    28,
                    29,
                    30,
                    31,
                    32,
                    33,
                    34,
                    35,
                    36,
                    37,
                    38,
                    39,
                    40,
                    41,
                    42,
                    43,
                    44,
                    45,
                    46,
                    47,
                    48,
                    49,
                    50,
                    51,
                    52,
                    53,
                    54,
                    55,
                    56,
                    57,
                    58,
                    59,
                    60,
                    61,
                    62,
                    63,
                    64,
                    65,
                    66,
                    67,
                    68,
                    69,
                    70,
                    71,
                    72,
                    73,
                    74,
                    75,
                    76,
                    77,
                    78,
                    79,
                    80,
                    81,
                    82,
                    83,
                    84,
                    85,
                    86,
                    87,
                    88,
                    89,
                    90,
                    91,
                    92,
                    93,
                    94,
                    95,
                    96,
                    97,
                    98,
                    99,
                    100,
                    101,
                    102,
                    103,
                    104,
                    105,
                    106,
                    107,
                    108,
                    109,
                    110,
                    111,
                    112,
                    113,
                    114,
                    115,
                    116,
                    117,
                    118,
                    119,
                    120,
                    121,
                    122,
                    123,
                    124,
                    125,
                    126,
                    127,
                    128,
                    129,
                    130,
                    131,
                    132,
                    133,
                    134,
                    135,
                    136,
                    137,
                    138,
                    139,
                    140,
                    141,
                    142,
                    143,
                    144,
                    145,
                    146,
                    147,
                    148,
                    149,
                    150,
                    151,
                    152,
                    153,
                    154,
                    155,
                    156,
                    157,
                    158,
                    159,
                    160,
                    161,
                    162,
                    163,
                    164,
                    165,
                    166,
                    167,
                    168,
                    169,
                    170,
                    171,
                    172,
                    173,
                    174,
                    175,
                    176,
                    177,
                    178,
                    179,
                    180,
                    181,
                    182,
                    183,
                    184,
                    185,
                    186,
                    187,
                    188,
                    189,
                    190,
                    191,
                    192,
                    193,
                    194,
                    195,
                    196,
                    197,
                    198,
                    199,
                    200,
                    201,
                    202,
                    203,
                    204,
                    205,
                    206,
                    207,
                    208,
                    209,
                    210,
                    211,
                    212,
                    213,
                    214,
                    215,
                    216,
                    217,
                    218,
                    219,
                    220,
                    221,
                    222,
                    223,
                    224,
                    225,
                    226,
                    227,
                    228,
                    229,
                    230,
                    231,
                    232,
                    233,
                    234,
                    235,
                    236,
                    237,
                    238,
                    239,
                    240,
                    241,
                    242,
                    243,
                    244,
                    245,
                    246,
                    247,
                    248,
                    249,
                    250,
                    251,
                    252,
                    253,
                    254,
                    255,
                    256,
                    257,
                    258,
                    259,
                    260,
                    261,
                    262,
                    263,
                    264,
                    265
                  ],
                  "y": [
                    144.7594091567635,
                    405.90703170848,
                    249.03161612906607,
                    186.353216957998,
                    152.46850995294685,
                    181.82026828942404,
                    304.57828907035963,
                    149.88386029065015,
                    1424.3105377053992,
                    144.08298816335514,
                    13298.497707599765,
                    144.13862406208082,
                    146.19069658838447,
                    151.1042604913334,
                    142.82277568405223,
                    146.2782513767501,
                    142.8536166543532,
                    140.26341414371646,
                    142.55866350446428,
                    143.53106677172408,
                    150.24876325007335,
                    173.25798164638874,
                    149.68729090035,
                    146.27269901963868,
                    139.99311444840922,
                    637.7057979386738,
                    151.46433631083374,
                    167.42726017563714,
                    142.05048029059776,
                    141.19025857619675,
                    152.26987118020622,
                    139.30661295245432,
                    145.94349217047073,
                    138.16020815649102,
                    142.781869439292,
                    606.1170122951249,
                    159.55306251571932,
                    157.84277311001426,
                    148.3446676150654,
                    151.5951601536301,
                    139.1137701862215,
                    140.12611803634306,
                    140.9371384557344,
                    145.73977147389544,
                    142.1374932537936,
                    145.28349409608694,
                    142.88329505024942,
                    152.964319117832,
                    232.2843322958585,
                    145.38449217440058,
                    166.30899557501257,
                    151.53919578669937,
                    149.62022869639713,
                    147.03350539434524,
                    350.8681522730131,
                    139.85463055022845,
                    157.9831443085597,
                    140.32515126566693,
                    144.51060349728579,
                    236.08181772929242,
                    138.18411608976777,
                    138.47130406134724,
                    140.6562743976882,
                    143.2183501399019,
                    144.6426629438087,
                    138.6779220243335,
                    146.5328222590753,
                    139.66887523054996,
                    138.71251827370472,
                    137.66703836299044,
                    138.9036862778232,
                    138.30611451914612,
                    136.6617065675302,
                    139.34306719221578,
                    142.74791522572937,
                    139.4670000799065,
                    144.35409658471664,
                    136.8581981799652,
                    138.67691762554495,
                    138.2900290741847,
                    145.03747484909456,
                    141.01863754139418,
                    139.60695406160923,
                    165.43495805562543,
                    139.68826484296403,
                    142.3395023461079,
                    137.08966019423835,
                    143.4386945042652,
                    139.3118900577947,
                    140.84759893999413,
                    138.3912280650046,
                    139.7198388901115,
                    142.30889356320213,
                    138.55222644460514,
                    139.90447109741785,
                    139.0643483295607,
                    140.82214969504528,
                    142.4739724152205,
                    139.29388096155054,
                    145.97599169234155,
                    142.29234881947937,
                    139.53649959653757,
                    141.20048546487257,
                    139.2931400250461,
                    140.17607860705903,
                    145.33381604732563,
                    141.06843273180752,
                    136.59670555887408,
                    244.5951621185446,
                    137.706563764095,
                    146.1012368154238,
                    140.50756868686074,
                    136.94119371174966,
                    153.730810317635,
                    138.044830997705,
                    142.59282190539068,
                    138.16964531328597,
                    136.91797333480048,
                    135.9019208021567,
                    136.99446778326208,
                    138.59275771818412,
                    139.01960460680752,
                    138.31539382781062,
                    138.03717323472083,
                    137.5540800139378,
                    136.7015817234134,
                    141.79603074174213,
                    137.7532974539948,
                    137.74280202700578,
                    136.09933772557218,
                    142.10351791740024,
                    138.41944390955106,
                    139.4822858046718,
                    138.92035022635815,
                    141.78341893810781,
                    138.82836815816776,
                    139.18746643271083,
                    142.9912964112802,
                    142.41226853307344,
                    138.92747484254485,
                    139.71443177292923,
                    139.1627985687563,
                    136.98067424730675,
                    138.58396800071262,
                    138.68670781197602,
                    137.65611229224305,
                    134.76459210995137,
                    144.2757534792086,
                    140.56513757021295,
                    144.10199658235874,
                    137.86293575253606,
                    135.44584204445422,
                    135.91559038475646,
                    136.53736677879778,
                    137.25238262255826,
                    138.60972786589326,
                    138.57166043133802,
                    136.75376706855718,
                    135.72567108379442,
                    138.13433056018403,
                    178.62812421403422,
                    136.66956950033534,
                    138.07861966722209,
                    135.71468655684106,
                    135.95445901319374,
                    153.59704974639504,
                    141.3367791383719,
                    136.64878823723592,
                    138.01108408262073,
                    138.94920073828388,
                    137.92329563317404,
                    137.07613306793888,
                    136.92130304614142,
                    136.80993414916583,
                    140.54460781616785,
                    137.87308338966088,
                    135.54753570249622,
                    2084.0207658712693,
                    137.5218446093226,
                    137.9089255585597,
                    137.332179273558,
                    137.90267025329058,
                    138.6854225941587,
                    137.10089082673122,
                    136.74625929404553,
                    141.3824466984197,
                    136.7634421437479,
                    137.87198663989142,
                    194.3941654484197,
                    138.10864732666835,
                    468.4349996463154,
                    136.4026550252033,
                    136.76237781506748,
                    137.7841061669496,
                    179.5927734375,
                    138.47441550343729,
                    135.92902172147467,
                    136.5112517553236,
                    153.35572975614102,
                    138.22901716942278,
                    139.56973743502684,
                    139.1478300139378,
                    157.51225320674044,
                    137.75430742004107,
                    137.33044998506665,
                    137.12248949425722,
                    141.19834370808184,
                    136.99436937379485,
                    143.0254803560949,
                    136.3600992347313,
                    139.53100078334592,
                    138.29826042845616,
                    137.1235613551098,
                    136.54368643501635,
                    137.01453185257378,
                    137.81044240704645,
                    137.33772753709758,
                    136.61154492056505,
                    136.9978687227532,
                    138.3336832518549,
                    136.78292476211436,
                    137.327600367832,
                    138.04966501482855,
                    137.8015398707348,
                    136.56707595835428,
                    137.27728824116573,
                    235.3993544600939,
                    137.7949141790849,
                    138.85629712519912,
                    138.08188044281312,
                    136.34948345672996,
                    137.73354924468688,
                    136.16419938904258,
                    135.9229802643989,
                    136.3055397816587,
                    135.33847338588825,
                    135.51074120504276,
                    137.61040003039068,
                    135.91765829351107,
                    136.649978975415,
                    136.80262663218898,
                    137.7445077365233,
                    3510.1096546728286,
                    137.35849439082412,
                    136.26820919003606,
                    135.3510332830315,
                    135.54572748993965,
                    136.8124184560488,
                    156.35751062363767,
                    138.37903036709844,
                    203.56786585397805,
                    136.65015630894743,
                    136.4828466240149,
                    140.53576766589117,
                    217.18001367580482,
                    136.65802710141054,
                    138.4745058895037,
                    138.55139675946302,
                    1363.3408861371354,
                    136.42564534341466,
                    136.68292682527456,
                    143.40460798646043,
                    136.39160991338656,
                    138.02450346610917,
                    137.13791145309355,
                    150.63161259222
                  ]
                },
                {
                  "mode": "lines",
                  "name": "Best Value",
                  "type": "scatter",
                  "x": [
                    0,
                    1,
                    2,
                    3,
                    4,
                    5,
                    6,
                    7,
                    8,
                    9,
                    10,
                    11,
                    12,
                    13,
                    14,
                    15,
                    16,
                    17,
                    18,
                    19,
                    20,
                    21,
                    22,
                    23,
                    24,
                    25,
                    26,
                    27,
                    28,
                    29,
                    30,
                    31,
                    32,
                    33,
                    34,
                    35,
                    36,
                    37,
                    38,
                    39,
                    40,
                    41,
                    42,
                    43,
                    44,
                    45,
                    46,
                    47,
                    48,
                    49,
                    50,
                    51,
                    52,
                    53,
                    54,
                    55,
                    56,
                    57,
                    58,
                    59,
                    60,
                    61,
                    62,
                    63,
                    64,
                    65,
                    66,
                    67,
                    68,
                    69,
                    70,
                    71,
                    72,
                    73,
                    74,
                    75,
                    76,
                    77,
                    78,
                    79,
                    80,
                    81,
                    82,
                    83,
                    84,
                    85,
                    86,
                    87,
                    88,
                    89,
                    90,
                    91,
                    92,
                    93,
                    94,
                    95,
                    96,
                    97,
                    98,
                    99,
                    100,
                    101,
                    102,
                    103,
                    104,
                    105,
                    106,
                    107,
                    108,
                    109,
                    110,
                    111,
                    112,
                    113,
                    114,
                    115,
                    116,
                    117,
                    118,
                    119,
                    120,
                    121,
                    122,
                    123,
                    124,
                    125,
                    126,
                    127,
                    128,
                    129,
                    130,
                    131,
                    132,
                    133,
                    134,
                    135,
                    136,
                    137,
                    138,
                    139,
                    140,
                    141,
                    142,
                    143,
                    144,
                    145,
                    146,
                    147,
                    148,
                    149,
                    150,
                    151,
                    152,
                    153,
                    154,
                    155,
                    156,
                    157,
                    158,
                    159,
                    160,
                    161,
                    162,
                    163,
                    164,
                    165,
                    166,
                    167,
                    168,
                    169,
                    170,
                    171,
                    172,
                    173,
                    174,
                    175,
                    176,
                    177,
                    178,
                    179,
                    180,
                    181,
                    182,
                    183,
                    184,
                    185,
                    186,
                    187,
                    188,
                    189,
                    190,
                    191,
                    192,
                    193,
                    194,
                    195,
                    196,
                    197,
                    198,
                    199,
                    200,
                    201,
                    202,
                    203,
                    204,
                    205,
                    206,
                    207,
                    208,
                    209,
                    210,
                    211,
                    212,
                    213,
                    214,
                    215,
                    216,
                    217,
                    218,
                    219,
                    220,
                    221,
                    222,
                    223,
                    224,
                    225,
                    226,
                    227,
                    228,
                    229,
                    230,
                    231,
                    232,
                    233,
                    234,
                    235,
                    236,
                    237,
                    238,
                    239,
                    240,
                    241,
                    242,
                    243,
                    244,
                    245,
                    246,
                    247,
                    248,
                    249,
                    250,
                    251,
                    252,
                    253,
                    254,
                    255,
                    256,
                    257,
                    258,
                    259,
                    260,
                    261,
                    262,
                    263,
                    264,
                    265
                  ],
                  "y": [
                    144.7594091567635,
                    144.7594091567635,
                    144.7594091567635,
                    144.7594091567635,
                    144.7594091567635,
                    144.7594091567635,
                    144.7594091567635,
                    144.7594091567635,
                    144.7594091567635,
                    144.08298816335514,
                    144.08298816335514,
                    144.08298816335514,
                    144.08298816335514,
                    144.08298816335514,
                    142.82277568405223,
                    142.82277568405223,
                    142.82277568405223,
                    140.26341414371646,
                    140.26341414371646,
                    140.26341414371646,
                    140.26341414371646,
                    140.26341414371646,
                    140.26341414371646,
                    140.26341414371646,
                    139.99311444840922,
                    139.99311444840922,
                    139.99311444840922,
                    139.99311444840922,
                    139.99311444840922,
                    139.99311444840922,
                    139.99311444840922,
                    139.30661295245432,
                    139.30661295245432,
                    138.16020815649102,
                    138.16020815649102,
                    138.16020815649102,
                    138.16020815649102,
                    138.16020815649102,
                    138.16020815649102,
                    138.16020815649102,
                    138.16020815649102,
                    138.16020815649102,
                    138.16020815649102,
                    138.16020815649102,
                    138.16020815649102,
                    138.16020815649102,
                    138.16020815649102,
                    138.16020815649102,
                    138.16020815649102,
                    138.16020815649102,
                    138.16020815649102,
                    138.16020815649102,
                    138.16020815649102,
                    138.16020815649102,
                    138.16020815649102,
                    138.16020815649102,
                    138.16020815649102,
                    138.16020815649102,
                    138.16020815649102,
                    138.16020815649102,
                    138.16020815649102,
                    138.16020815649102,
                    138.16020815649102,
                    138.16020815649102,
                    138.16020815649102,
                    138.16020815649102,
                    138.16020815649102,
                    138.16020815649102,
                    138.16020815649102,
                    137.66703836299044,
                    137.66703836299044,
                    137.66703836299044,
                    136.6617065675302,
                    136.6617065675302,
                    136.6617065675302,
                    136.6617065675302,
                    136.6617065675302,
                    136.6617065675302,
                    136.6617065675302,
                    136.6617065675302,
                    136.6617065675302,
                    136.6617065675302,
                    136.6617065675302,
                    136.6617065675302,
                    136.6617065675302,
                    136.6617065675302,
                    136.6617065675302,
                    136.6617065675302,
                    136.6617065675302,
                    136.6617065675302,
                    136.6617065675302,
                    136.6617065675302,
                    136.6617065675302,
                    136.6617065675302,
                    136.6617065675302,
                    136.6617065675302,
                    136.6617065675302,
                    136.6617065675302,
                    136.6617065675302,
                    136.6617065675302,
                    136.6617065675302,
                    136.6617065675302,
                    136.6617065675302,
                    136.6617065675302,
                    136.6617065675302,
                    136.6617065675302,
                    136.6617065675302,
                    136.59670555887408,
                    136.59670555887408,
                    136.59670555887408,
                    136.59670555887408,
                    136.59670555887408,
                    136.59670555887408,
                    136.59670555887408,
                    136.59670555887408,
                    136.59670555887408,
                    136.59670555887408,
                    136.59670555887408,
                    135.9019208021567,
                    135.9019208021567,
                    135.9019208021567,
                    135.9019208021567,
                    135.9019208021567,
                    135.9019208021567,
                    135.9019208021567,
                    135.9019208021567,
                    135.9019208021567,
                    135.9019208021567,
                    135.9019208021567,
                    135.9019208021567,
                    135.9019208021567,
                    135.9019208021567,
                    135.9019208021567,
                    135.9019208021567,
                    135.9019208021567,
                    135.9019208021567,
                    135.9019208021567,
                    135.9019208021567,
                    135.9019208021567,
                    135.9019208021567,
                    135.9019208021567,
                    135.9019208021567,
                    135.9019208021567,
                    135.9019208021567,
                    135.9019208021567,
                    135.9019208021567,
                    134.76459210995137,
                    134.76459210995137,
                    134.76459210995137,
                    134.76459210995137,
                    134.76459210995137,
                    134.76459210995137,
                    134.76459210995137,
                    134.76459210995137,
                    134.76459210995137,
                    134.76459210995137,
                    134.76459210995137,
                    134.76459210995137,
                    134.76459210995137,
                    134.76459210995137,
                    134.76459210995137,
                    134.76459210995137,
                    134.76459210995137,
                    134.76459210995137,
                    134.76459210995137,
                    134.76459210995137,
                    134.76459210995137,
                    134.76459210995137,
                    134.76459210995137,
                    134.76459210995137,
                    134.76459210995137,
                    134.76459210995137,
                    134.76459210995137,
                    134.76459210995137,
                    134.76459210995137,
                    134.76459210995137,
                    134.76459210995137,
                    134.76459210995137,
                    134.76459210995137,
                    134.76459210995137,
                    134.76459210995137,
                    134.76459210995137,
                    134.76459210995137,
                    134.76459210995137,
                    134.76459210995137,
                    134.76459210995137,
                    134.76459210995137,
                    134.76459210995137,
                    134.76459210995137,
                    134.76459210995137,
                    134.76459210995137,
                    134.76459210995137,
                    134.76459210995137,
                    134.76459210995137,
                    134.76459210995137,
                    134.76459210995137,
                    134.76459210995137,
                    134.76459210995137,
                    134.76459210995137,
                    134.76459210995137,
                    134.76459210995137,
                    134.76459210995137,
                    134.76459210995137,
                    134.76459210995137,
                    134.76459210995137,
                    134.76459210995137,
                    134.76459210995137,
                    134.76459210995137,
                    134.76459210995137,
                    134.76459210995137,
                    134.76459210995137,
                    134.76459210995137,
                    134.76459210995137,
                    134.76459210995137,
                    134.76459210995137,
                    134.76459210995137,
                    134.76459210995137,
                    134.76459210995137,
                    134.76459210995137,
                    134.76459210995137,
                    134.76459210995137,
                    134.76459210995137,
                    134.76459210995137,
                    134.76459210995137,
                    134.76459210995137,
                    134.76459210995137,
                    134.76459210995137,
                    134.76459210995137,
                    134.76459210995137,
                    134.76459210995137,
                    134.76459210995137,
                    134.76459210995137,
                    134.76459210995137,
                    134.76459210995137,
                    134.76459210995137,
                    134.76459210995137,
                    134.76459210995137,
                    134.76459210995137,
                    134.76459210995137,
                    134.76459210995137,
                    134.76459210995137,
                    134.76459210995137,
                    134.76459210995137,
                    134.76459210995137,
                    134.76459210995137,
                    134.76459210995137,
                    134.76459210995137,
                    134.76459210995137,
                    134.76459210995137,
                    134.76459210995137,
                    134.76459210995137,
                    134.76459210995137,
                    134.76459210995137,
                    134.76459210995137,
                    134.76459210995137,
                    134.76459210995137,
                    134.76459210995137,
                    134.76459210995137,
                    134.76459210995137,
                    134.76459210995137,
                    134.76459210995137,
                    134.76459210995137,
                    134.76459210995137,
                    134.76459210995137,
                    134.76459210995137,
                    134.76459210995137
                  ]
                },
                {
                  "marker": {
                    "color": "#cccccc"
                  },
                  "mode": "markers",
                  "name": "Infeasible Trial",
                  "showlegend": false,
                  "type": "scatter",
                  "x": [],
                  "y": []
                }
              ],
              "layout": {
                "template": {
                  "data": {
                    "bar": [
                      {
                        "error_x": {
                          "color": "#2a3f5f"
                        },
                        "error_y": {
                          "color": "#2a3f5f"
                        },
                        "marker": {
                          "line": {
                            "color": "#E5ECF6",
                            "width": 0.5
                          },
                          "pattern": {
                            "fillmode": "overlay",
                            "size": 10,
                            "solidity": 0.2
                          }
                        },
                        "type": "bar"
                      }
                    ],
                    "barpolar": [
                      {
                        "marker": {
                          "line": {
                            "color": "#E5ECF6",
                            "width": 0.5
                          },
                          "pattern": {
                            "fillmode": "overlay",
                            "size": 10,
                            "solidity": 0.2
                          }
                        },
                        "type": "barpolar"
                      }
                    ],
                    "carpet": [
                      {
                        "aaxis": {
                          "endlinecolor": "#2a3f5f",
                          "gridcolor": "white",
                          "linecolor": "white",
                          "minorgridcolor": "white",
                          "startlinecolor": "#2a3f5f"
                        },
                        "baxis": {
                          "endlinecolor": "#2a3f5f",
                          "gridcolor": "white",
                          "linecolor": "white",
                          "minorgridcolor": "white",
                          "startlinecolor": "#2a3f5f"
                        },
                        "type": "carpet"
                      }
                    ],
                    "choropleth": [
                      {
                        "colorbar": {
                          "outlinewidth": 0,
                          "ticks": ""
                        },
                        "type": "choropleth"
                      }
                    ],
                    "contour": [
                      {
                        "colorbar": {
                          "outlinewidth": 0,
                          "ticks": ""
                        },
                        "colorscale": [
                          [
                            0,
                            "#0d0887"
                          ],
                          [
                            0.1111111111111111,
                            "#46039f"
                          ],
                          [
                            0.2222222222222222,
                            "#7201a8"
                          ],
                          [
                            0.3333333333333333,
                            "#9c179e"
                          ],
                          [
                            0.4444444444444444,
                            "#bd3786"
                          ],
                          [
                            0.5555555555555556,
                            "#d8576b"
                          ],
                          [
                            0.6666666666666666,
                            "#ed7953"
                          ],
                          [
                            0.7777777777777778,
                            "#fb9f3a"
                          ],
                          [
                            0.8888888888888888,
                            "#fdca26"
                          ],
                          [
                            1,
                            "#f0f921"
                          ]
                        ],
                        "type": "contour"
                      }
                    ],
                    "contourcarpet": [
                      {
                        "colorbar": {
                          "outlinewidth": 0,
                          "ticks": ""
                        },
                        "type": "contourcarpet"
                      }
                    ],
                    "heatmap": [
                      {
                        "colorbar": {
                          "outlinewidth": 0,
                          "ticks": ""
                        },
                        "colorscale": [
                          [
                            0,
                            "#0d0887"
                          ],
                          [
                            0.1111111111111111,
                            "#46039f"
                          ],
                          [
                            0.2222222222222222,
                            "#7201a8"
                          ],
                          [
                            0.3333333333333333,
                            "#9c179e"
                          ],
                          [
                            0.4444444444444444,
                            "#bd3786"
                          ],
                          [
                            0.5555555555555556,
                            "#d8576b"
                          ],
                          [
                            0.6666666666666666,
                            "#ed7953"
                          ],
                          [
                            0.7777777777777778,
                            "#fb9f3a"
                          ],
                          [
                            0.8888888888888888,
                            "#fdca26"
                          ],
                          [
                            1,
                            "#f0f921"
                          ]
                        ],
                        "type": "heatmap"
                      }
                    ],
                    "heatmapgl": [
                      {
                        "colorbar": {
                          "outlinewidth": 0,
                          "ticks": ""
                        },
                        "colorscale": [
                          [
                            0,
                            "#0d0887"
                          ],
                          [
                            0.1111111111111111,
                            "#46039f"
                          ],
                          [
                            0.2222222222222222,
                            "#7201a8"
                          ],
                          [
                            0.3333333333333333,
                            "#9c179e"
                          ],
                          [
                            0.4444444444444444,
                            "#bd3786"
                          ],
                          [
                            0.5555555555555556,
                            "#d8576b"
                          ],
                          [
                            0.6666666666666666,
                            "#ed7953"
                          ],
                          [
                            0.7777777777777778,
                            "#fb9f3a"
                          ],
                          [
                            0.8888888888888888,
                            "#fdca26"
                          ],
                          [
                            1,
                            "#f0f921"
                          ]
                        ],
                        "type": "heatmapgl"
                      }
                    ],
                    "histogram": [
                      {
                        "marker": {
                          "pattern": {
                            "fillmode": "overlay",
                            "size": 10,
                            "solidity": 0.2
                          }
                        },
                        "type": "histogram"
                      }
                    ],
                    "histogram2d": [
                      {
                        "colorbar": {
                          "outlinewidth": 0,
                          "ticks": ""
                        },
                        "colorscale": [
                          [
                            0,
                            "#0d0887"
                          ],
                          [
                            0.1111111111111111,
                            "#46039f"
                          ],
                          [
                            0.2222222222222222,
                            "#7201a8"
                          ],
                          [
                            0.3333333333333333,
                            "#9c179e"
                          ],
                          [
                            0.4444444444444444,
                            "#bd3786"
                          ],
                          [
                            0.5555555555555556,
                            "#d8576b"
                          ],
                          [
                            0.6666666666666666,
                            "#ed7953"
                          ],
                          [
                            0.7777777777777778,
                            "#fb9f3a"
                          ],
                          [
                            0.8888888888888888,
                            "#fdca26"
                          ],
                          [
                            1,
                            "#f0f921"
                          ]
                        ],
                        "type": "histogram2d"
                      }
                    ],
                    "histogram2dcontour": [
                      {
                        "colorbar": {
                          "outlinewidth": 0,
                          "ticks": ""
                        },
                        "colorscale": [
                          [
                            0,
                            "#0d0887"
                          ],
                          [
                            0.1111111111111111,
                            "#46039f"
                          ],
                          [
                            0.2222222222222222,
                            "#7201a8"
                          ],
                          [
                            0.3333333333333333,
                            "#9c179e"
                          ],
                          [
                            0.4444444444444444,
                            "#bd3786"
                          ],
                          [
                            0.5555555555555556,
                            "#d8576b"
                          ],
                          [
                            0.6666666666666666,
                            "#ed7953"
                          ],
                          [
                            0.7777777777777778,
                            "#fb9f3a"
                          ],
                          [
                            0.8888888888888888,
                            "#fdca26"
                          ],
                          [
                            1,
                            "#f0f921"
                          ]
                        ],
                        "type": "histogram2dcontour"
                      }
                    ],
                    "mesh3d": [
                      {
                        "colorbar": {
                          "outlinewidth": 0,
                          "ticks": ""
                        },
                        "type": "mesh3d"
                      }
                    ],
                    "parcoords": [
                      {
                        "line": {
                          "colorbar": {
                            "outlinewidth": 0,
                            "ticks": ""
                          }
                        },
                        "type": "parcoords"
                      }
                    ],
                    "pie": [
                      {
                        "automargin": true,
                        "type": "pie"
                      }
                    ],
                    "scatter": [
                      {
                        "fillpattern": {
                          "fillmode": "overlay",
                          "size": 10,
                          "solidity": 0.2
                        },
                        "type": "scatter"
                      }
                    ],
                    "scatter3d": [
                      {
                        "line": {
                          "colorbar": {
                            "outlinewidth": 0,
                            "ticks": ""
                          }
                        },
                        "marker": {
                          "colorbar": {
                            "outlinewidth": 0,
                            "ticks": ""
                          }
                        },
                        "type": "scatter3d"
                      }
                    ],
                    "scattercarpet": [
                      {
                        "marker": {
                          "colorbar": {
                            "outlinewidth": 0,
                            "ticks": ""
                          }
                        },
                        "type": "scattercarpet"
                      }
                    ],
                    "scattergeo": [
                      {
                        "marker": {
                          "colorbar": {
                            "outlinewidth": 0,
                            "ticks": ""
                          }
                        },
                        "type": "scattergeo"
                      }
                    ],
                    "scattergl": [
                      {
                        "marker": {
                          "colorbar": {
                            "outlinewidth": 0,
                            "ticks": ""
                          }
                        },
                        "type": "scattergl"
                      }
                    ],
                    "scattermapbox": [
                      {
                        "marker": {
                          "colorbar": {
                            "outlinewidth": 0,
                            "ticks": ""
                          }
                        },
                        "type": "scattermapbox"
                      }
                    ],
                    "scatterpolar": [
                      {
                        "marker": {
                          "colorbar": {
                            "outlinewidth": 0,
                            "ticks": ""
                          }
                        },
                        "type": "scatterpolar"
                      }
                    ],
                    "scatterpolargl": [
                      {
                        "marker": {
                          "colorbar": {
                            "outlinewidth": 0,
                            "ticks": ""
                          }
                        },
                        "type": "scatterpolargl"
                      }
                    ],
                    "scatterternary": [
                      {
                        "marker": {
                          "colorbar": {
                            "outlinewidth": 0,
                            "ticks": ""
                          }
                        },
                        "type": "scatterternary"
                      }
                    ],
                    "surface": [
                      {
                        "colorbar": {
                          "outlinewidth": 0,
                          "ticks": ""
                        },
                        "colorscale": [
                          [
                            0,
                            "#0d0887"
                          ],
                          [
                            0.1111111111111111,
                            "#46039f"
                          ],
                          [
                            0.2222222222222222,
                            "#7201a8"
                          ],
                          [
                            0.3333333333333333,
                            "#9c179e"
                          ],
                          [
                            0.4444444444444444,
                            "#bd3786"
                          ],
                          [
                            0.5555555555555556,
                            "#d8576b"
                          ],
                          [
                            0.6666666666666666,
                            "#ed7953"
                          ],
                          [
                            0.7777777777777778,
                            "#fb9f3a"
                          ],
                          [
                            0.8888888888888888,
                            "#fdca26"
                          ],
                          [
                            1,
                            "#f0f921"
                          ]
                        ],
                        "type": "surface"
                      }
                    ],
                    "table": [
                      {
                        "cells": {
                          "fill": {
                            "color": "#EBF0F8"
                          },
                          "line": {
                            "color": "white"
                          }
                        },
                        "header": {
                          "fill": {
                            "color": "#C8D4E3"
                          },
                          "line": {
                            "color": "white"
                          }
                        },
                        "type": "table"
                      }
                    ]
                  },
                  "layout": {
                    "annotationdefaults": {
                      "arrowcolor": "#2a3f5f",
                      "arrowhead": 0,
                      "arrowwidth": 1
                    },
                    "autotypenumbers": "strict",
                    "coloraxis": {
                      "colorbar": {
                        "outlinewidth": 0,
                        "ticks": ""
                      }
                    },
                    "colorscale": {
                      "diverging": [
                        [
                          0,
                          "#8e0152"
                        ],
                        [
                          0.1,
                          "#c51b7d"
                        ],
                        [
                          0.2,
                          "#de77ae"
                        ],
                        [
                          0.3,
                          "#f1b6da"
                        ],
                        [
                          0.4,
                          "#fde0ef"
                        ],
                        [
                          0.5,
                          "#f7f7f7"
                        ],
                        [
                          0.6,
                          "#e6f5d0"
                        ],
                        [
                          0.7,
                          "#b8e186"
                        ],
                        [
                          0.8,
                          "#7fbc41"
                        ],
                        [
                          0.9,
                          "#4d9221"
                        ],
                        [
                          1,
                          "#276419"
                        ]
                      ],
                      "sequential": [
                        [
                          0,
                          "#0d0887"
                        ],
                        [
                          0.1111111111111111,
                          "#46039f"
                        ],
                        [
                          0.2222222222222222,
                          "#7201a8"
                        ],
                        [
                          0.3333333333333333,
                          "#9c179e"
                        ],
                        [
                          0.4444444444444444,
                          "#bd3786"
                        ],
                        [
                          0.5555555555555556,
                          "#d8576b"
                        ],
                        [
                          0.6666666666666666,
                          "#ed7953"
                        ],
                        [
                          0.7777777777777778,
                          "#fb9f3a"
                        ],
                        [
                          0.8888888888888888,
                          "#fdca26"
                        ],
                        [
                          1,
                          "#f0f921"
                        ]
                      ],
                      "sequentialminus": [
                        [
                          0,
                          "#0d0887"
                        ],
                        [
                          0.1111111111111111,
                          "#46039f"
                        ],
                        [
                          0.2222222222222222,
                          "#7201a8"
                        ],
                        [
                          0.3333333333333333,
                          "#9c179e"
                        ],
                        [
                          0.4444444444444444,
                          "#bd3786"
                        ],
                        [
                          0.5555555555555556,
                          "#d8576b"
                        ],
                        [
                          0.6666666666666666,
                          "#ed7953"
                        ],
                        [
                          0.7777777777777778,
                          "#fb9f3a"
                        ],
                        [
                          0.8888888888888888,
                          "#fdca26"
                        ],
                        [
                          1,
                          "#f0f921"
                        ]
                      ]
                    },
                    "colorway": [
                      "#636efa",
                      "#EF553B",
                      "#00cc96",
                      "#ab63fa",
                      "#FFA15A",
                      "#19d3f3",
                      "#FF6692",
                      "#B6E880",
                      "#FF97FF",
                      "#FECB52"
                    ],
                    "font": {
                      "color": "#2a3f5f"
                    },
                    "geo": {
                      "bgcolor": "white",
                      "lakecolor": "white",
                      "landcolor": "#E5ECF6",
                      "showlakes": true,
                      "showland": true,
                      "subunitcolor": "white"
                    },
                    "hoverlabel": {
                      "align": "left"
                    },
                    "hovermode": "closest",
                    "mapbox": {
                      "style": "light"
                    },
                    "paper_bgcolor": "white",
                    "plot_bgcolor": "#E5ECF6",
                    "polar": {
                      "angularaxis": {
                        "gridcolor": "white",
                        "linecolor": "white",
                        "ticks": ""
                      },
                      "bgcolor": "#E5ECF6",
                      "radialaxis": {
                        "gridcolor": "white",
                        "linecolor": "white",
                        "ticks": ""
                      }
                    },
                    "scene": {
                      "xaxis": {
                        "backgroundcolor": "#E5ECF6",
                        "gridcolor": "white",
                        "gridwidth": 2,
                        "linecolor": "white",
                        "showbackground": true,
                        "ticks": "",
                        "zerolinecolor": "white"
                      },
                      "yaxis": {
                        "backgroundcolor": "#E5ECF6",
                        "gridcolor": "white",
                        "gridwidth": 2,
                        "linecolor": "white",
                        "showbackground": true,
                        "ticks": "",
                        "zerolinecolor": "white"
                      },
                      "zaxis": {
                        "backgroundcolor": "#E5ECF6",
                        "gridcolor": "white",
                        "gridwidth": 2,
                        "linecolor": "white",
                        "showbackground": true,
                        "ticks": "",
                        "zerolinecolor": "white"
                      }
                    },
                    "shapedefaults": {
                      "line": {
                        "color": "#2a3f5f"
                      }
                    },
                    "ternary": {
                      "aaxis": {
                        "gridcolor": "white",
                        "linecolor": "white",
                        "ticks": ""
                      },
                      "baxis": {
                        "gridcolor": "white",
                        "linecolor": "white",
                        "ticks": ""
                      },
                      "bgcolor": "#E5ECF6",
                      "caxis": {
                        "gridcolor": "white",
                        "linecolor": "white",
                        "ticks": ""
                      }
                    },
                    "title": {
                      "x": 0.05
                    },
                    "xaxis": {
                      "automargin": true,
                      "gridcolor": "white",
                      "linecolor": "white",
                      "ticks": "",
                      "title": {
                        "standoff": 15
                      },
                      "zerolinecolor": "white",
                      "zerolinewidth": 2
                    },
                    "yaxis": {
                      "automargin": true,
                      "gridcolor": "white",
                      "linecolor": "white",
                      "ticks": "",
                      "title": {
                        "standoff": 15
                      },
                      "zerolinecolor": "white",
                      "zerolinewidth": 2
                    }
                  }
                },
                "title": {
                  "text": "Optimization History Plot"
                },
                "xaxis": {
                  "title": {
                    "text": "Trial"
                  }
                },
                "yaxis": {
                  "title": {
                    "text": "Objective Value"
                  }
                }
              }
            }
          },
          "metadata": {},
          "output_type": "display_data"
        }
      ],
      "source": [
        "# Gráfico de historial de optimización\n",
        "plot_optimization_history(study)"
      ]
    },
    {
      "cell_type": "markdown",
      "metadata": {},
      "source": [
        "En el gráfico, podemos ver que al principio hay algunos puntos con valores de objetivo relativamente altos. A partir de cierto trial, los valores de objetivo empiezan a ser consistentemente bajos y cercanos a un mínimo estable.\n",
        "\n",
        "Observando el gráfico, parece que las mejoras notables comienzan alrededor del trial número 50, ya que después de ese punto los valores objetivo se estabilizan y permanecen bajos, con pocas excepciones.\n",
        "\n",
        "Si necesitas un análisis más preciso, podría ser útil tener los datos numéricos exactos de los trials y sus valores objetivo para realizar un análisis detallado. Si puedes proporcionar esos datos en un formato adecuado (como un archivo CSV), podré darte una respuesta más detallada y precisa."
      ]
    },
    {
      "cell_type": "code",
      "execution_count": 49,
      "metadata": {},
      "outputs": [
        {
          "data": {
            "application/vnd.plotly.v1+json": {
              "config": {
                "plotlyServerURL": "https://plot.ly"
              },
              "data": [
                {
                  "dimensions": [
                    {
                      "label": "Objective Value",
                      "range": [
                        134.76459210995137,
                        13298.497707599765
                      ],
                      "values": [
                        144.7594091567635,
                        405.90703170848,
                        249.03161612906607,
                        186.353216957998,
                        152.46850995294685,
                        181.82026828942404,
                        304.57828907035963,
                        149.88386029065015,
                        1424.3105377053992,
                        144.08298816335514,
                        13298.497707599765,
                        144.13862406208082,
                        146.19069658838447,
                        151.1042604913334,
                        142.82277568405223,
                        146.2782513767501,
                        142.8536166543532,
                        140.26341414371646,
                        142.55866350446428,
                        143.53106677172408,
                        150.24876325007335,
                        173.25798164638874,
                        149.68729090035,
                        146.27269901963868,
                        139.99311444840922,
                        637.7057979386738,
                        151.46433631083374,
                        167.42726017563714,
                        142.05048029059776,
                        141.19025857619675,
                        152.26987118020622,
                        139.30661295245432,
                        145.94349217047073,
                        138.16020815649102,
                        142.781869439292,
                        606.1170122951249,
                        159.55306251571932,
                        157.84277311001426,
                        148.3446676150654,
                        151.5951601536301,
                        139.1137701862215,
                        140.12611803634306,
                        140.9371384557344,
                        145.73977147389544,
                        142.1374932537936,
                        145.28349409608694,
                        142.88329505024942,
                        152.964319117832,
                        232.2843322958585,
                        145.38449217440058,
                        166.30899557501257,
                        151.53919578669937,
                        149.62022869639713,
                        147.03350539434524,
                        350.8681522730131,
                        139.85463055022845,
                        157.9831443085597,
                        140.32515126566693,
                        144.51060349728579,
                        236.08181772929242,
                        138.18411608976777,
                        138.47130406134724,
                        140.6562743976882,
                        143.2183501399019,
                        144.6426629438087,
                        138.6779220243335,
                        146.5328222590753,
                        139.66887523054996,
                        138.71251827370472,
                        137.66703836299044,
                        138.9036862778232,
                        138.30611451914612,
                        136.6617065675302,
                        139.34306719221578,
                        142.74791522572937,
                        139.4670000799065,
                        144.35409658471664,
                        136.8581981799652,
                        138.67691762554495,
                        138.2900290741847,
                        145.03747484909456,
                        141.01863754139418,
                        139.60695406160923,
                        165.43495805562543,
                        139.68826484296403,
                        142.3395023461079,
                        137.08966019423835,
                        143.4386945042652,
                        139.3118900577947,
                        140.84759893999413,
                        138.3912280650046,
                        139.7198388901115,
                        142.30889356320213,
                        138.55222644460514,
                        139.90447109741785,
                        139.0643483295607,
                        140.82214969504528,
                        142.4739724152205,
                        139.29388096155054,
                        145.97599169234155,
                        142.29234881947937,
                        139.53649959653757,
                        141.20048546487257,
                        139.2931400250461,
                        140.17607860705903,
                        145.33381604732563,
                        141.06843273180752,
                        136.59670555887408,
                        244.5951621185446,
                        137.706563764095,
                        146.1012368154238,
                        140.50756868686074,
                        136.94119371174966,
                        153.730810317635,
                        138.044830997705,
                        142.59282190539068,
                        138.16964531328597,
                        136.91797333480048,
                        135.9019208021567,
                        136.99446778326208,
                        138.59275771818412,
                        139.01960460680752,
                        138.31539382781062,
                        138.03717323472083,
                        137.5540800139378,
                        136.7015817234134,
                        141.79603074174213,
                        137.7532974539948,
                        137.74280202700578,
                        136.09933772557218,
                        142.10351791740024,
                        138.41944390955106,
                        139.4822858046718,
                        138.92035022635815,
                        141.78341893810781,
                        138.82836815816776,
                        139.18746643271083,
                        142.9912964112802,
                        142.41226853307344,
                        138.92747484254485,
                        139.71443177292923,
                        139.1627985687563,
                        136.98067424730675,
                        138.58396800071262,
                        138.68670781197602,
                        137.65611229224305,
                        134.76459210995137,
                        144.2757534792086,
                        140.56513757021295,
                        144.10199658235874,
                        137.86293575253606,
                        135.44584204445422,
                        135.91559038475646,
                        136.53736677879778,
                        137.25238262255826,
                        138.60972786589326,
                        138.57166043133802,
                        136.75376706855718,
                        135.72567108379442,
                        138.13433056018403,
                        178.62812421403422,
                        136.66956950033534,
                        138.07861966722209,
                        135.71468655684106,
                        135.95445901319374,
                        153.59704974639504,
                        141.3367791383719,
                        136.64878823723592,
                        138.01108408262073,
                        138.94920073828388,
                        137.92329563317404,
                        137.07613306793888,
                        136.92130304614142,
                        136.80993414916583,
                        140.54460781616785,
                        137.87308338966088,
                        135.54753570249622,
                        2084.0207658712693,
                        137.5218446093226,
                        137.9089255585597,
                        137.332179273558,
                        137.90267025329058,
                        138.6854225941587,
                        137.10089082673122,
                        136.74625929404553,
                        141.3824466984197,
                        136.7634421437479,
                        137.87198663989142,
                        194.3941654484197,
                        138.10864732666835,
                        468.4349996463154,
                        136.4026550252033,
                        136.76237781506748,
                        137.7841061669496,
                        179.5927734375,
                        138.47441550343729,
                        135.92902172147467,
                        136.5112517553236,
                        153.35572975614102,
                        138.22901716942278,
                        139.56973743502684,
                        139.1478300139378,
                        157.51225320674044,
                        137.75430742004107,
                        137.33044998506665,
                        137.12248949425722,
                        141.19834370808184,
                        136.99436937379485,
                        143.0254803560949,
                        136.3600992347313,
                        139.53100078334592,
                        138.29826042845616,
                        137.1235613551098,
                        136.54368643501635,
                        137.01453185257378,
                        137.81044240704645,
                        137.33772753709758,
                        136.61154492056505,
                        136.9978687227532,
                        138.3336832518549,
                        136.78292476211436,
                        137.327600367832,
                        138.04966501482855,
                        137.8015398707348,
                        136.56707595835428,
                        137.27728824116573,
                        235.3993544600939,
                        137.7949141790849,
                        138.85629712519912,
                        138.08188044281312,
                        136.34948345672996,
                        137.73354924468688,
                        136.16419938904258,
                        135.9229802643989,
                        136.3055397816587,
                        135.33847338588825,
                        135.51074120504276,
                        137.61040003039068,
                        135.91765829351107,
                        136.649978975415,
                        136.80262663218898,
                        137.7445077365233,
                        3510.1096546728286,
                        137.35849439082412,
                        136.26820919003606,
                        135.3510332830315,
                        135.54572748993965,
                        136.8124184560488,
                        156.35751062363767,
                        138.37903036709844,
                        203.56786585397805,
                        136.65015630894743,
                        136.4828466240149,
                        140.53576766589117,
                        217.18001367580482,
                        136.65802710141054,
                        138.4745058895037,
                        138.55139675946302,
                        1363.3408861371354,
                        136.42564534341466,
                        136.68292682527456,
                        143.40460798646043,
                        136.39160991338656,
                        138.02450346610917,
                        137.13791145309355,
                        150.63161259222
                      ]
                    },
                    {
                      "label": "learning_rate",
                      "range": [
                        0.0028197006325901795,
                        0.09982317294058177
                      ],
                      "values": [
                        0.03807947176588889,
                        0.08675143843171859,
                        0.01900067175350296,
                        0.01480989220455214,
                        0.05964904231734221,
                        0.08103133746352965,
                        0.004404463590406622,
                        0.01930059109702718,
                        0.00976075770314003,
                        0.036318579342665344,
                        0.04250820336397829,
                        0.03985283631816062,
                        0.055853861849675966,
                        0.032854950582426226,
                        0.028456272212588195,
                        0.029298365763935734,
                        0.05123954303182267,
                        0.0644023579891858,
                        0.07224990796315667,
                        0.07077418210571315,
                        0.09982317294058177,
                        0.06422404942530065,
                        0.05012892892381318,
                        0.06977657172829974,
                        0.04888507415760869,
                        0.04661972525218949,
                        0.05601525856238423,
                        0.06473284991264676,
                        0.0738786795623309,
                        0.04525102998814451,
                        0.04460692908343886,
                        0.05183054541776299,
                        0.050113312983216404,
                        0.057101860697948786,
                        0.05538426624979688,
                        0.06063967551536123,
                        0.06043854954322961,
                        0.05191572576809117,
                        0.04006413506286799,
                        0.07698456208139032,
                        0.06581330473290298,
                        0.06665508213715277,
                        0.06657654700445279,
                        0.05781681370554813,
                        0.06056119053954517,
                        0.08130363582205165,
                        0.053358424602772,
                        0.06771111605861918,
                        0.059300113686806696,
                        0.04857128380855877,
                        0.042761216926974516,
                        0.06338367794130749,
                        0.05414778250383287,
                        0.06364140646629428,
                        0.06847362662386328,
                        0.04731087132332151,
                        0.03757494691778278,
                        0.04717166661331416,
                        0.05674995654474103,
                        0.05186751667611038,
                        0.04917273056991807,
                        0.04209435703028752,
                        0.04671619518827093,
                        0.04371422171064751,
                        0.03525083058327022,
                        0.041004148140195595,
                        0.04075404086094382,
                        0.034312029798686285,
                        0.03562415611070534,
                        0.031728597911695626,
                        0.02997253741824144,
                        0.03136652387341994,
                        0.029153543250598372,
                        0.023077281040416432,
                        0.03282897884681125,
                        0.03956861995378942,
                        0.03781687964239495,
                        0.027949629016683027,
                        0.02441211009766614,
                        0.02419468229659278,
                        0.02638317156736315,
                        0.02170652834070725,
                        0.026311973487905895,
                        0.016829794470495853,
                        0.031098616570852725,
                        0.02849950120966212,
                        0.031917991431780646,
                        0.03136892034983912,
                        0.032007219095981865,
                        0.01929229865052367,
                        0.026263549773498318,
                        0.02810409554692732,
                        0.03428765375874638,
                        0.02672345052046455,
                        0.02938259282688409,
                        0.022431756323284563,
                        0.024684966605215557,
                        0.03286163320539708,
                        0.021147607096874396,
                        0.036408114770548325,
                        0.029749072613320365,
                        0.025890378652192236,
                        0.027122481116215725,
                        0.02364483836144495,
                        0.02747310432305683,
                        0.030497506802631462,
                        0.033253364546399926,
                        0.020727992407143438,
                        0.0244967112478623,
                        0.017316222816629933,
                        0.016975190371673755,
                        0.020656739455057915,
                        0.013833530194584241,
                        0.01002805291545542,
                        0.01828842776991868,
                        0.013293345591276678,
                        0.01812288349482828,
                        0.019088989813112897,
                        0.015849270602074313,
                        0.018082692476699608,
                        0.014406673770812452,
                        0.017242151264979057,
                        0.019711991693620114,
                        0.01244233075809471,
                        0.014961231041412767,
                        0.012505841139983112,
                        0.012189002991272842,
                        0.015855904525826903,
                        0.015119651551356895,
                        0.015350539565518406,
                        0.008546184406981527,
                        0.014578813143242853,
                        0.01950719506629466,
                        0.016089310199288595,
                        0.02177255948036714,
                        0.014479440098115193,
                        0.011439820299051853,
                        0.008968856236035818,
                        0.0072405078502373755,
                        0.014345891553542786,
                        0.01857944419499219,
                        0.015697294465800298,
                        0.016048554721114053,
                        0.0119269920492764,
                        0.019973303031368947,
                        0.017556903589714217,
                        0.01729795902869603,
                        0.02192767507569406,
                        0.01052795130361476,
                        0.01331461463299817,
                        0.01849480314770986,
                        0.017106514315144754,
                        0.0168030494247531,
                        0.01588375365660673,
                        0.02114013301418691,
                        0.020433314577497416,
                        0.023171078611776277,
                        0.016806881075055694,
                        0.012824975025884974,
                        0.011411958437120985,
                        0.006680840881070854,
                        0.0131135840536354,
                        0.013380033443498347,
                        0.015740254750379573,
                        0.01626950356470715,
                        0.010446950724553055,
                        0.013371109666175305,
                        0.01644302986402221,
                        0.01724407131526231,
                        0.01969042289227687,
                        0.016141766169951055,
                        0.012359054041058897,
                        0.014531775750448703,
                        0.015767238273316,
                        0.009899003942925033,
                        0.016581643099928857,
                        0.018023861365649946,
                        0.003366141844351106,
                        0.012793201385896688,
                        0.015617186300467326,
                        0.022603919142113675,
                        0.018426169979861188,
                        0.01988020390519258,
                        0.015729317366336818,
                        0.018144904389821918,
                        0.011404219668400635,
                        0.01674728616699753,
                        0.017868838753491198,
                        0.008184139807882991,
                        0.013623223888189803,
                        0.005624762467367322,
                        0.016575363098112455,
                        0.01659258749291935,
                        0.01747265592362853,
                        0.009741510465664432,
                        0.020164759087181666,
                        0.014815250791774285,
                        0.01419399942490419,
                        0.012309449127039282,
                        0.014856561925995253,
                        0.013642315784373133,
                        0.018114040013524388,
                        0.010468711366733843,
                        0.020973760119767405,
                        0.015068992754581699,
                        0.01691408529904009,
                        0.01340513767987745,
                        0.018791862116300257,
                        0.011675534711410623,
                        0.022350960244714446,
                        0.020901421326426577,
                        0.02337209018764165,
                        0.01871955799148607,
                        0.01572450538322132,
                        0.015189575025486537,
                        0.014047130855018915,
                        0.02226536628845271,
                        0.019468584491758242,
                        0.019720761233956965,
                        0.02441392554434038,
                        0.011964017647678281,
                        0.016753608806452918,
                        0.018283823019459314,
                        0.015552973213092318,
                        0.021214272705033097,
                        0.021282124135418603,
                        0.008364539438762145,
                        0.019541156310976728,
                        0.02204875782738062,
                        0.01416537597846306,
                        0.017891090688265734,
                        0.018089789513065918,
                        0.015658688998547686,
                        0.015431740890331168,
                        0.015768879147681505,
                        0.01589466526181614,
                        0.016038703519897776,
                        0.015254539684369075,
                        0.015414124825591612,
                        0.015073945936034465,
                        0.016587740540137588,
                        0.01933418124073719,
                        0.0028197006325901795,
                        0.014098365424224123,
                        0.017044603354499352,
                        0.016801049100376768,
                        0.01671961165781873,
                        0.01643737973149005,
                        0.012963562748092903,
                        0.014839416946647945,
                        0.011559561638506518,
                        0.016979637128779625,
                        0.014820206849662164,
                        0.013592611874354588,
                        0.010505266287580955,
                        0.017176441566923616,
                        0.01449709125785408,
                        0.04379814358382359,
                        0.0050643156848879205,
                        0.017461402726672588,
                        0.018116417407981877,
                        0.012389724850278465,
                        0.018074915493150365,
                        0.017916925816063942,
                        0.01974120199147358,
                        0.01632458483428784
                      ]
                    },
                    {
                      "label": "max_depth",
                      "range": [
                        3,
                        10
                      ],
                      "values": [
                        8,
                        8,
                        5,
                        5,
                        7,
                        3,
                        5,
                        9,
                        3,
                        7,
                        10,
                        7,
                        6,
                        7,
                        6,
                        6,
                        4,
                        4,
                        4,
                        4,
                        4,
                        3,
                        5,
                        4,
                        6,
                        4,
                        5,
                        3,
                        6,
                        8,
                        8,
                        9,
                        9,
                        9,
                        9,
                        10,
                        9,
                        10,
                        8,
                        9,
                        8,
                        8,
                        8,
                        9,
                        8,
                        7,
                        10,
                        7,
                        9,
                        8,
                        8,
                        9,
                        7,
                        10,
                        6,
                        5,
                        6,
                        5,
                        5,
                        7,
                        5,
                        5,
                        5,
                        5,
                        6,
                        5,
                        5,
                        5,
                        4,
                        4,
                        4,
                        4,
                        4,
                        4,
                        3,
                        4,
                        3,
                        4,
                        4,
                        4,
                        3,
                        4,
                        4,
                        3,
                        4,
                        4,
                        4,
                        3,
                        4,
                        3,
                        4,
                        4,
                        4,
                        4,
                        4,
                        4,
                        5,
                        4,
                        5,
                        3,
                        5,
                        4,
                        4,
                        4,
                        4,
                        3,
                        4,
                        4,
                        5,
                        4,
                        4,
                        4,
                        4,
                        4,
                        4,
                        3,
                        4,
                        4,
                        4,
                        4,
                        4,
                        4,
                        4,
                        4,
                        4,
                        4,
                        3,
                        4,
                        4,
                        4,
                        3,
                        4,
                        4,
                        4,
                        4,
                        4,
                        4,
                        4,
                        4,
                        4,
                        4,
                        4,
                        4,
                        4,
                        4,
                        4,
                        4,
                        5,
                        4,
                        4,
                        3,
                        4,
                        4,
                        4,
                        4,
                        4,
                        4,
                        4,
                        4,
                        4,
                        4,
                        4,
                        4,
                        4,
                        4,
                        4,
                        5,
                        4,
                        4,
                        4,
                        3,
                        4,
                        4,
                        4,
                        4,
                        4,
                        4,
                        4,
                        4,
                        4,
                        4,
                        4,
                        4,
                        4,
                        4,
                        4,
                        4,
                        4,
                        4,
                        4,
                        4,
                        4,
                        4,
                        4,
                        4,
                        4,
                        4,
                        4,
                        4,
                        4,
                        4,
                        4,
                        4,
                        4,
                        4,
                        4,
                        4,
                        4,
                        5,
                        4,
                        4,
                        4,
                        4,
                        4,
                        4,
                        4,
                        4,
                        4,
                        4,
                        4,
                        4,
                        4,
                        4,
                        4,
                        4,
                        4,
                        4,
                        4,
                        4,
                        4,
                        4,
                        4,
                        4,
                        4,
                        4,
                        4,
                        4,
                        4,
                        4,
                        4,
                        4,
                        4,
                        4,
                        4,
                        4,
                        4,
                        4,
                        4,
                        4,
                        4,
                        4,
                        4,
                        4,
                        4,
                        4,
                        4,
                        4,
                        4,
                        4,
                        4,
                        4,
                        4,
                        4,
                        4,
                        4,
                        3
                      ]
                    },
                    {
                      "label": "max_leaves",
                      "range": [
                        1,
                        100
                      ],
                      "values": [
                        60,
                        2,
                        53,
                        46,
                        17,
                        69,
                        66,
                        94,
                        32,
                        14,
                        1,
                        86,
                        100,
                        82,
                        28,
                        25,
                        38,
                        41,
                        39,
                        44,
                        37,
                        26,
                        18,
                        53,
                        30,
                        40,
                        10,
                        58,
                        34,
                        33,
                        48,
                        32,
                        27,
                        22,
                        21,
                        43,
                        10,
                        7,
                        22,
                        60,
                        31,
                        32,
                        29,
                        16,
                        31,
                        21,
                        51,
                        35,
                        6,
                        13,
                        72,
                        41,
                        46,
                        24,
                        30,
                        36,
                        36,
                        30,
                        18,
                        26,
                        37,
                        34,
                        37,
                        44,
                        23,
                        56,
                        64,
                        54,
                        75,
                        91,
                        81,
                        87,
                        87,
                        94,
                        91,
                        79,
                        87,
                        100,
                        97,
                        100,
                        100,
                        96,
                        89,
                        97,
                        92,
                        98,
                        84,
                        85,
                        85,
                        93,
                        89,
                        89,
                        83,
                        76,
                        100,
                        89,
                        94,
                        91,
                        87,
                        95,
                        79,
                        76,
                        83,
                        80,
                        77,
                        89,
                        99,
                        67,
                        91,
                        83,
                        67,
                        85,
                        73,
                        74,
                        71,
                        71,
                        64,
                        64,
                        63,
                        60,
                        62,
                        67,
                        59,
                        64,
                        70,
                        70,
                        62,
                        68,
                        72,
                        70,
                        69,
                        70,
                        65,
                        73,
                        61,
                        58,
                        78,
                        66,
                        73,
                        69,
                        82,
                        67,
                        69,
                        72,
                        74,
                        70,
                        55,
                        55,
                        57,
                        63,
                        60,
                        52,
                        69,
                        52,
                        49,
                        50,
                        51,
                        53,
                        54,
                        53,
                        46,
                        53,
                        52,
                        48,
                        48,
                        48,
                        47,
                        54,
                        56,
                        54,
                        45,
                        52,
                        43,
                        42,
                        50,
                        55,
                        41,
                        48,
                        41,
                        40,
                        44,
                        53,
                        58,
                        50,
                        55,
                        56,
                        54,
                        54,
                        51,
                        57,
                        42,
                        53,
                        52,
                        52,
                        54,
                        48,
                        55,
                        57,
                        59,
                        56,
                        57,
                        52,
                        52,
                        55,
                        49,
                        50,
                        46,
                        61,
                        58,
                        53,
                        54,
                        53,
                        56,
                        50,
                        50,
                        48,
                        55,
                        58,
                        59,
                        62,
                        65,
                        57,
                        53,
                        51,
                        54,
                        59,
                        55,
                        46,
                        50,
                        56,
                        67,
                        66,
                        67,
                        68,
                        68,
                        67,
                        68,
                        66,
                        67,
                        68,
                        67,
                        68,
                        65,
                        70,
                        63,
                        64,
                        63,
                        64,
                        68,
                        63,
                        65,
                        62,
                        68,
                        70,
                        67,
                        64,
                        72,
                        69,
                        66,
                        61,
                        62,
                        61,
                        65,
                        64,
                        68,
                        66
                      ]
                    },
                    {
                      "label": "min_child_weight",
                      "range": [
                        1,
                        5
                      ],
                      "values": [
                        1,
                        5,
                        3,
                        4,
                        1,
                        3,
                        2,
                        5,
                        2,
                        5,
                        4,
                        1,
                        4,
                        2,
                        1,
                        5,
                        3,
                        2,
                        2,
                        2,
                        2,
                        1,
                        1,
                        2,
                        3,
                        3,
                        3,
                        3,
                        2,
                        4,
                        4,
                        4,
                        4,
                        4,
                        4,
                        3,
                        4,
                        5,
                        3,
                        3,
                        5,
                        5,
                        5,
                        5,
                        5,
                        4,
                        5,
                        5,
                        4,
                        4,
                        5,
                        4,
                        5,
                        5,
                        3,
                        4,
                        4,
                        4,
                        5,
                        4,
                        3,
                        3,
                        3,
                        3,
                        3,
                        3,
                        3,
                        3,
                        3,
                        3,
                        3,
                        3,
                        3,
                        3,
                        3,
                        3,
                        2,
                        3,
                        3,
                        3,
                        2,
                        3,
                        3,
                        3,
                        3,
                        3,
                        3,
                        3,
                        2,
                        3,
                        3,
                        3,
                        3,
                        3,
                        3,
                        3,
                        3,
                        3,
                        3,
                        3,
                        3,
                        3,
                        3,
                        3,
                        3,
                        3,
                        3,
                        3,
                        3,
                        2,
                        1,
                        3,
                        2,
                        2,
                        2,
                        2,
                        2,
                        2,
                        2,
                        2,
                        2,
                        2,
                        2,
                        2,
                        2,
                        2,
                        2,
                        2,
                        2,
                        2,
                        2,
                        2,
                        2,
                        2,
                        2,
                        2,
                        2,
                        2,
                        1,
                        2,
                        2,
                        2,
                        2,
                        2,
                        2,
                        2,
                        2,
                        2,
                        2,
                        1,
                        2,
                        2,
                        2,
                        2,
                        2,
                        2,
                        2,
                        2,
                        2,
                        2,
                        2,
                        2,
                        2,
                        2,
                        2,
                        2,
                        2,
                        2,
                        2,
                        2,
                        2,
                        2,
                        2,
                        2,
                        2,
                        2,
                        2,
                        2,
                        2,
                        2,
                        2,
                        2,
                        2,
                        2,
                        2,
                        2,
                        2,
                        2,
                        2,
                        2,
                        2,
                        2,
                        2,
                        2,
                        2,
                        2,
                        2,
                        2,
                        2,
                        2,
                        2,
                        2,
                        2,
                        2,
                        2,
                        2,
                        2,
                        2,
                        2,
                        2,
                        2,
                        2,
                        2,
                        2,
                        2,
                        2,
                        2,
                        2,
                        2,
                        2,
                        2,
                        2,
                        2,
                        2,
                        2,
                        2,
                        2,
                        2,
                        2,
                        2,
                        2,
                        2,
                        2,
                        2,
                        2,
                        2,
                        2,
                        2,
                        2,
                        2,
                        2,
                        2,
                        2,
                        2,
                        2,
                        2,
                        2,
                        2,
                        2,
                        2,
                        2,
                        2,
                        2,
                        2,
                        2,
                        2,
                        2,
                        2,
                        2,
                        2,
                        2,
                        2,
                        2,
                        2,
                        2,
                        2
                      ]
                    },
                    {
                      "label": "n_estimators",
                      "range": [
                        51,
                        998
                      ],
                      "values": [
                        954,
                        621,
                        224,
                        327,
                        94,
                        339,
                        914,
                        972,
                        236,
                        317,
                        580,
                        758,
                        729,
                        767,
                        459,
                        443,
                        487,
                        492,
                        439,
                        648,
                        405,
                        480,
                        541,
                        413,
                        195,
                        66,
                        152,
                        225,
                        164,
                        149,
                        121,
                        176,
                        271,
                        182,
                        191,
                        51,
                        368,
                        278,
                        862,
                        281,
                        103,
                        103,
                        100,
                        202,
                        111,
                        234,
                        160,
                        341,
                        84,
                        187,
                        118,
                        657,
                        307,
                        232,
                        54,
                        260,
                        140,
                        199,
                        259,
                        83,
                        183,
                        168,
                        176,
                        309,
                        247,
                        209,
                        138,
                        218,
                        367,
                        345,
                        372,
                        371,
                        370,
                        523,
                        393,
                        438,
                        354,
                        297,
                        297,
                        307,
                        395,
                        296,
                        326,
                        335,
                        283,
                        434,
                        468,
                        515,
                        590,
                        465,
                        409,
                        400,
                        421,
                        474,
                        375,
                        498,
                        324,
                        555,
                        349,
                        422,
                        388,
                        455,
                        470,
                        488,
                        358,
                        252,
                        413,
                        548,
                        174,
                        547,
                        641,
                        593,
                        562,
                        548,
                        610,
                        615,
                        568,
                        579,
                        563,
                        570,
                        674,
                        575,
                        613,
                        562,
                        677,
                        699,
                        706,
                        798,
                        819,
                        883,
                        998,
                        510,
                        900,
                        821,
                        902,
                        535,
                        745,
                        678,
                        820,
                        931,
                        872,
                        808,
                        789,
                        779,
                        854,
                        717,
                        694,
                        713,
                        637,
                        691,
                        777,
                        533,
                        738,
                        738,
                        660,
                        725,
                        591,
                        747,
                        755,
                        752,
                        741,
                        529,
                        770,
                        529,
                        532,
                        527,
                        514,
                        495,
                        497,
                        532,
                        731,
                        697,
                        539,
                        546,
                        631,
                        505,
                        596,
                        557,
                        759,
                        519,
                        486,
                        552,
                        591,
                        605,
                        578,
                        540,
                        581,
                        654,
                        579,
                        568,
                        621,
                        522,
                        525,
                        523,
                        506,
                        732,
                        488,
                        501,
                        448,
                        497,
                        479,
                        528,
                        513,
                        542,
                        696,
                        487,
                        462,
                        760,
                        557,
                        523,
                        722,
                        529,
                        496,
                        515,
                        510,
                        477,
                        954,
                        546,
                        550,
                        536,
                        565,
                        510,
                        596,
                        543,
                        751,
                        494,
                        525,
                        577,
                        562,
                        682,
                        510,
                        840,
                        502,
                        475,
                        463,
                        453,
                        440,
                        437,
                        464,
                        453,
                        462,
                        453,
                        477,
                        474,
                        422,
                        438,
                        425,
                        428,
                        417,
                        440,
                        402,
                        435,
                        460,
                        458,
                        431,
                        479,
                        449,
                        416,
                        457,
                        473,
                        455,
                        484,
                        480,
                        468,
                        430,
                        391
                      ]
                    },
                    {
                      "label": "reg_alpha",
                      "range": [
                        0.0002621123047129581,
                        0.9488855372533332
                      ],
                      "values": [
                        0.15599452033620265,
                        0.8324426408004217,
                        0.2912291401980419,
                        0.19967378215835974,
                        0.9488855372533332,
                        0.12203823484477883,
                        0.5200680211778108,
                        0.5978999788110851,
                        0.2713490317738959,
                        0.07455064367977082,
                        0.038725199961183066,
                        0.024704624406136688,
                        0.003731757323367127,
                        0.34945825802133457,
                        0.03590703647662872,
                        0.3721844060877173,
                        0.1472988683354317,
                        0.18011531229905822,
                        0.2252852367076637,
                        0.4356995093952558,
                        0.23816476028435363,
                        0.1663483016288284,
                        0.07952392945575804,
                        0.2158783712682037,
                        0.0005782310183054529,
                        0.1352962287764786,
                        0.30616350629590283,
                        0.09628142949137583,
                        0.21879530708398096,
                        0.16347941454555,
                        0.0002621123047129581,
                        0.161340900594688,
                        0.14776825347548866,
                        0.07898604100432995,
                        0.10295801024228468,
                        0.06734982335120594,
                        0.19014653850385216,
                        0.07526463461345687,
                        0.2814913300629853,
                        0.001722459475559767,
                        0.1104814042986772,
                        0.11829057016472486,
                        0.11211784225883531,
                        0.06587302118088116,
                        0.10597272665292366,
                        0.03317475131985177,
                        0.12930668429971945,
                        0.049641843958330184,
                        0.25705909828604356,
                        0.1865691113815548,
                        0.043787474372050064,
                        0.1828622837220849,
                        0.14730812525955894,
                        0.12166105737633433,
                        0.210747422223917,
                        0.08910372235172975,
                        0.026224232254737023,
                        0.0838110433264466,
                        0.052111217334169305,
                        0.2442260366796678,
                        0.1028613067091504,
                        0.10388961817892904,
                        0.08124153139503229,
                        0.15465595252625564,
                        0.018690110561610313,
                        0.09703929750611887,
                        0.16739139408067394,
                        0.09416845856422043,
                        0.132845794642063,
                        0.22824480123821894,
                        0.21994574329879407,
                        0.20911536489828692,
                        0.22458485642812082,
                        0.2963679224118163,
                        0.26598369626429785,
                        0.19214060512125927,
                        0.2431388698450362,
                        0.21297119704797027,
                        0.3242392931546537,
                        0.30895892477744263,
                        0.28008792439110974,
                        0.3481405114339787,
                        0.3048175953160992,
                        0.22620543278335636,
                        0.3267498185703037,
                        0.20192383251702686,
                        0.38725013400254327,
                        0.2509381581821369,
                        0.38663540396466406,
                        0.18056269908091155,
                        0.28496543624208565,
                        0.2588479610860514,
                        0.2201267850479783,
                        0.2754956922260201,
                        0.2022676516682215,
                        0.28922751936443347,
                        0.23644108979606232,
                        0.3876560445848999,
                        0.16477218134410487,
                        0.12569535369839246,
                        0.2672644317615892,
                        0.30689921877032467,
                        0.28094551814950536,
                        0.14255816759186302,
                        0.22999217274265038,
                        0.20270973956201888,
                        0.24524159470963425,
                        0.26272195331353243,
                        0.1766726278604921,
                        0.160571793323304,
                        0.14792126151434157,
                        0.20435345376858266,
                        0.1849620833629498,
                        0.178599128158822,
                        0.26191133148713036,
                        0.225743370454433,
                        0.25689745368293765,
                        0.25782886409287975,
                        0.2618783879663089,
                        0.261499076681101,
                        0.2399161960180559,
                        0.2516133299718306,
                        0.26863184475321256,
                        0.22001664178548486,
                        0.1888468480142963,
                        0.19211482168813945,
                        0.20081461840719703,
                        0.2285359449672424,
                        0.1640425565698468,
                        0.16911360908874312,
                        0.18324540343211143,
                        0.16557184373350356,
                        0.13937737757716465,
                        0.16268214704193376,
                        0.18908791165768427,
                        0.1558087676261229,
                        0.2048972172725391,
                        0.1265394654186141,
                        0.1832712518814871,
                        0.23393858902767486,
                        0.32699677537899113,
                        0.21982174011284744,
                        0.23608443190682335,
                        0.1935220500931211,
                        0.2893705567659348,
                        0.24133894652850138,
                        0.24632829732780134,
                        0.250387945100289,
                        0.2750330855757305,
                        0.2340330134141944,
                        0.3090668473658186,
                        0.25609175630460623,
                        0.2529590041651255,
                        0.25073504355189186,
                        0.26527972579429754,
                        0.2662085417019642,
                        0.2938075983905343,
                        0.2587045504512328,
                        0.283140891150713,
                        0.2931060795206685,
                        0.21126464478426737,
                        0.25293280080292035,
                        0.24624020707696076,
                        0.27917717907036943,
                        0.2727828660196684,
                        0.3226051345114117,
                        0.284030380091902,
                        0.3426253573513261,
                        0.305671263607037,
                        0.3491619406627105,
                        0.268723407204831,
                        0.2541728686232498,
                        0.28301500970220905,
                        0.28040598847843157,
                        0.31826098979045925,
                        0.30142020459219043,
                        0.33061711822020035,
                        0.33610105439816645,
                        0.36666550565229916,
                        0.296149828035062,
                        0.33559104219424146,
                        0.2735526489613896,
                        0.2487288753872335,
                        0.2256885197793778,
                        0.3139714367213625,
                        0.31867163739035803,
                        0.2836765663290472,
                        0.29757760789702814,
                        0.27856332504465237,
                        0.33536514349218816,
                        0.3583155265826438,
                        0.31226864803070103,
                        0.3062011822085835,
                        0.3123103737892083,
                        0.3144056429445476,
                        0.35252810476493535,
                        0.37572583065212767,
                        0.38086650003134387,
                        0.3390313164634934,
                        0.380720199937398,
                        0.37142476876280117,
                        0.3427983631424633,
                        0.4356698291707954,
                        0.30452415428640484,
                        0.42009738012885317,
                        0.3632829929203114,
                        0.25903038517439475,
                        0.3261375089242133,
                        0.5231700219154055,
                        0.24028868512427576,
                        0.24030112257264263,
                        0.26693371004969463,
                        0.29392035820796114,
                        0.21535568623866225,
                        0.2149028189099589,
                        0.24417580958063137,
                        0.22291738363729507,
                        0.4029118746209442,
                        0.40274991651149955,
                        0.4017956338499837,
                        0.3479900865888911,
                        0.25668587180659447,
                        0.3779101370075,
                        0.27266757622799404,
                        0.23278562860065372,
                        0.21205456975028927,
                        0.236492563551328,
                        0.46858955115139256,
                        0.20186440428601118,
                        0.2341217112436068,
                        0.36258521983929115,
                        0.35300203337000785,
                        0.3715102108737034,
                        0.39722483607085907,
                        0.37362900287208595,
                        0.3856501455844217,
                        0.3948955935504931,
                        0.40790730384628077,
                        0.3789424935620604,
                        0.38270188634317037,
                        0.38593362442454354,
                        0.36645899252405767,
                        0.398710243327366,
                        0.41904710581197235,
                        0.3687354464900817,
                        0.3702061983473319,
                        0.3767180922973973,
                        0.36994007696988074,
                        0.3707577589259361,
                        0.39361332753168815,
                        0.3630620458029881,
                        0.37523562070800265,
                        0.3882509235691058,
                        0.4169585716908891,
                        0.3872286937208652,
                        0.35396932554814575,
                        0.39563256228855925,
                        0.4363967078185577,
                        0.3513044363902836,
                        0.37254572450682416,
                        0.3802506323971442,
                        0.3644944984421247,
                        0.3361922382046429,
                        0.3333810184611789,
                        0.33506529202423263,
                        0.42161176649786464
                      ]
                    },
                    {
                      "label": "reg_lambda",
                      "range": [
                        0.018309478238936028,
                        0.9868869366005173
                      ],
                      "values": [
                        0.05808361216819946,
                        0.21233911067827616,
                        0.6118528947223795,
                        0.5142344384136116,
                        0.9656320330745594,
                        0.4951769101112702,
                        0.5467102793432796,
                        0.9218742350231168,
                        0.8287375091519293,
                        0.9868869366005173,
                        0.7303668952070097,
                        0.06057165898402246,
                        0.3289419920637827,
                        0.018309478238936028,
                        0.34794439286724366,
                        0.7516134248157892,
                        0.37397770574158445,
                        0.3320697072389871,
                        0.23716612920385294,
                        0.22285124609039264,
                        0.1763850398845081,
                        0.3487618305659117,
                        0.40952708650178515,
                        0.27796012484631183,
                        0.4415942980807246,
                        0.43654651151748036,
                        0.27393666308761133,
                        0.14584648007105955,
                        0.2803100890398561,
                        0.44024398016009747,
                        0.4383658283411944,
                        0.30091315236638355,
                        0.4493683107488108,
                        0.5829681286000821,
                        0.5608724959872151,
                        0.5799499998959138,
                        0.6211626358119962,
                        0.5302323880409356,
                        0.508637352789364,
                        0.4794994376493824,
                        0.36975095056819896,
                        0.3736232590475289,
                        0.39590105290050337,
                        0.3813486815345692,
                        0.5047944285404968,
                        0.6248878537407125,
                        0.484877856074116,
                        0.32473411505363853,
                        0.37876266552175064,
                        0.5846964178271301,
                        0.41824769993841454,
                        0.32175665759279937,
                        0.3542583071309169,
                        0.31762528953705227,
                        0.46781987624451316,
                        0.39080431511187824,
                        0.40736455635028557,
                        0.5316803573625614,
                        0.38737314380001203,
                        0.2587488682997662,
                        0.29509046496668495,
                        0.2916341005083778,
                        0.21277620898954736,
                        0.30266791476596966,
                        0.2869652646816628,
                        0.2574746443071485,
                        0.2392846000033323,
                        0.17398615772925607,
                        0.20126292639684126,
                        0.24362093480990887,
                        0.2497031142971261,
                        0.24582773013106846,
                        0.18640585150826694,
                        0.18149722292414697,
                        0.10865367067111922,
                        0.2417267083952209,
                        0.21139800195687652,
                        0.26719834564255146,
                        0.26909311610191833,
                        0.27164210380084053,
                        0.14624235016973114,
                        0.2784664479152442,
                        0.30743757587167186,
                        0.22819776140800166,
                        0.34602772107702506,
                        0.26676381374285124,
                        0.23025379058932954,
                        0.29261287197869,
                        0.229304273115789,
                        0.20559993417500055,
                        0.3330003292875011,
                        0.33978644256215845,
                        0.2990530114626599,
                        0.24590342593349349,
                        0.30989582226964013,
                        0.19408972355286133,
                        0.160806568945508,
                        0.2205655122742778,
                        0.27664688330713194,
                        0.3543238343260066,
                        0.19478132945786614,
                        0.2600556433795827,
                        0.23201872169768722,
                        0.24713132633476528,
                        0.32195278316429826,
                        0.28976671069037535,
                        0.2447150389618497,
                        0.3269094038133133,
                        0.3273618705550697,
                        0.27470148394429406,
                        0.36387753551877544,
                        0.28423041587105635,
                        0.3055781759560532,
                        0.3339181227037754,
                        0.21802757856940091,
                        0.17841255570712267,
                        0.21790499226337948,
                        0.21652589550165688,
                        0.20929315157994777,
                        0.12452388537855164,
                        0.12134843631106314,
                        0.2152826630624532,
                        0.16380292441894656,
                        0.19330401985954387,
                        0.18648139406936132,
                        0.1935961209267905,
                        0.1903079172685302,
                        0.14244274381013466,
                        0.1468842822208793,
                        0.09758187602838309,
                        0.08649388749535891,
                        0.13243306161347992,
                        0.16831876476762386,
                        0.15497052590814137,
                        0.10021013126286275,
                        0.1277908594476713,
                        0.07013872409311012,
                        0.1795754185119346,
                        0.14817158437632397,
                        0.11451131663199138,
                        0.1641536064454811,
                        0.04894390792586205,
                        0.13173496769637516,
                        0.1415932127192321,
                        0.20141265774903852,
                        0.09505252379498952,
                        0.10849047734394074,
                        0.08853158911234171,
                        0.04781484720983095,
                        0.10504798302608162,
                        0.1301657897860372,
                        0.1797097610698758,
                        0.18322811036904824,
                        0.17712728011227907,
                        0.17685882734539993,
                        0.17966384657456114,
                        0.1617946053356095,
                        0.2027501380747544,
                        0.2083963955175273,
                        0.12368831226162068,
                        0.20135571713010156,
                        0.21670233541109127,
                        0.20629291375816822,
                        0.22569493283359854,
                        0.22715689296179323,
                        0.23079750098943635,
                        0.22189795712668553,
                        0.25929921331277744,
                        0.2561772846705338,
                        0.20577844920688676,
                        0.23412384036119638,
                        0.26125448512812766,
                        0.19670263337845958,
                        0.1898023138967203,
                        0.21952931328772915,
                        0.18348723317109727,
                        0.169654790002505,
                        0.1690653705427222,
                        0.19146709098469625,
                        0.16363872652869219,
                        0.24329212805746636,
                        0.21590200217982009,
                        0.20444212480113969,
                        0.1611775815718579,
                        0.22451340521072663,
                        0.23640875556651753,
                        0.2576088476768115,
                        0.1944909531482857,
                        0.18050918496287602,
                        0.15056916996893988,
                        0.2511510825547114,
                        0.2675949733697076,
                        0.22824440589793424,
                        0.22820041698018276,
                        0.2506652948842876,
                        0.2765750951906342,
                        0.21133328812532226,
                        0.21729351044818918,
                        0.20884238759462917,
                        0.17408479244809216,
                        0.1472971435825984,
                        0.2272962976276989,
                        0.21558512926557846,
                        0.20008778156783782,
                        0.23589119216894458,
                        0.2163190705307729,
                        0.17846812544010848,
                        0.23752322662462577,
                        0.196474800117888,
                        0.1526907386019678,
                        0.14549978198711921,
                        0.1659248050433556,
                        0.11352359843653576,
                        0.1878139857517099,
                        0.1853992971093247,
                        0.15409685790843253,
                        0.20211409367925195,
                        0.17141892056537145,
                        0.13229290599579197,
                        0.1753032587356001,
                        0.2629455116018806,
                        0.20925880368914243,
                        0.18652141917044193,
                        0.15897183182513477,
                        0.21412338984488655,
                        0.4205962194847244,
                        0.22346724998243123,
                        0.167056297417227,
                        0.08373941563297753,
                        0.24349263120487674,
                        0.2790942889574816,
                        0.3013644474548691,
                        0.2606778187063826,
                        0.24985795464920846,
                        0.2728476742702659,
                        0.2893417910391964,
                        0.26666887140666945,
                        0.2820320662618791,
                        0.2774663924123676,
                        0.2841607486109426,
                        0.3073102267222359,
                        0.29055726687019445,
                        0.27119519923285446,
                        0.2628344580058256,
                        0.3174856764327999,
                        0.3099989870845734,
                        0.3070997769897462,
                        0.30564166803857473,
                        0.32004179440906316,
                        0.2892310296434499,
                        0.2741124150184797,
                        0.34421999302427314,
                        0.31998502128182105,
                        0.324371774923651,
                        0.31092186498273006,
                        0.2879554289595715,
                        0.3623869006687984,
                        0.2995247136024032,
                        0.3404852858991336,
                        0.2644140497187742,
                        0.2656779767080985,
                        0.25104267926084445,
                        0.27624132700111415,
                        0.2778917485096333,
                        0.3228719412692095,
                        0.26982205196013925
                      ]
                    }
                  ],
                  "labelangle": 30,
                  "labelside": "bottom",
                  "line": {
                    "color": [
                      144.7594091567635,
                      405.90703170848,
                      249.03161612906607,
                      186.353216957998,
                      152.46850995294685,
                      181.82026828942404,
                      304.57828907035963,
                      149.88386029065015,
                      1424.3105377053992,
                      144.08298816335514,
                      13298.497707599765,
                      144.13862406208082,
                      146.19069658838447,
                      151.1042604913334,
                      142.82277568405223,
                      146.2782513767501,
                      142.8536166543532,
                      140.26341414371646,
                      142.55866350446428,
                      143.53106677172408,
                      150.24876325007335,
                      173.25798164638874,
                      149.68729090035,
                      146.27269901963868,
                      139.99311444840922,
                      637.7057979386738,
                      151.46433631083374,
                      167.42726017563714,
                      142.05048029059776,
                      141.19025857619675,
                      152.26987118020622,
                      139.30661295245432,
                      145.94349217047073,
                      138.16020815649102,
                      142.781869439292,
                      606.1170122951249,
                      159.55306251571932,
                      157.84277311001426,
                      148.3446676150654,
                      151.5951601536301,
                      139.1137701862215,
                      140.12611803634306,
                      140.9371384557344,
                      145.73977147389544,
                      142.1374932537936,
                      145.28349409608694,
                      142.88329505024942,
                      152.964319117832,
                      232.2843322958585,
                      145.38449217440058,
                      166.30899557501257,
                      151.53919578669937,
                      149.62022869639713,
                      147.03350539434524,
                      350.8681522730131,
                      139.85463055022845,
                      157.9831443085597,
                      140.32515126566693,
                      144.51060349728579,
                      236.08181772929242,
                      138.18411608976777,
                      138.47130406134724,
                      140.6562743976882,
                      143.2183501399019,
                      144.6426629438087,
                      138.6779220243335,
                      146.5328222590753,
                      139.66887523054996,
                      138.71251827370472,
                      137.66703836299044,
                      138.9036862778232,
                      138.30611451914612,
                      136.6617065675302,
                      139.34306719221578,
                      142.74791522572937,
                      139.4670000799065,
                      144.35409658471664,
                      136.8581981799652,
                      138.67691762554495,
                      138.2900290741847,
                      145.03747484909456,
                      141.01863754139418,
                      139.60695406160923,
                      165.43495805562543,
                      139.68826484296403,
                      142.3395023461079,
                      137.08966019423835,
                      143.4386945042652,
                      139.3118900577947,
                      140.84759893999413,
                      138.3912280650046,
                      139.7198388901115,
                      142.30889356320213,
                      138.55222644460514,
                      139.90447109741785,
                      139.0643483295607,
                      140.82214969504528,
                      142.4739724152205,
                      139.29388096155054,
                      145.97599169234155,
                      142.29234881947937,
                      139.53649959653757,
                      141.20048546487257,
                      139.2931400250461,
                      140.17607860705903,
                      145.33381604732563,
                      141.06843273180752,
                      136.59670555887408,
                      244.5951621185446,
                      137.706563764095,
                      146.1012368154238,
                      140.50756868686074,
                      136.94119371174966,
                      153.730810317635,
                      138.044830997705,
                      142.59282190539068,
                      138.16964531328597,
                      136.91797333480048,
                      135.9019208021567,
                      136.99446778326208,
                      138.59275771818412,
                      139.01960460680752,
                      138.31539382781062,
                      138.03717323472083,
                      137.5540800139378,
                      136.7015817234134,
                      141.79603074174213,
                      137.7532974539948,
                      137.74280202700578,
                      136.09933772557218,
                      142.10351791740024,
                      138.41944390955106,
                      139.4822858046718,
                      138.92035022635815,
                      141.78341893810781,
                      138.82836815816776,
                      139.18746643271083,
                      142.9912964112802,
                      142.41226853307344,
                      138.92747484254485,
                      139.71443177292923,
                      139.1627985687563,
                      136.98067424730675,
                      138.58396800071262,
                      138.68670781197602,
                      137.65611229224305,
                      134.76459210995137,
                      144.2757534792086,
                      140.56513757021295,
                      144.10199658235874,
                      137.86293575253606,
                      135.44584204445422,
                      135.91559038475646,
                      136.53736677879778,
                      137.25238262255826,
                      138.60972786589326,
                      138.57166043133802,
                      136.75376706855718,
                      135.72567108379442,
                      138.13433056018403,
                      178.62812421403422,
                      136.66956950033534,
                      138.07861966722209,
                      135.71468655684106,
                      135.95445901319374,
                      153.59704974639504,
                      141.3367791383719,
                      136.64878823723592,
                      138.01108408262073,
                      138.94920073828388,
                      137.92329563317404,
                      137.07613306793888,
                      136.92130304614142,
                      136.80993414916583,
                      140.54460781616785,
                      137.87308338966088,
                      135.54753570249622,
                      2084.0207658712693,
                      137.5218446093226,
                      137.9089255585597,
                      137.332179273558,
                      137.90267025329058,
                      138.6854225941587,
                      137.10089082673122,
                      136.74625929404553,
                      141.3824466984197,
                      136.7634421437479,
                      137.87198663989142,
                      194.3941654484197,
                      138.10864732666835,
                      468.4349996463154,
                      136.4026550252033,
                      136.76237781506748,
                      137.7841061669496,
                      179.5927734375,
                      138.47441550343729,
                      135.92902172147467,
                      136.5112517553236,
                      153.35572975614102,
                      138.22901716942278,
                      139.56973743502684,
                      139.1478300139378,
                      157.51225320674044,
                      137.75430742004107,
                      137.33044998506665,
                      137.12248949425722,
                      141.19834370808184,
                      136.99436937379485,
                      143.0254803560949,
                      136.3600992347313,
                      139.53100078334592,
                      138.29826042845616,
                      137.1235613551098,
                      136.54368643501635,
                      137.01453185257378,
                      137.81044240704645,
                      137.33772753709758,
                      136.61154492056505,
                      136.9978687227532,
                      138.3336832518549,
                      136.78292476211436,
                      137.327600367832,
                      138.04966501482855,
                      137.8015398707348,
                      136.56707595835428,
                      137.27728824116573,
                      235.3993544600939,
                      137.7949141790849,
                      138.85629712519912,
                      138.08188044281312,
                      136.34948345672996,
                      137.73354924468688,
                      136.16419938904258,
                      135.9229802643989,
                      136.3055397816587,
                      135.33847338588825,
                      135.51074120504276,
                      137.61040003039068,
                      135.91765829351107,
                      136.649978975415,
                      136.80262663218898,
                      137.7445077365233,
                      3510.1096546728286,
                      137.35849439082412,
                      136.26820919003606,
                      135.3510332830315,
                      135.54572748993965,
                      136.8124184560488,
                      156.35751062363767,
                      138.37903036709844,
                      203.56786585397805,
                      136.65015630894743,
                      136.4828466240149,
                      140.53576766589117,
                      217.18001367580482,
                      136.65802710141054,
                      138.4745058895037,
                      138.55139675946302,
                      1363.3408861371354,
                      136.42564534341466,
                      136.68292682527456,
                      143.40460798646043,
                      136.39160991338656,
                      138.02450346610917,
                      137.13791145309355,
                      150.63161259222
                    ],
                    "colorbar": {
                      "title": {
                        "text": "Objective Value"
                      }
                    },
                    "colorscale": [
                      [
                        0,
                        "rgb(247,251,255)"
                      ],
                      [
                        0.125,
                        "rgb(222,235,247)"
                      ],
                      [
                        0.25,
                        "rgb(198,219,239)"
                      ],
                      [
                        0.375,
                        "rgb(158,202,225)"
                      ],
                      [
                        0.5,
                        "rgb(107,174,214)"
                      ],
                      [
                        0.625,
                        "rgb(66,146,198)"
                      ],
                      [
                        0.75,
                        "rgb(33,113,181)"
                      ],
                      [
                        0.875,
                        "rgb(8,81,156)"
                      ],
                      [
                        1,
                        "rgb(8,48,107)"
                      ]
                    ],
                    "reversescale": true,
                    "showscale": true
                  },
                  "type": "parcoords"
                }
              ],
              "layout": {
                "template": {
                  "data": {
                    "bar": [
                      {
                        "error_x": {
                          "color": "#2a3f5f"
                        },
                        "error_y": {
                          "color": "#2a3f5f"
                        },
                        "marker": {
                          "line": {
                            "color": "#E5ECF6",
                            "width": 0.5
                          },
                          "pattern": {
                            "fillmode": "overlay",
                            "size": 10,
                            "solidity": 0.2
                          }
                        },
                        "type": "bar"
                      }
                    ],
                    "barpolar": [
                      {
                        "marker": {
                          "line": {
                            "color": "#E5ECF6",
                            "width": 0.5
                          },
                          "pattern": {
                            "fillmode": "overlay",
                            "size": 10,
                            "solidity": 0.2
                          }
                        },
                        "type": "barpolar"
                      }
                    ],
                    "carpet": [
                      {
                        "aaxis": {
                          "endlinecolor": "#2a3f5f",
                          "gridcolor": "white",
                          "linecolor": "white",
                          "minorgridcolor": "white",
                          "startlinecolor": "#2a3f5f"
                        },
                        "baxis": {
                          "endlinecolor": "#2a3f5f",
                          "gridcolor": "white",
                          "linecolor": "white",
                          "minorgridcolor": "white",
                          "startlinecolor": "#2a3f5f"
                        },
                        "type": "carpet"
                      }
                    ],
                    "choropleth": [
                      {
                        "colorbar": {
                          "outlinewidth": 0,
                          "ticks": ""
                        },
                        "type": "choropleth"
                      }
                    ],
                    "contour": [
                      {
                        "colorbar": {
                          "outlinewidth": 0,
                          "ticks": ""
                        },
                        "colorscale": [
                          [
                            0,
                            "#0d0887"
                          ],
                          [
                            0.1111111111111111,
                            "#46039f"
                          ],
                          [
                            0.2222222222222222,
                            "#7201a8"
                          ],
                          [
                            0.3333333333333333,
                            "#9c179e"
                          ],
                          [
                            0.4444444444444444,
                            "#bd3786"
                          ],
                          [
                            0.5555555555555556,
                            "#d8576b"
                          ],
                          [
                            0.6666666666666666,
                            "#ed7953"
                          ],
                          [
                            0.7777777777777778,
                            "#fb9f3a"
                          ],
                          [
                            0.8888888888888888,
                            "#fdca26"
                          ],
                          [
                            1,
                            "#f0f921"
                          ]
                        ],
                        "type": "contour"
                      }
                    ],
                    "contourcarpet": [
                      {
                        "colorbar": {
                          "outlinewidth": 0,
                          "ticks": ""
                        },
                        "type": "contourcarpet"
                      }
                    ],
                    "heatmap": [
                      {
                        "colorbar": {
                          "outlinewidth": 0,
                          "ticks": ""
                        },
                        "colorscale": [
                          [
                            0,
                            "#0d0887"
                          ],
                          [
                            0.1111111111111111,
                            "#46039f"
                          ],
                          [
                            0.2222222222222222,
                            "#7201a8"
                          ],
                          [
                            0.3333333333333333,
                            "#9c179e"
                          ],
                          [
                            0.4444444444444444,
                            "#bd3786"
                          ],
                          [
                            0.5555555555555556,
                            "#d8576b"
                          ],
                          [
                            0.6666666666666666,
                            "#ed7953"
                          ],
                          [
                            0.7777777777777778,
                            "#fb9f3a"
                          ],
                          [
                            0.8888888888888888,
                            "#fdca26"
                          ],
                          [
                            1,
                            "#f0f921"
                          ]
                        ],
                        "type": "heatmap"
                      }
                    ],
                    "heatmapgl": [
                      {
                        "colorbar": {
                          "outlinewidth": 0,
                          "ticks": ""
                        },
                        "colorscale": [
                          [
                            0,
                            "#0d0887"
                          ],
                          [
                            0.1111111111111111,
                            "#46039f"
                          ],
                          [
                            0.2222222222222222,
                            "#7201a8"
                          ],
                          [
                            0.3333333333333333,
                            "#9c179e"
                          ],
                          [
                            0.4444444444444444,
                            "#bd3786"
                          ],
                          [
                            0.5555555555555556,
                            "#d8576b"
                          ],
                          [
                            0.6666666666666666,
                            "#ed7953"
                          ],
                          [
                            0.7777777777777778,
                            "#fb9f3a"
                          ],
                          [
                            0.8888888888888888,
                            "#fdca26"
                          ],
                          [
                            1,
                            "#f0f921"
                          ]
                        ],
                        "type": "heatmapgl"
                      }
                    ],
                    "histogram": [
                      {
                        "marker": {
                          "pattern": {
                            "fillmode": "overlay",
                            "size": 10,
                            "solidity": 0.2
                          }
                        },
                        "type": "histogram"
                      }
                    ],
                    "histogram2d": [
                      {
                        "colorbar": {
                          "outlinewidth": 0,
                          "ticks": ""
                        },
                        "colorscale": [
                          [
                            0,
                            "#0d0887"
                          ],
                          [
                            0.1111111111111111,
                            "#46039f"
                          ],
                          [
                            0.2222222222222222,
                            "#7201a8"
                          ],
                          [
                            0.3333333333333333,
                            "#9c179e"
                          ],
                          [
                            0.4444444444444444,
                            "#bd3786"
                          ],
                          [
                            0.5555555555555556,
                            "#d8576b"
                          ],
                          [
                            0.6666666666666666,
                            "#ed7953"
                          ],
                          [
                            0.7777777777777778,
                            "#fb9f3a"
                          ],
                          [
                            0.8888888888888888,
                            "#fdca26"
                          ],
                          [
                            1,
                            "#f0f921"
                          ]
                        ],
                        "type": "histogram2d"
                      }
                    ],
                    "histogram2dcontour": [
                      {
                        "colorbar": {
                          "outlinewidth": 0,
                          "ticks": ""
                        },
                        "colorscale": [
                          [
                            0,
                            "#0d0887"
                          ],
                          [
                            0.1111111111111111,
                            "#46039f"
                          ],
                          [
                            0.2222222222222222,
                            "#7201a8"
                          ],
                          [
                            0.3333333333333333,
                            "#9c179e"
                          ],
                          [
                            0.4444444444444444,
                            "#bd3786"
                          ],
                          [
                            0.5555555555555556,
                            "#d8576b"
                          ],
                          [
                            0.6666666666666666,
                            "#ed7953"
                          ],
                          [
                            0.7777777777777778,
                            "#fb9f3a"
                          ],
                          [
                            0.8888888888888888,
                            "#fdca26"
                          ],
                          [
                            1,
                            "#f0f921"
                          ]
                        ],
                        "type": "histogram2dcontour"
                      }
                    ],
                    "mesh3d": [
                      {
                        "colorbar": {
                          "outlinewidth": 0,
                          "ticks": ""
                        },
                        "type": "mesh3d"
                      }
                    ],
                    "parcoords": [
                      {
                        "line": {
                          "colorbar": {
                            "outlinewidth": 0,
                            "ticks": ""
                          }
                        },
                        "type": "parcoords"
                      }
                    ],
                    "pie": [
                      {
                        "automargin": true,
                        "type": "pie"
                      }
                    ],
                    "scatter": [
                      {
                        "fillpattern": {
                          "fillmode": "overlay",
                          "size": 10,
                          "solidity": 0.2
                        },
                        "type": "scatter"
                      }
                    ],
                    "scatter3d": [
                      {
                        "line": {
                          "colorbar": {
                            "outlinewidth": 0,
                            "ticks": ""
                          }
                        },
                        "marker": {
                          "colorbar": {
                            "outlinewidth": 0,
                            "ticks": ""
                          }
                        },
                        "type": "scatter3d"
                      }
                    ],
                    "scattercarpet": [
                      {
                        "marker": {
                          "colorbar": {
                            "outlinewidth": 0,
                            "ticks": ""
                          }
                        },
                        "type": "scattercarpet"
                      }
                    ],
                    "scattergeo": [
                      {
                        "marker": {
                          "colorbar": {
                            "outlinewidth": 0,
                            "ticks": ""
                          }
                        },
                        "type": "scattergeo"
                      }
                    ],
                    "scattergl": [
                      {
                        "marker": {
                          "colorbar": {
                            "outlinewidth": 0,
                            "ticks": ""
                          }
                        },
                        "type": "scattergl"
                      }
                    ],
                    "scattermapbox": [
                      {
                        "marker": {
                          "colorbar": {
                            "outlinewidth": 0,
                            "ticks": ""
                          }
                        },
                        "type": "scattermapbox"
                      }
                    ],
                    "scatterpolar": [
                      {
                        "marker": {
                          "colorbar": {
                            "outlinewidth": 0,
                            "ticks": ""
                          }
                        },
                        "type": "scatterpolar"
                      }
                    ],
                    "scatterpolargl": [
                      {
                        "marker": {
                          "colorbar": {
                            "outlinewidth": 0,
                            "ticks": ""
                          }
                        },
                        "type": "scatterpolargl"
                      }
                    ],
                    "scatterternary": [
                      {
                        "marker": {
                          "colorbar": {
                            "outlinewidth": 0,
                            "ticks": ""
                          }
                        },
                        "type": "scatterternary"
                      }
                    ],
                    "surface": [
                      {
                        "colorbar": {
                          "outlinewidth": 0,
                          "ticks": ""
                        },
                        "colorscale": [
                          [
                            0,
                            "#0d0887"
                          ],
                          [
                            0.1111111111111111,
                            "#46039f"
                          ],
                          [
                            0.2222222222222222,
                            "#7201a8"
                          ],
                          [
                            0.3333333333333333,
                            "#9c179e"
                          ],
                          [
                            0.4444444444444444,
                            "#bd3786"
                          ],
                          [
                            0.5555555555555556,
                            "#d8576b"
                          ],
                          [
                            0.6666666666666666,
                            "#ed7953"
                          ],
                          [
                            0.7777777777777778,
                            "#fb9f3a"
                          ],
                          [
                            0.8888888888888888,
                            "#fdca26"
                          ],
                          [
                            1,
                            "#f0f921"
                          ]
                        ],
                        "type": "surface"
                      }
                    ],
                    "table": [
                      {
                        "cells": {
                          "fill": {
                            "color": "#EBF0F8"
                          },
                          "line": {
                            "color": "white"
                          }
                        },
                        "header": {
                          "fill": {
                            "color": "#C8D4E3"
                          },
                          "line": {
                            "color": "white"
                          }
                        },
                        "type": "table"
                      }
                    ]
                  },
                  "layout": {
                    "annotationdefaults": {
                      "arrowcolor": "#2a3f5f",
                      "arrowhead": 0,
                      "arrowwidth": 1
                    },
                    "autotypenumbers": "strict",
                    "coloraxis": {
                      "colorbar": {
                        "outlinewidth": 0,
                        "ticks": ""
                      }
                    },
                    "colorscale": {
                      "diverging": [
                        [
                          0,
                          "#8e0152"
                        ],
                        [
                          0.1,
                          "#c51b7d"
                        ],
                        [
                          0.2,
                          "#de77ae"
                        ],
                        [
                          0.3,
                          "#f1b6da"
                        ],
                        [
                          0.4,
                          "#fde0ef"
                        ],
                        [
                          0.5,
                          "#f7f7f7"
                        ],
                        [
                          0.6,
                          "#e6f5d0"
                        ],
                        [
                          0.7,
                          "#b8e186"
                        ],
                        [
                          0.8,
                          "#7fbc41"
                        ],
                        [
                          0.9,
                          "#4d9221"
                        ],
                        [
                          1,
                          "#276419"
                        ]
                      ],
                      "sequential": [
                        [
                          0,
                          "#0d0887"
                        ],
                        [
                          0.1111111111111111,
                          "#46039f"
                        ],
                        [
                          0.2222222222222222,
                          "#7201a8"
                        ],
                        [
                          0.3333333333333333,
                          "#9c179e"
                        ],
                        [
                          0.4444444444444444,
                          "#bd3786"
                        ],
                        [
                          0.5555555555555556,
                          "#d8576b"
                        ],
                        [
                          0.6666666666666666,
                          "#ed7953"
                        ],
                        [
                          0.7777777777777778,
                          "#fb9f3a"
                        ],
                        [
                          0.8888888888888888,
                          "#fdca26"
                        ],
                        [
                          1,
                          "#f0f921"
                        ]
                      ],
                      "sequentialminus": [
                        [
                          0,
                          "#0d0887"
                        ],
                        [
                          0.1111111111111111,
                          "#46039f"
                        ],
                        [
                          0.2222222222222222,
                          "#7201a8"
                        ],
                        [
                          0.3333333333333333,
                          "#9c179e"
                        ],
                        [
                          0.4444444444444444,
                          "#bd3786"
                        ],
                        [
                          0.5555555555555556,
                          "#d8576b"
                        ],
                        [
                          0.6666666666666666,
                          "#ed7953"
                        ],
                        [
                          0.7777777777777778,
                          "#fb9f3a"
                        ],
                        [
                          0.8888888888888888,
                          "#fdca26"
                        ],
                        [
                          1,
                          "#f0f921"
                        ]
                      ]
                    },
                    "colorway": [
                      "#636efa",
                      "#EF553B",
                      "#00cc96",
                      "#ab63fa",
                      "#FFA15A",
                      "#19d3f3",
                      "#FF6692",
                      "#B6E880",
                      "#FF97FF",
                      "#FECB52"
                    ],
                    "font": {
                      "color": "#2a3f5f"
                    },
                    "geo": {
                      "bgcolor": "white",
                      "lakecolor": "white",
                      "landcolor": "#E5ECF6",
                      "showlakes": true,
                      "showland": true,
                      "subunitcolor": "white"
                    },
                    "hoverlabel": {
                      "align": "left"
                    },
                    "hovermode": "closest",
                    "mapbox": {
                      "style": "light"
                    },
                    "paper_bgcolor": "white",
                    "plot_bgcolor": "#E5ECF6",
                    "polar": {
                      "angularaxis": {
                        "gridcolor": "white",
                        "linecolor": "white",
                        "ticks": ""
                      },
                      "bgcolor": "#E5ECF6",
                      "radialaxis": {
                        "gridcolor": "white",
                        "linecolor": "white",
                        "ticks": ""
                      }
                    },
                    "scene": {
                      "xaxis": {
                        "backgroundcolor": "#E5ECF6",
                        "gridcolor": "white",
                        "gridwidth": 2,
                        "linecolor": "white",
                        "showbackground": true,
                        "ticks": "",
                        "zerolinecolor": "white"
                      },
                      "yaxis": {
                        "backgroundcolor": "#E5ECF6",
                        "gridcolor": "white",
                        "gridwidth": 2,
                        "linecolor": "white",
                        "showbackground": true,
                        "ticks": "",
                        "zerolinecolor": "white"
                      },
                      "zaxis": {
                        "backgroundcolor": "#E5ECF6",
                        "gridcolor": "white",
                        "gridwidth": 2,
                        "linecolor": "white",
                        "showbackground": true,
                        "ticks": "",
                        "zerolinecolor": "white"
                      }
                    },
                    "shapedefaults": {
                      "line": {
                        "color": "#2a3f5f"
                      }
                    },
                    "ternary": {
                      "aaxis": {
                        "gridcolor": "white",
                        "linecolor": "white",
                        "ticks": ""
                      },
                      "baxis": {
                        "gridcolor": "white",
                        "linecolor": "white",
                        "ticks": ""
                      },
                      "bgcolor": "#E5ECF6",
                      "caxis": {
                        "gridcolor": "white",
                        "linecolor": "white",
                        "ticks": ""
                      }
                    },
                    "title": {
                      "x": 0.05
                    },
                    "xaxis": {
                      "automargin": true,
                      "gridcolor": "white",
                      "linecolor": "white",
                      "ticks": "",
                      "title": {
                        "standoff": 15
                      },
                      "zerolinecolor": "white",
                      "zerolinewidth": 2
                    },
                    "yaxis": {
                      "automargin": true,
                      "gridcolor": "white",
                      "linecolor": "white",
                      "ticks": "",
                      "title": {
                        "standoff": 15
                      },
                      "zerolinecolor": "white",
                      "zerolinewidth": 2
                    }
                  }
                },
                "title": {
                  "text": "Parallel Coordinate Plot"
                }
              }
            }
          },
          "metadata": {},
          "output_type": "display_data"
        }
      ],
      "source": [
        "# Gráfico de coordenadas paralelas\n",
        "plot_parallel_coordinate(study)"
      ]
    },
    {
      "cell_type": "markdown",
      "metadata": {},
      "source": [
        "El gráfico de coordenadas paralelas es una herramienta valiosa para entender cómo varias características influyen en el valor objetivo. A partir del análisis del gráfico, emergen varias tendencias y patrones en los datos.\n",
        "\n",
        "En cuanto al **Learning Rate**, se observa que los valores de objetivo más bajos están asociados con tasas de aprendizaje menores. Esto sugiere que una tasa de aprendizaje más baja puede conducir a un mejor rendimiento del modelo. Sin embargo, a medida que la tasa de aprendizaje aumenta, los valores de objetivo tienden a subir, indicando un posible sobreajuste o una convergencia deficiente del modelo.\n",
        "\n",
        "Respecto a la **Max Depth**, no se identifica una tendencia clara. Los valores de objetivo bajos se encuentran distribuidos en una variedad de profundidades, lo que sugiere que la profundidad máxima del árbol no es un factor determinante por sí sola. Esto implica que otros parámetros o una combinación de ellos podrían estar desempeñando un papel más significativo en la determinación del rendimiento del modelo.\n",
        "\n",
        "Para el **Max Leaves**, se observa una situación similar a la de la profundidad máxima. Los valores de objetivo bajos están presentes en diferentes números de hojas máximas, lo que indica que este parámetro tampoco tiene una influencia decisiva por sí solo en el valor objetivo.\n",
        "\n",
        "En relación al **Min Child Weight**, los valores de objetivo bajos se concentran alrededor de pesos de hijos mínimos más bajos. Esto sugiere que un menor peso de hijo mínimo podría contribuir a mejorar el rendimiento del modelo. A medida que este peso aumenta, los valores de objetivo también tienden a subir, lo que podría indicar un ajuste insuficiente del modelo.\n",
        "\n",
        "El **Number of Estimators** muestra que los valores de objetivo bajos se encuentran más frecuentemente en un rango menor de estimadores. Esto puede indicar que un número menor de estimadores es suficiente para lograr un buen rendimiento y que un número excesivo puede llevar a un sobreajuste, aumentando así los valores de objetivo.\n",
        "\n",
        "En cuanto a los parámetros de regularización, tanto el **Regularization Alpha (reg_alpha)** como el **Regularization Lambda (reg_lambda)**, se observa que los valores de objetivo más bajos están asociados con valores más bajos de estos parámetros. Esto sugiere que una menor regularización podría ser beneficiosa para el rendimiento del modelo, mientras que una mayor regularización tiende a aumentar los valores de objetivo.\n",
        "\n",
        "En conclusión, los valores de objetivo más bajos están generalmente asociados con tasas de aprendizaje más bajas, pesos de hijos mínimos más bajos y valores más bajos de los parámetros de regularización (reg_alpha y reg_lambda). Los otros parámetros (max_depth, max_leaves y n_estimators) no muestran una tendencia clara y consistente con respecto a los valores de objetivo, lo que sugiere que su impacto puede depender de la interacción con otros factores."
      ]
    },
    {
      "cell_type": "code",
      "execution_count": 50,
      "metadata": {},
      "outputs": [
        {
          "data": {
            "application/vnd.plotly.v1+json": {
              "config": {
                "plotlyServerURL": "https://plot.ly"
              },
              "data": [
                {
                  "cliponaxis": false,
                  "hovertemplate": [
                    "min_child_weight (IntDistribution): 0.0007166855499003573<extra></extra>",
                    "max_depth (IntDistribution): 0.0031796551725472807<extra></extra>",
                    "n_estimators (IntDistribution): 0.015445754749950956<extra></extra>",
                    "reg_alpha (FloatDistribution): 0.02520766472392419<extra></extra>",
                    "reg_lambda (FloatDistribution): 0.03739065700122553<extra></extra>",
                    "learning_rate (FloatDistribution): 0.3121400735515226<extra></extra>",
                    "max_leaves (IntDistribution): 0.6059195092509292<extra></extra>"
                  ],
                  "name": "Objective Value",
                  "orientation": "h",
                  "text": [
                    "<0.01",
                    "<0.01",
                    "0.02",
                    "0.03",
                    "0.04",
                    "0.31",
                    "0.61"
                  ],
                  "textposition": "outside",
                  "type": "bar",
                  "x": [
                    0.0007166855499003573,
                    0.0031796551725472807,
                    0.015445754749950956,
                    0.02520766472392419,
                    0.03739065700122553,
                    0.3121400735515226,
                    0.6059195092509292
                  ],
                  "y": [
                    "min_child_weight",
                    "max_depth",
                    "n_estimators",
                    "reg_alpha",
                    "reg_lambda",
                    "learning_rate",
                    "max_leaves"
                  ]
                }
              ],
              "layout": {
                "template": {
                  "data": {
                    "bar": [
                      {
                        "error_x": {
                          "color": "#2a3f5f"
                        },
                        "error_y": {
                          "color": "#2a3f5f"
                        },
                        "marker": {
                          "line": {
                            "color": "#E5ECF6",
                            "width": 0.5
                          },
                          "pattern": {
                            "fillmode": "overlay",
                            "size": 10,
                            "solidity": 0.2
                          }
                        },
                        "type": "bar"
                      }
                    ],
                    "barpolar": [
                      {
                        "marker": {
                          "line": {
                            "color": "#E5ECF6",
                            "width": 0.5
                          },
                          "pattern": {
                            "fillmode": "overlay",
                            "size": 10,
                            "solidity": 0.2
                          }
                        },
                        "type": "barpolar"
                      }
                    ],
                    "carpet": [
                      {
                        "aaxis": {
                          "endlinecolor": "#2a3f5f",
                          "gridcolor": "white",
                          "linecolor": "white",
                          "minorgridcolor": "white",
                          "startlinecolor": "#2a3f5f"
                        },
                        "baxis": {
                          "endlinecolor": "#2a3f5f",
                          "gridcolor": "white",
                          "linecolor": "white",
                          "minorgridcolor": "white",
                          "startlinecolor": "#2a3f5f"
                        },
                        "type": "carpet"
                      }
                    ],
                    "choropleth": [
                      {
                        "colorbar": {
                          "outlinewidth": 0,
                          "ticks": ""
                        },
                        "type": "choropleth"
                      }
                    ],
                    "contour": [
                      {
                        "colorbar": {
                          "outlinewidth": 0,
                          "ticks": ""
                        },
                        "colorscale": [
                          [
                            0,
                            "#0d0887"
                          ],
                          [
                            0.1111111111111111,
                            "#46039f"
                          ],
                          [
                            0.2222222222222222,
                            "#7201a8"
                          ],
                          [
                            0.3333333333333333,
                            "#9c179e"
                          ],
                          [
                            0.4444444444444444,
                            "#bd3786"
                          ],
                          [
                            0.5555555555555556,
                            "#d8576b"
                          ],
                          [
                            0.6666666666666666,
                            "#ed7953"
                          ],
                          [
                            0.7777777777777778,
                            "#fb9f3a"
                          ],
                          [
                            0.8888888888888888,
                            "#fdca26"
                          ],
                          [
                            1,
                            "#f0f921"
                          ]
                        ],
                        "type": "contour"
                      }
                    ],
                    "contourcarpet": [
                      {
                        "colorbar": {
                          "outlinewidth": 0,
                          "ticks": ""
                        },
                        "type": "contourcarpet"
                      }
                    ],
                    "heatmap": [
                      {
                        "colorbar": {
                          "outlinewidth": 0,
                          "ticks": ""
                        },
                        "colorscale": [
                          [
                            0,
                            "#0d0887"
                          ],
                          [
                            0.1111111111111111,
                            "#46039f"
                          ],
                          [
                            0.2222222222222222,
                            "#7201a8"
                          ],
                          [
                            0.3333333333333333,
                            "#9c179e"
                          ],
                          [
                            0.4444444444444444,
                            "#bd3786"
                          ],
                          [
                            0.5555555555555556,
                            "#d8576b"
                          ],
                          [
                            0.6666666666666666,
                            "#ed7953"
                          ],
                          [
                            0.7777777777777778,
                            "#fb9f3a"
                          ],
                          [
                            0.8888888888888888,
                            "#fdca26"
                          ],
                          [
                            1,
                            "#f0f921"
                          ]
                        ],
                        "type": "heatmap"
                      }
                    ],
                    "heatmapgl": [
                      {
                        "colorbar": {
                          "outlinewidth": 0,
                          "ticks": ""
                        },
                        "colorscale": [
                          [
                            0,
                            "#0d0887"
                          ],
                          [
                            0.1111111111111111,
                            "#46039f"
                          ],
                          [
                            0.2222222222222222,
                            "#7201a8"
                          ],
                          [
                            0.3333333333333333,
                            "#9c179e"
                          ],
                          [
                            0.4444444444444444,
                            "#bd3786"
                          ],
                          [
                            0.5555555555555556,
                            "#d8576b"
                          ],
                          [
                            0.6666666666666666,
                            "#ed7953"
                          ],
                          [
                            0.7777777777777778,
                            "#fb9f3a"
                          ],
                          [
                            0.8888888888888888,
                            "#fdca26"
                          ],
                          [
                            1,
                            "#f0f921"
                          ]
                        ],
                        "type": "heatmapgl"
                      }
                    ],
                    "histogram": [
                      {
                        "marker": {
                          "pattern": {
                            "fillmode": "overlay",
                            "size": 10,
                            "solidity": 0.2
                          }
                        },
                        "type": "histogram"
                      }
                    ],
                    "histogram2d": [
                      {
                        "colorbar": {
                          "outlinewidth": 0,
                          "ticks": ""
                        },
                        "colorscale": [
                          [
                            0,
                            "#0d0887"
                          ],
                          [
                            0.1111111111111111,
                            "#46039f"
                          ],
                          [
                            0.2222222222222222,
                            "#7201a8"
                          ],
                          [
                            0.3333333333333333,
                            "#9c179e"
                          ],
                          [
                            0.4444444444444444,
                            "#bd3786"
                          ],
                          [
                            0.5555555555555556,
                            "#d8576b"
                          ],
                          [
                            0.6666666666666666,
                            "#ed7953"
                          ],
                          [
                            0.7777777777777778,
                            "#fb9f3a"
                          ],
                          [
                            0.8888888888888888,
                            "#fdca26"
                          ],
                          [
                            1,
                            "#f0f921"
                          ]
                        ],
                        "type": "histogram2d"
                      }
                    ],
                    "histogram2dcontour": [
                      {
                        "colorbar": {
                          "outlinewidth": 0,
                          "ticks": ""
                        },
                        "colorscale": [
                          [
                            0,
                            "#0d0887"
                          ],
                          [
                            0.1111111111111111,
                            "#46039f"
                          ],
                          [
                            0.2222222222222222,
                            "#7201a8"
                          ],
                          [
                            0.3333333333333333,
                            "#9c179e"
                          ],
                          [
                            0.4444444444444444,
                            "#bd3786"
                          ],
                          [
                            0.5555555555555556,
                            "#d8576b"
                          ],
                          [
                            0.6666666666666666,
                            "#ed7953"
                          ],
                          [
                            0.7777777777777778,
                            "#fb9f3a"
                          ],
                          [
                            0.8888888888888888,
                            "#fdca26"
                          ],
                          [
                            1,
                            "#f0f921"
                          ]
                        ],
                        "type": "histogram2dcontour"
                      }
                    ],
                    "mesh3d": [
                      {
                        "colorbar": {
                          "outlinewidth": 0,
                          "ticks": ""
                        },
                        "type": "mesh3d"
                      }
                    ],
                    "parcoords": [
                      {
                        "line": {
                          "colorbar": {
                            "outlinewidth": 0,
                            "ticks": ""
                          }
                        },
                        "type": "parcoords"
                      }
                    ],
                    "pie": [
                      {
                        "automargin": true,
                        "type": "pie"
                      }
                    ],
                    "scatter": [
                      {
                        "fillpattern": {
                          "fillmode": "overlay",
                          "size": 10,
                          "solidity": 0.2
                        },
                        "type": "scatter"
                      }
                    ],
                    "scatter3d": [
                      {
                        "line": {
                          "colorbar": {
                            "outlinewidth": 0,
                            "ticks": ""
                          }
                        },
                        "marker": {
                          "colorbar": {
                            "outlinewidth": 0,
                            "ticks": ""
                          }
                        },
                        "type": "scatter3d"
                      }
                    ],
                    "scattercarpet": [
                      {
                        "marker": {
                          "colorbar": {
                            "outlinewidth": 0,
                            "ticks": ""
                          }
                        },
                        "type": "scattercarpet"
                      }
                    ],
                    "scattergeo": [
                      {
                        "marker": {
                          "colorbar": {
                            "outlinewidth": 0,
                            "ticks": ""
                          }
                        },
                        "type": "scattergeo"
                      }
                    ],
                    "scattergl": [
                      {
                        "marker": {
                          "colorbar": {
                            "outlinewidth": 0,
                            "ticks": ""
                          }
                        },
                        "type": "scattergl"
                      }
                    ],
                    "scattermapbox": [
                      {
                        "marker": {
                          "colorbar": {
                            "outlinewidth": 0,
                            "ticks": ""
                          }
                        },
                        "type": "scattermapbox"
                      }
                    ],
                    "scatterpolar": [
                      {
                        "marker": {
                          "colorbar": {
                            "outlinewidth": 0,
                            "ticks": ""
                          }
                        },
                        "type": "scatterpolar"
                      }
                    ],
                    "scatterpolargl": [
                      {
                        "marker": {
                          "colorbar": {
                            "outlinewidth": 0,
                            "ticks": ""
                          }
                        },
                        "type": "scatterpolargl"
                      }
                    ],
                    "scatterternary": [
                      {
                        "marker": {
                          "colorbar": {
                            "outlinewidth": 0,
                            "ticks": ""
                          }
                        },
                        "type": "scatterternary"
                      }
                    ],
                    "surface": [
                      {
                        "colorbar": {
                          "outlinewidth": 0,
                          "ticks": ""
                        },
                        "colorscale": [
                          [
                            0,
                            "#0d0887"
                          ],
                          [
                            0.1111111111111111,
                            "#46039f"
                          ],
                          [
                            0.2222222222222222,
                            "#7201a8"
                          ],
                          [
                            0.3333333333333333,
                            "#9c179e"
                          ],
                          [
                            0.4444444444444444,
                            "#bd3786"
                          ],
                          [
                            0.5555555555555556,
                            "#d8576b"
                          ],
                          [
                            0.6666666666666666,
                            "#ed7953"
                          ],
                          [
                            0.7777777777777778,
                            "#fb9f3a"
                          ],
                          [
                            0.8888888888888888,
                            "#fdca26"
                          ],
                          [
                            1,
                            "#f0f921"
                          ]
                        ],
                        "type": "surface"
                      }
                    ],
                    "table": [
                      {
                        "cells": {
                          "fill": {
                            "color": "#EBF0F8"
                          },
                          "line": {
                            "color": "white"
                          }
                        },
                        "header": {
                          "fill": {
                            "color": "#C8D4E3"
                          },
                          "line": {
                            "color": "white"
                          }
                        },
                        "type": "table"
                      }
                    ]
                  },
                  "layout": {
                    "annotationdefaults": {
                      "arrowcolor": "#2a3f5f",
                      "arrowhead": 0,
                      "arrowwidth": 1
                    },
                    "autotypenumbers": "strict",
                    "coloraxis": {
                      "colorbar": {
                        "outlinewidth": 0,
                        "ticks": ""
                      }
                    },
                    "colorscale": {
                      "diverging": [
                        [
                          0,
                          "#8e0152"
                        ],
                        [
                          0.1,
                          "#c51b7d"
                        ],
                        [
                          0.2,
                          "#de77ae"
                        ],
                        [
                          0.3,
                          "#f1b6da"
                        ],
                        [
                          0.4,
                          "#fde0ef"
                        ],
                        [
                          0.5,
                          "#f7f7f7"
                        ],
                        [
                          0.6,
                          "#e6f5d0"
                        ],
                        [
                          0.7,
                          "#b8e186"
                        ],
                        [
                          0.8,
                          "#7fbc41"
                        ],
                        [
                          0.9,
                          "#4d9221"
                        ],
                        [
                          1,
                          "#276419"
                        ]
                      ],
                      "sequential": [
                        [
                          0,
                          "#0d0887"
                        ],
                        [
                          0.1111111111111111,
                          "#46039f"
                        ],
                        [
                          0.2222222222222222,
                          "#7201a8"
                        ],
                        [
                          0.3333333333333333,
                          "#9c179e"
                        ],
                        [
                          0.4444444444444444,
                          "#bd3786"
                        ],
                        [
                          0.5555555555555556,
                          "#d8576b"
                        ],
                        [
                          0.6666666666666666,
                          "#ed7953"
                        ],
                        [
                          0.7777777777777778,
                          "#fb9f3a"
                        ],
                        [
                          0.8888888888888888,
                          "#fdca26"
                        ],
                        [
                          1,
                          "#f0f921"
                        ]
                      ],
                      "sequentialminus": [
                        [
                          0,
                          "#0d0887"
                        ],
                        [
                          0.1111111111111111,
                          "#46039f"
                        ],
                        [
                          0.2222222222222222,
                          "#7201a8"
                        ],
                        [
                          0.3333333333333333,
                          "#9c179e"
                        ],
                        [
                          0.4444444444444444,
                          "#bd3786"
                        ],
                        [
                          0.5555555555555556,
                          "#d8576b"
                        ],
                        [
                          0.6666666666666666,
                          "#ed7953"
                        ],
                        [
                          0.7777777777777778,
                          "#fb9f3a"
                        ],
                        [
                          0.8888888888888888,
                          "#fdca26"
                        ],
                        [
                          1,
                          "#f0f921"
                        ]
                      ]
                    },
                    "colorway": [
                      "#636efa",
                      "#EF553B",
                      "#00cc96",
                      "#ab63fa",
                      "#FFA15A",
                      "#19d3f3",
                      "#FF6692",
                      "#B6E880",
                      "#FF97FF",
                      "#FECB52"
                    ],
                    "font": {
                      "color": "#2a3f5f"
                    },
                    "geo": {
                      "bgcolor": "white",
                      "lakecolor": "white",
                      "landcolor": "#E5ECF6",
                      "showlakes": true,
                      "showland": true,
                      "subunitcolor": "white"
                    },
                    "hoverlabel": {
                      "align": "left"
                    },
                    "hovermode": "closest",
                    "mapbox": {
                      "style": "light"
                    },
                    "paper_bgcolor": "white",
                    "plot_bgcolor": "#E5ECF6",
                    "polar": {
                      "angularaxis": {
                        "gridcolor": "white",
                        "linecolor": "white",
                        "ticks": ""
                      },
                      "bgcolor": "#E5ECF6",
                      "radialaxis": {
                        "gridcolor": "white",
                        "linecolor": "white",
                        "ticks": ""
                      }
                    },
                    "scene": {
                      "xaxis": {
                        "backgroundcolor": "#E5ECF6",
                        "gridcolor": "white",
                        "gridwidth": 2,
                        "linecolor": "white",
                        "showbackground": true,
                        "ticks": "",
                        "zerolinecolor": "white"
                      },
                      "yaxis": {
                        "backgroundcolor": "#E5ECF6",
                        "gridcolor": "white",
                        "gridwidth": 2,
                        "linecolor": "white",
                        "showbackground": true,
                        "ticks": "",
                        "zerolinecolor": "white"
                      },
                      "zaxis": {
                        "backgroundcolor": "#E5ECF6",
                        "gridcolor": "white",
                        "gridwidth": 2,
                        "linecolor": "white",
                        "showbackground": true,
                        "ticks": "",
                        "zerolinecolor": "white"
                      }
                    },
                    "shapedefaults": {
                      "line": {
                        "color": "#2a3f5f"
                      }
                    },
                    "ternary": {
                      "aaxis": {
                        "gridcolor": "white",
                        "linecolor": "white",
                        "ticks": ""
                      },
                      "baxis": {
                        "gridcolor": "white",
                        "linecolor": "white",
                        "ticks": ""
                      },
                      "bgcolor": "#E5ECF6",
                      "caxis": {
                        "gridcolor": "white",
                        "linecolor": "white",
                        "ticks": ""
                      }
                    },
                    "title": {
                      "x": 0.05
                    },
                    "xaxis": {
                      "automargin": true,
                      "gridcolor": "white",
                      "linecolor": "white",
                      "ticks": "",
                      "title": {
                        "standoff": 15
                      },
                      "zerolinecolor": "white",
                      "zerolinewidth": 2
                    },
                    "yaxis": {
                      "automargin": true,
                      "gridcolor": "white",
                      "linecolor": "white",
                      "ticks": "",
                      "title": {
                        "standoff": 15
                      },
                      "zerolinecolor": "white",
                      "zerolinewidth": 2
                    }
                  }
                },
                "title": {
                  "text": "Hyperparameter Importances"
                },
                "xaxis": {
                  "title": {
                    "text": "Hyperparameter Importance"
                  }
                },
                "yaxis": {
                  "title": {
                    "text": "Hyperparameter"
                  }
                }
              }
            }
          },
          "metadata": {},
          "output_type": "display_data"
        }
      ],
      "source": [
        "# Gráfico de importancia de parámetros\n",
        "plot_param_importances(study)"
      ]
    },
    {
      "cell_type": "markdown",
      "metadata": {},
      "source": [
        "A partir del gráfico de importancias de hiperparámetros proporcionado, se puede observar que los dos hiperparámetros con mayor relevancia para la optimización de su modelo son **max_leaves** y **learning_rate**.\n",
        "\n",
        "El hiperparámetro **max_leaves** tiene una importancia de 0.61, lo que lo convierte en el más influyente en el desempeño del modelo. Esto sugiere que el número máximo de hojas en el árbol de decisión tiene un impacto significativo en el valor objetivo del modelo. Por lo tanto, ajustar adecuadamente este parámetro puede resultar crucial para mejorar el rendimiento del modelo.\n",
        "\n",
        "Por otro lado, **learning_rate** presenta una importancia de 0.31, indicando que la tasa de aprendizaje también juega un papel crucial en la optimización del modelo. Este parámetro, al igual que max_leaves, debe ser ajustado con cuidado, ya que puede tener un efecto considerable en el rendimiento final del modelo.\n",
        "\n",
        "En comparación, los demás hiperparámetros tienen una importancia mucho menor:\n",
        "\n",
        "- **reg_lambda**: 0.04\n",
        "- **reg_alpha**: 0.03\n",
        "- **n_estimators**: 0.02\n",
        "- **max_depth**: <0.01\n",
        "- **min_child_weight**: <0.01\n",
        "\n",
        "Esto indica que, aunque estos hiperparámetros también contribuyen al rendimiento del modelo, su impacto es significativamente menor que el de max_leaves y learning_rate. Por consiguiente, se recomienda enfocar la mayor parte del esfuerzo de optimización en ajustar estos dos hiperparámetros para mejorar el rendimiento del modelo."
      ]
    },
    {
      "cell_type": "markdown",
      "metadata": {
        "cell_id": "ac8a20f445d045a3becf1a518d410a7d",
        "deepnote_cell_type": "markdown",
        "id": "EoW32TA9I5wA"
      },
      "source": [
        "## 6. Síntesis de resultados (0.3)\n",
        "\n",
        "Finalmente:\n",
        "\n",
        "1. Genere una tabla resumen del MAE obtenido en los 5 modelos entrenados desde Baseline hasta XGBoost con Constraints, Optuna y Prunning.\n",
        "2. Compare los resultados de la tabla y responda, ¿qué modelo obtiene el mejor rendimiento?\n",
        "3. Cargue el mejor modelo, prediga sobre el conjunto de **test** y reporte su MAE.\n",
        "4. ¿Existen diferencias con respecto a las métricas obtenidas en el conjunto de validación? ¿Porqué puede ocurrir esto?"
      ]
    },
    {
      "cell_type": "code",
      "execution_count": 51,
      "metadata": {
        "id": "jq5C6cDnJg9h"
      },
      "outputs": [
        {
          "data": {
            "text/html": [
              "<div>\n",
              "<style scoped>\n",
              "    .dataframe tbody tr th:only-of-type {\n",
              "        vertical-align: middle;\n",
              "    }\n",
              "\n",
              "    .dataframe tbody tr th {\n",
              "        vertical-align: top;\n",
              "    }\n",
              "\n",
              "    .dataframe thead th {\n",
              "        text-align: right;\n",
              "    }\n",
              "</style>\n",
              "<table border=\"1\" class=\"dataframe\">\n",
              "  <thead>\n",
              "    <tr style=\"text-align: right;\">\n",
              "      <th></th>\n",
              "      <th>Modelo</th>\n",
              "      <th>MAE</th>\n",
              "    </tr>\n",
              "  </thead>\n",
              "  <tbody>\n",
              "    <tr>\n",
              "      <th>0</th>\n",
              "      <td>DummyRegressor</td>\n",
              "      <td>13298.497767</td>\n",
              "    </tr>\n",
              "    <tr>\n",
              "      <th>1</th>\n",
              "      <td>XGBRegressor (por defecto)</td>\n",
              "      <td>162.195255</td>\n",
              "    </tr>\n",
              "    <tr>\n",
              "      <th>2</th>\n",
              "      <td>XGBRegressor (con restricciones)</td>\n",
              "      <td>156.243885</td>\n",
              "    </tr>\n",
              "    <tr>\n",
              "      <th>3</th>\n",
              "      <td>XGBRegressor (con optimización)</td>\n",
              "      <td>134.151960</td>\n",
              "    </tr>\n",
              "    <tr>\n",
              "      <th>4</th>\n",
              "      <td>XGBRegressor (con optimization y prunning)</td>\n",
              "      <td>134.764592</td>\n",
              "    </tr>\n",
              "  </tbody>\n",
              "</table>\n",
              "</div>"
            ],
            "text/plain": [
              "                                       Modelo           MAE\n",
              "0                              DummyRegressor  13298.497767\n",
              "1                  XGBRegressor (por defecto)    162.195255\n",
              "2            XGBRegressor (con restricciones)    156.243885\n",
              "3             XGBRegressor (con optimización)    134.151960\n",
              "4  XGBRegressor (con optimization y prunning)    134.764592"
            ]
          },
          "execution_count": 51,
          "metadata": {},
          "output_type": "execute_result"
        }
      ],
      "source": [
        "# Inserte su código acá\n",
        "mae1 = mean_absolute_error(validation_df['quantity'], pipeline.predict(validation_df))\n",
        "mae2 = mean_absolute_error(validation_df['quantity'], pipeline_xgb.predict(validation_df))  # XBRegressor por defecto\n",
        "mae3 = mean_absolute_error(validation_df['quantity'], pipeline_xgb_constrained.predict(validation_df))  # XBRegressor con restricciones\n",
        "mae4 = mean_absolute_error(validation_df['quantity'], pipeline_optimized.predict(validation_df))  # XBRegressor con optimización\n",
        "mae5 = mean_absolute_error(validation_df['quantity'], pipeline_optimized_pruning.predict(validation_df))  # XBRegressor con optimización y prunning\n",
        "\n",
        "mae_df = pd.DataFrame(\n",
        "    {\n",
        "        \"Modelo\": [\"DummyRegressor\", \"XGBRegressor (por defecto)\", \"XGBRegressor (con restricciones)\", \"XGBRegressor (con optimización)\", \"XGBRegressor (con optimization y prunning)\"],\n",
        "        \"MAE\": [mae1, mae2, mae3, mae4, mae5],\n",
        "    }\n",
        ")\n",
        "\n",
        "mae_df"
      ]
    },
    {
      "cell_type": "markdown",
      "metadata": {},
      "source": [
        "Al analizar estos valores, se observa que el modelo **XGBRegressor (con optimización)** obtiene el mejor rendimiento con un MAE de 134.151960. Este valor es el más bajo entre todos los modelos evaluados, lo que indica que las predicciones realizadas por este modelo están más cerca de los valores reales en comparación con los otros modelos.\n",
        "\n",
        "El modelo **XGBRegressor (con optimización y pruning)** también muestra un rendimiento muy bueno, con un MAE de 134.764592, ligeramente superior al del modelo optimizado sin pruning. Ambos modelos optimizados mejoran significativamente el rendimiento en comparación con el modelo **XGBRegressor (por defecto)** y el **XGBRegressor (con restricciones)**, y son mucho más precisos que el **DummyRegressor**.\n",
        "\n",
        "En conclusión, el modelo **XGBRegressor (con optimización)** es el que obtiene el mejor rendimiento, dado su MAE más bajo de 134.151960, lo que indica una mayor precisión en sus predicciones en comparación con los otros modelos considerados."
      ]
    },
    {
      "cell_type": "code",
      "execution_count": 56,
      "metadata": {},
      "outputs": [
        {
          "name": "stdout",
          "output_type": "stream",
          "text": [
            "MAE: 140.95\n"
          ]
        }
      ],
      "source": [
        "mae_test = mean_absolute_error(test_df['quantity'], pipeline_optimized.predict(test_df))\n",
        "print(f\"MAE: {mae_test:.2f}\")"
      ]
    },
    {
      "cell_type": "markdown",
      "metadata": {},
      "source": [
        "Al comparar este resultado con las métricas obtenidas en el conjunto de validación, observamos que el mejor modelo (XGBRegressor con optimización) tenía un MAE de 134.15 en el conjunto de validación. La diferencia entre el MAE del conjunto de validación y el conjunto de test es de aproximadamente 6.8.\n",
        "\n",
        "Existen varias razones por las cuales esta diferencia puede ocurrir. En primer lugar, la variabilidad en los datos puede influir significativamente. Es posible que el conjunto de test tenga características o distribuciones ligeramente diferentes a las del conjunto de validación, lo que puede afectar el rendimiento del modelo.\n",
        "\n",
        "Otra razón posible es el sobreajuste. Aunque el modelo se optimizó bien en el conjunto de validación, puede haber ocurrido un ligero sobreajuste a esos datos específicos. Esto se manifiesta cuando el modelo se desempeña un poco peor en datos no vistos, como el conjunto de test.\n",
        "\n",
        "También es importante considerar la representatividad de las muestras. Si el conjunto de validación no es completamente representativo de todas las posibles variaciones en los datos, mientras que el conjunto de test presenta una distribución más amplia de casos, esto puede explicar la diferencia en el rendimiento.\n",
        "\n",
        "Finalmente, la aleatoriedad inherente en los datos puede contribuir a esta variabilidad. Incluso con un buen modelo, siempre habrá alguna variabilidad en el rendimiento entre diferentes subconjuntos de datos.\n",
        "\n",
        "En resumen, aunque el MAE del conjunto de test es ligeramente superior al del conjunto de validación, sigue estando en un rango razonable. Esto sugiere que el modelo generaliza bien, aunque siempre es importante asegurarse de que los datos de validación y test sean lo más representativos posible del problema general para minimizar estas diferencias."
      ]
    },
    {
      "cell_type": "markdown",
      "metadata": {
        "cell_id": "5c4654d12037494fbd385b4dc6bd1059",
        "deepnote_cell_type": "markdown",
        "id": "E_19tgBEI5wA"
      },
      "source": [
        "# Conclusión\n",
        "Eso ha sido todo para el lab de hoy, recuerden que el laboratorio tiene un plazo de entrega de una semana. Cualquier duda del laboratorio, no duden en contactarnos por mail o U-cursos.\n",
        "\n",
        "<p align=\"center\">\n",
        "  <img src=\"https://media.tenor.com/8CT1AXElF_cAAAAC/gojo-satoru.gif\">\n",
        "</p>"
      ]
    },
    {
      "cell_type": "markdown",
      "metadata": {
        "created_in_deepnote_cell": true,
        "deepnote_cell_type": "markdown",
        "id": "rAp9UxwiI5wA"
      },
      "source": [
        "<a style='text-decoration:none;line-height:16px;display:flex;color:#5B5B62;padding:10px;justify-content:end;' href='https://deepnote.com?utm_source=created-in-deepnote-cell&projectId=87110296-876e-426f-b91d-aaf681223468' target=\"_blank\">\n",
        "<img alt='Created in deepnote.com' style='display:inline;max-height:16px;margin:0px;margin-right:7.5px;' src='data:image/svg+xml;base64,PD94bWwgdmVyc2lvbj0iMS4wIiBlbmNvZGluZz0iVVRGLTgiPz4KPHN2ZyB3aWR0aD0iODBweCIgaGVpZ2h0PSI4MHB4IiB2aWV3Qm94PSIwIDAgODAgODAiIHZlcnNpb249IjEuMSIgeG1sbnM9Imh0dHA6Ly93d3cudzMub3JnLzIwMDAvc3ZnIiB4bWxuczp4bGluaz0iaHR0cDovL3d3dy53My5vcmcvMTk5OS94bGluayI+CiAgICA8IS0tIEdlbmVyYXRvcjogU2tldGNoIDU0LjEgKDc2NDkwKSAtIGh0dHBzOi8vc2tldGNoYXBwLmNvbSAtLT4KICAgIDx0aXRsZT5Hcm91cCAzPC90aXRsZT4KICAgIDxkZXNjPkNyZWF0ZWQgd2l0aCBTa2V0Y2guPC9kZXNjPgogICAgPGcgaWQ9IkxhbmRpbmciIHN0cm9rZT0ibm9uZSIgc3Ryb2tlLXdpZHRoPSIxIiBmaWxsPSJub25lIiBmaWxsLXJ1bGU9ImV2ZW5vZGQiPgogICAgICAgIDxnIGlkPSJBcnRib2FyZCIgdHJhbnNmb3JtPSJ0cmFuc2xhdGUoLTEyMzUuMDAwMDAwLCAtNzkuMDAwMDAwKSI+CiAgICAgICAgICAgIDxnIGlkPSJHcm91cC0zIiB0cmFuc2Zvcm09InRyYW5zbGF0ZSgxMjM1LjAwMDAwMCwgNzkuMDAwMDAwKSI+CiAgICAgICAgICAgICAgICA8cG9seWdvbiBpZD0iUGF0aC0yMCIgZmlsbD0iIzAyNjVCNCIgcG9pbnRzPSIyLjM3NjIzNzYyIDgwIDM4LjA0NzY2NjcgODAgNTcuODIxNzgyMiA3My44MDU3NTkyIDU3LjgyMTc4MjIgMzIuNzU5MjczOSAzOS4xNDAyMjc4IDMxLjY4MzE2ODMiPjwvcG9seWdvbj4KICAgICAgICAgICAgICAgIDxwYXRoIGQ9Ik0zNS4wMDc3MTgsODAgQzQyLjkwNjIwMDcsNzYuNDU0OTM1OCA0Ny41NjQ5MTY3LDcxLjU0MjI2NzEgNDguOTgzODY2LDY1LjI2MTk5MzkgQzUxLjExMjI4OTksNTUuODQxNTg0MiA0MS42NzcxNzk1LDQ5LjIxMjIyODQgMjUuNjIzOTg0Niw0OS4yMTIyMjg0IEMyNS40ODQ5Mjg5LDQ5LjEyNjg0NDggMjkuODI2MTI5Niw0My4yODM4MjQ4IDM4LjY0NzU4NjksMzEuNjgzMTY4MyBMNzIuODcxMjg3MSwzMi41NTQ0MjUgTDY1LjI4MDk3Myw2Ny42NzYzNDIxIEw1MS4xMTIyODk5LDc3LjM3NjE0NCBMMzUuMDA3NzE4LDgwIFoiIGlkPSJQYXRoLTIyIiBmaWxsPSIjMDAyODY4Ij48L3BhdGg+CiAgICAgICAgICAgICAgICA8cGF0aCBkPSJNMCwzNy43MzA0NDA1IEwyNy4xMTQ1MzcsMC4yNTcxMTE0MzYgQzYyLjM3MTUxMjMsLTEuOTkwNzE3MDEgODAsMTAuNTAwMzkyNyA4MCwzNy43MzA0NDA1IEM4MCw2NC45NjA0ODgyIDY0Ljc3NjUwMzgsNzkuMDUwMzQxNCAzNC4zMjk1MTEzLDgwIEM0Ny4wNTUzNDg5LDc3LjU2NzA4MDggNTMuNDE4MjY3Nyw3MC4zMTM2MTAzIDUzLjQxODI2NzcsNTguMjM5NTg4NSBDNTMuNDE4MjY3Nyw0MC4xMjg1NTU3IDM2LjMwMzk1NDQsMzcuNzMwNDQwNSAyNS4yMjc0MTcsMzcuNzMwNDQwNSBDMTcuODQzMDU4NiwzNy43MzA0NDA1IDkuNDMzOTE5NjYsMzcuNzMwNDQwNSAwLDM3LjczMDQ0MDUgWiIgaWQ9IlBhdGgtMTkiIGZpbGw9IiMzNzkzRUYiPjwvcGF0aD4KICAgICAgICAgICAgPC9nPgogICAgICAgIDwvZz4KICAgIDwvZz4KPC9zdmc+' > </img>\n",
        "Created in <span style='font-weight:600;margin-left:4px;'>Deepnote</span></a>"
      ]
    }
  ],
  "metadata": {
    "colab": {
      "collapsed_sections": [
        "ZglyD_QWI5wA",
        "ZMiiVaCUI5wA",
        "EoW32TA9I5wA",
        "E_19tgBEI5wA"
      ],
      "provenance": []
    },
    "deepnote": {},
    "deepnote_execution_queue": [],
    "deepnote_notebook_id": "f63d38450a6b464c9bb6385cf11db4d9",
    "deepnote_persisted_session": {
      "createdAt": "2023-11-09T16:18:30.203Z"
    },
    "kernelspec": {
      "display_name": "base",
      "language": "python",
      "name": "python3"
    },
    "language_info": {
      "codemirror_mode": {
        "name": "ipython",
        "version": 3
      },
      "file_extension": ".py",
      "mimetype": "text/x-python",
      "name": "python",
      "nbconvert_exporter": "python",
      "pygments_lexer": "ipython3",
      "version": "3.11.5"
    }
  },
  "nbformat": 4,
  "nbformat_minor": 0
}
